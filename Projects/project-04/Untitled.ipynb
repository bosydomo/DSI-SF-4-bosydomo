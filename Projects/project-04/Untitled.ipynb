{
 "cells": [
  {
   "cell_type": "code",
   "execution_count": 27,
   "metadata": {
    "collapsed": false
   },
   "outputs": [
    {
     "name": "stdout",
     "output_type": "stream",
     "text": [
      "Requesting query... ok.\n",
      "Query running...\n",
      "  Elapsed 11.01 s. Waiting...\n",
      "  Elapsed 21.5 s. Waiting...\n",
      "Query done.\n",
      "Processed: 277.3 Mb\n",
      "\n",
      "Retrieving results...\n",
      "  Got page: 1; 1.0% done. Elapsed 31.95 s.\n",
      "  Got page: 2; 2.0% done. Elapsed 37.34 s.\n",
      "  Got page: 3; 3.0% done. Elapsed 41.99 s.\n",
      "  Got page: 4; 4.0% done. Elapsed 48.2 s.\n",
      "  Got page: 5; 5.0% done. Elapsed 53.08 s.\n",
      "  Got page: 6; 6.0% done. Elapsed 58.09 s.\n",
      "  Got page: 7; 7.0% done. Elapsed 63.61 s.\n",
      "  Got page: 8; 8.0% done. Elapsed 68.47 s.\n",
      "  Got page: 9; 9.0% done. Elapsed 73.71 s.\n",
      "  Got page: 10; 10.0% done. Elapsed 78.52 s.\n",
      "  Got page: 11; 11.0% done. Elapsed 83.91 s.\n",
      "  Got page: 12; 12.0% done. Elapsed 89.62 s.\n",
      "  Got page: 13; 13.0% done. Elapsed 94.11 s.\n",
      "  Got page: 14; 14.0% done. Elapsed 98.71 s.\n",
      "  Got page: 15; 15.0% done. Elapsed 104.8 s.\n",
      "  Got page: 16; 16.0% done. Elapsed 109.75 s.\n",
      "  Got page: 17; 17.0% done. Elapsed 115.27 s.\n",
      "  Got page: 18; 18.0% done. Elapsed 120.33 s.\n",
      "  Got page: 19; 19.0% done. Elapsed 125.64 s.\n",
      "  Got page: 20; 20.0% done. Elapsed 131.07 s.\n",
      "  Got page: 21; 21.0% done. Elapsed 135.96 s.\n",
      "  Got page: 22; 22.0% done. Elapsed 141.8 s.\n",
      "  Got page: 23; 23.0% done. Elapsed 146.53 s.\n",
      "  Got page: 24; 24.0% done. Elapsed 152.79 s.\n",
      "  Got page: 25; 25.0% done. Elapsed 157.91 s.\n",
      "  Got page: 26; 26.0% done. Elapsed 163.11 s.\n",
      "  Got page: 27; 27.0% done. Elapsed 168.82 s.\n",
      "  Got page: 28; 28.0% done. Elapsed 174.51 s.\n",
      "  Got page: 29; 29.0% done. Elapsed 179.49 s.\n",
      "  Got page: 30; 30.0% done. Elapsed 185.17 s.\n",
      "  Got page: 31; 31.0% done. Elapsed 191.09 s.\n",
      "  Got page: 32; 32.0% done. Elapsed 196.21 s.\n",
      "  Got page: 33; 33.0% done. Elapsed 201.39 s.\n",
      "  Got page: 34; 34.0% done. Elapsed 207.02 s.\n",
      "  Got page: 35; 35.0% done. Elapsed 212.48 s.\n",
      "  Got page: 36; 36.0% done. Elapsed 218.04 s.\n",
      "  Got page: 37; 37.0% done. Elapsed 223.9 s.\n",
      "  Got page: 38; 38.0% done. Elapsed 231.87 s.\n",
      "  Got page: 39; 39.0% done. Elapsed 238.51 s.\n",
      "  Got page: 40; 40.0% done. Elapsed 244.46 s.\n",
      "  Got page: 41; 41.0% done. Elapsed 250.39 s.\n",
      "  Got page: 42; 42.0% done. Elapsed 256.12 s.\n",
      "  Got page: 43; 43.0% done. Elapsed 261.43 s.\n",
      "  Got page: 44; 44.0% done. Elapsed 268.66 s.\n",
      "  Got page: 45; 45.0% done. Elapsed 274.51 s.\n",
      "  Got page: 46; 46.0% done. Elapsed 280.64 s.\n",
      "  Got page: 47; 47.0% done. Elapsed 285.66 s.\n",
      "  Got page: 48; 48.0% done. Elapsed 291.06 s.\n",
      "  Got page: 49; 49.0% done. Elapsed 296.49 s.\n",
      "  Got page: 50; 50.0% done. Elapsed 310.31 s.\n",
      "  Got page: 51; 51.0% done. Elapsed 315.88 s.\n",
      "  Got page: 52; 52.0% done. Elapsed 321.66 s.\n",
      "  Got page: 53; 53.0% done. Elapsed 327.2 s.\n",
      "  Got page: 54; 54.0% done. Elapsed 332.97 s.\n",
      "  Got page: 55; 55.0% done. Elapsed 338.64 s.\n",
      "  Got page: 56; 56.0% done. Elapsed 344.15 s.\n",
      "  Got page: 57; 57.0% done. Elapsed 350.13 s.\n",
      "  Got page: 58; 58.0% done. Elapsed 356.2 s.\n",
      "  Got page: 59; 59.0% done. Elapsed 362.32 s.\n",
      "  Got page: 60; 60.0% done. Elapsed 368.49 s.\n",
      "  Got page: 61; 61.0% done. Elapsed 374.58 s.\n",
      "  Got page: 62; 62.0% done. Elapsed 380.39 s.\n",
      "  Got page: 63; 63.0% done. Elapsed 387.86 s.\n",
      "  Got page: 64; 64.0% done. Elapsed 394.01 s.\n",
      "  Got page: 65; 65.0% done. Elapsed 401.0 s.\n",
      "  Got page: 66; 66.0% done. Elapsed 407.02 s.\n",
      "  Got page: 67; 67.0% done. Elapsed 431.76 s.\n",
      "  Got page: 68; 68.0% done. Elapsed 438.5 s.\n",
      "  Got page: 69; 69.0% done. Elapsed 446.21 s.\n",
      "  Got page: 70; 70.0% done. Elapsed 451.8 s.\n",
      "  Got page: 71; 71.0% done. Elapsed 458.48 s.\n",
      "  Got page: 72; 72.0% done. Elapsed 466.15 s.\n",
      "  Got page: 73; 73.0% done. Elapsed 473.56 s.\n",
      "  Got page: 74; 74.0% done. Elapsed 480.82 s.\n",
      "  Got page: 75; 75.0% done. Elapsed 486.53 s.\n",
      "  Got page: 76; 76.0% done. Elapsed 492.64 s.\n",
      "  Got page: 77; 77.0% done. Elapsed 499.35 s.\n",
      "  Got page: 78; 78.0% done. Elapsed 506.14 s.\n",
      "  Got page: 79; 79.0% done. Elapsed 512.35 s.\n",
      "  Got page: 80; 80.0% done. Elapsed 519.06 s.\n",
      "  Got page: 81; 81.0% done. Elapsed 526.6 s.\n",
      "  Got page: 82; 82.0% done. Elapsed 533.12 s.\n",
      "  Got page: 83; 83.0% done. Elapsed 538.49 s.\n",
      "  Got page: 84; 84.0% done. Elapsed 546.6 s.\n",
      "  Got page: 85; 85.0% done. Elapsed 552.3 s.\n",
      "  Got page: 86; 86.0% done. Elapsed 559.22 s.\n",
      "  Got page: 87; 87.0% done. Elapsed 590.46 s.\n",
      "  Got page: 88; 88.0% done. Elapsed 597.83 s.\n",
      "  Got page: 89; 89.0% done. Elapsed 603.78 s.\n",
      "  Got page: 90; 90.0% done. Elapsed 611.42 s.\n",
      "  Got page: 91; 91.0% done. Elapsed 618.95 s.\n",
      "  Got page: 92; 92.0% done. Elapsed 626.03 s.\n",
      "  Got page: 93; 93.0% done. Elapsed 632.85 s.\n",
      "  Got page: 94; 94.0% done. Elapsed 639.17 s.\n",
      "  Got page: 95; 95.0% done. Elapsed 645.3 s.\n",
      "  Got page: 96; 96.0% done. Elapsed 652.84 s.\n",
      "  Got page: 97; 97.0% done. Elapsed 658.91 s.\n",
      "  Got page: 98; 98.0% done. Elapsed 666.83 s.\n",
      "  Got page: 99; 99.0% done. Elapsed 674.91 s.\n",
      "  Got page: 100; 100.0% done. Elapsed 680.38 s.\n",
      "Got 322398 rows.\n",
      "\n",
      "Total time taken 787.53 s.\n",
      "Finished at 2016-12-16 16:57:19.\n",
      "Requesting query... ok.\n",
      "Query running...\n",
      "Query done.\n",
      "Processed: 25.2 Mb\n",
      "\n",
      "Retrieving results...\n",
      "  Got page: 1; 21.0% done. Elapsed 10.54 s.\n",
      "  Got page: 2; 42.0% done. Elapsed 16.71 s.\n",
      "  Got page: 3; 62.0% done. Elapsed 22.55 s.\n",
      "  Got page: 4; 83.0% done. Elapsed 28.54 s.\n",
      "  Got page: 5; 100.0% done. Elapsed 33.39 s.\n",
      "Got 152832 rows.\n",
      "\n",
      "Total time taken 38.41 s.\n",
      "Finished at 2016-12-16 16:57:58.\n"
     ]
    }
   ],
   "source": [
    "import pandas as pd\n",
    "import seaborn as sns\n",
    "\n",
    "%matplotlib inline\n",
    "\n",
    "project_id = \"big-query-dsi-ty\"\n",
    "\n",
    "sql_1 = \"\"\"\n",
    "SELECT * FROM [bigquery-dsi-dave:yelp_arizona.reviews] \n",
    "\"\"\"\n",
    "\n",
    "sql_2 = \"\"\"\n",
    "SELECT * FROM [bigquery-dsi-dave:yelp_arizona.businesses] \n",
    "\"\"\"\n",
    "\n",
    "sql_3 = \"\"\"\n",
    "SELECT * FROM [bigquery-dsi-dave:yelp_arizona.tips] \n",
    "\"\"\"\n",
    "\n",
    "df_reviews = pd.read_gbq(sql_1, project_id=project_id)\n",
    "\n",
    "df_business = pd.read_gbq(sql_2, project_id=project_id)\n",
    "\n",
    "#df_tips =  pd.read_gbq(sql_3, project_id=project_id)"
   ]
  },
  {
   "cell_type": "code",
   "execution_count": 4,
   "metadata": {
    "collapsed": false
   },
   "outputs": [],
   "source": [
    "#create a datafram for eachtable\n",
    "\n",
    "# df_tips\n",
    "# df_business\n",
    "# df_reviews\n",
    "# l=1"
   ]
  },
  {
   "cell_type": "code",
   "execution_count": 25,
   "metadata": {
    "collapsed": false
   },
   "outputs": [],
   "source": [
    "#Take the businessid and city from the business table to find the cities in the reviews dataframe\n",
    "X=df_business[[\"business_id\", \"city\"]]\n",
    "merged = df_reviews.merge(X, on=\"business_id\", how='inner')\n"
   ]
  },
  {
   "cell_type": "code",
   "execution_count": 26,
   "metadata": {
    "collapsed": false
   },
   "outputs": [
    {
     "data": {
      "text/plain": [
       "array([u'Phoenix'], dtype=object)"
      ]
     },
     "execution_count": 26,
     "metadata": {},
     "output_type": "execute_result"
    }
   ],
   "source": [
    "merged.city.unique()"
   ]
  },
  {
   "cell_type": "code",
   "execution_count": 23,
   "metadata": {
    "collapsed": false
   },
   "outputs": [
    {
     "data": {
      "text/plain": [
       "array([u'--jFTZmywe7StuZ2hEjxyA', u'-7PWVPeSkUulZV0KrGysUQ',\n",
       "       u'-PESvVv3rPQFAU1_cZ8_hw', u'-QMaaz6TS5DGuxyMg8kxQg',\n",
       "       u'00LMJtMir-rfTDOIKFA_jg', u'05fTEsjUPVo5jks8PpNKCQ',\n",
       "       u'0fIZF_Yi6NmhBnWz-8Bq5A', u'0ik871AZ59p77xpkA0RwSA'], dtype=object)"
      ]
     },
     "execution_count": 23,
     "metadata": {},
     "output_type": "execute_result"
    }
   ],
   "source": [
    "df_reviews[df_reviews.city == 'Las Vegas'].business_id.unique()"
   ]
  },
  {
   "cell_type": "code",
   "execution_count": null,
   "metadata": {
    "collapsed": true
   },
   "outputs": [],
   "source": []
  }
 ],
 "metadata": {
  "anaconda-cloud": {},
  "kernelspec": {
   "display_name": "Python [conda env:dsi]",
   "language": "python",
   "name": "conda-env-dsi-py"
  },
  "language_info": {
   "codemirror_mode": {
    "name": "ipython",
    "version": 2
   },
   "file_extension": ".py",
   "mimetype": "text/x-python",
   "name": "python",
   "nbconvert_exporter": "python",
   "pygments_lexer": "ipython2",
   "version": "2.7.12"
  }
 },
 "nbformat": 4,
 "nbformat_minor": 1
}
