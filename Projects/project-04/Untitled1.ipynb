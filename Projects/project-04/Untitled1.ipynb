{
 "cells": [
  {
   "cell_type": "markdown",
   "metadata": {},
   "source": [
    "# Capstone Project Ideas\n",
    "\n",
    "## Idea 1 \n",
    "\n",
    "Create a model based on Dota2. This will predict the probablity of a win/loss between 2 teams based on team selection and host of other variables related to the team.\n",
    "\n",
    "## Idea 2\n",
    "Create a project which will model a straddle on certain stock and predict the probablity of profit/loss coniniously or at certain time intervals i.e"
   ]
  },
  {
   "cell_type": "code",
   "execution_count": null,
   "metadata": {
    "collapsed": true
   },
   "outputs": [],
   "source": []
  }
 ],
 "metadata": {
  "kernelspec": {
   "display_name": "Python [conda env:dsi]",
   "language": "python",
   "name": "conda-env-dsi-py"
  },
  "language_info": {
   "codemirror_mode": {
    "name": "ipython",
    "version": 2
   },
   "file_extension": ".py",
   "mimetype": "text/x-python",
   "name": "python",
   "nbconvert_exporter": "python",
   "pygments_lexer": "ipython2",
   "version": "2.7.12"
  }
 },
 "nbformat": 4,
 "nbformat_minor": 1
}
