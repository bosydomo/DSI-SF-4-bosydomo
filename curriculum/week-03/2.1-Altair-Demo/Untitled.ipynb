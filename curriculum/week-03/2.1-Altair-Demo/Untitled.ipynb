{
 "cells": [
  {
   "cell_type": "code",
   "execution_count": 52,
   "metadata": {
    "collapsed": true
   },
   "outputs": [],
   "source": [
    "import numpy as np\n",
    "import scipy.stats as stats\n",
    "import seaborn as sns\n",
    "import matplotlib.pyplot as plt\n",
    "import pandas as pd\n",
    "import imp\n",
    "\n"
   ]
  },
  {
   "cell_type": "code",
   "execution_count": 53,
   "metadata": {
    "collapsed": false
   },
   "outputs": [],
   "source": [
    "file1 =('/Users/tyronewilliams/Desktop/DSI-SF-4/datasets/highest_paid_athletes/Athletes.csv')\n",
    "df = pd.read_csv(file1)\n"
   ]
  },
  {
   "cell_type": "code",
   "execution_count": 54,
   "metadata": {
    "collapsed": false
   },
   "outputs": [],
   "source": [
    "df.columns =df.columns.map(lambda x: x.replace(\" \", \"_\").lower().replace(\"(\", \"\").replace(\")\",\"\").replace(\"/\",\"_\"))"
   ]
  },
  {
   "cell_type": "code",
   "execution_count": 75,
   "metadata": {
    "collapsed": false
   },
   "outputs": [
    {
     "data": {
      "text/html": [
       "<div>\n",
       "<table border=\"1\" class=\"dataframe\">\n",
       "  <thead>\n",
       "    <tr style=\"text-align: right;\">\n",
       "      <th></th>\n",
       "      <th>rank</th>\n",
       "      <th>name</th>\n",
       "      <th>sport</th>\n",
       "      <th>total_pay</th>\n",
       "      <th>salary_winnings</th>\n",
       "      <th>endorsements</th>\n",
       "      <th>nation</th>\n",
       "      <th>gender</th>\n",
       "      <th>year_of_birth</th>\n",
       "      <th>birth_date</th>\n",
       "      <th>place_of_birth</th>\n",
       "      <th>height_cm</th>\n",
       "      <th>wikipedia_page</th>\n",
       "      <th>dbpedia_page</th>\n",
       "      <th>image</th>\n",
       "      <th>description</th>\n",
       "    </tr>\n",
       "  </thead>\n",
       "  <tbody>\n",
       "    <tr>\n",
       "      <th>0</th>\n",
       "      <td>55</td>\n",
       "      <td>Aaron Rodgers</td>\n",
       "      <td>Football</td>\n",
       "      <td>22000000.0</td>\n",
       "      <td>14500000.0</td>\n",
       "      <td>7500000.0</td>\n",
       "      <td>United States</td>\n",
       "      <td>Male</td>\n",
       "      <td>1983</td>\n",
       "      <td>1983-02-12</td>\n",
       "      <td>Chico, California, United States</td>\n",
       "      <td>188</td>\n",
       "      <td>http://en.wikipedia.org/wiki/Aaron_Rodgers</td>\n",
       "      <td>dbpedia.org/resource/Aaron_Rodgers</td>\n",
       "      <td>http://commons.wikimedia.org/wiki/Special:File...</td>\n",
       "      <td>Aaron Charles Rodgers (born December 2, 1983) ...</td>\n",
       "    </tr>\n",
       "    <tr>\n",
       "      <th>1</th>\n",
       "      <td>95</td>\n",
       "      <td>Adam Scott</td>\n",
       "      <td>Golf</td>\n",
       "      <td>17700000.0</td>\n",
       "      <td>8700000.0</td>\n",
       "      <td>9000000.0</td>\n",
       "      <td>Australia</td>\n",
       "      <td>Male</td>\n",
       "      <td>1980</td>\n",
       "      <td>1980-07-16</td>\n",
       "      <td>Adelaide, Australia</td>\n",
       "      <td>183</td>\n",
       "      <td>https://en.wikipedia.org/wiki/Adam_Scott_(golfer)</td>\n",
       "      <td>dbpedia.org/resource/Adam_Scott_(golfer)</td>\n",
       "      <td>http://commons.wikimedia.org/wiki/Special:File...</td>\n",
       "      <td>Adam Derek Scott (born 16 July 1980) is an Aus...</td>\n",
       "    </tr>\n",
       "    <tr>\n",
       "      <th>2</th>\n",
       "      <td>60</td>\n",
       "      <td>Adrian Gonzalez</td>\n",
       "      <td>Baseball</td>\n",
       "      <td>21500000.0</td>\n",
       "      <td>21100000.0</td>\n",
       "      <td>400000.0</td>\n",
       "      <td>United States</td>\n",
       "      <td>Male</td>\n",
       "      <td>1982</td>\n",
       "      <td>1982-08-05</td>\n",
       "      <td>San Diego, California, United States</td>\n",
       "      <td>188</td>\n",
       "      <td>http://en.wikipedia.org/wiki/Adrian_Gonzalez</td>\n",
       "      <td>dbpedia.org/resource/Adrian_Gonzalez</td>\n",
       "      <td>http://commons.wikimedia.org/wiki/Special:File...</td>\n",
       "      <td>Adrian Gonzalez (born May 8, 1982), also known...</td>\n",
       "    </tr>\n",
       "    <tr>\n",
       "      <th>3</th>\n",
       "      <td>48</td>\n",
       "      <td>Alex Rodriguez</td>\n",
       "      <td>Baseball</td>\n",
       "      <td>22900000.0</td>\n",
       "      <td>22600000.0</td>\n",
       "      <td>300000.0</td>\n",
       "      <td>United States</td>\n",
       "      <td>Male</td>\n",
       "      <td>1975</td>\n",
       "      <td>1975-07-27</td>\n",
       "      <td>New York City</td>\n",
       "      <td>190</td>\n",
       "      <td>http://en.wikipedia.org/wiki/Alex_Rodriguez</td>\n",
       "      <td>dbpedia.org/resource/Alex_Rodriguez</td>\n",
       "      <td>http://commons.wikimedia.org/wiki/Special:File...</td>\n",
       "      <td>Alexander Emmanuel \" Alex \" Rodriguez (born Ju...</td>\n",
       "    </tr>\n",
       "    <tr>\n",
       "      <th>4</th>\n",
       "      <td>93</td>\n",
       "      <td>Alfonso Soriano</td>\n",
       "      <td>Baseball</td>\n",
       "      <td>18050000.0</td>\n",
       "      <td>18000000.0</td>\n",
       "      <td>50000.0</td>\n",
       "      <td>Dominican Republic</td>\n",
       "      <td>Male</td>\n",
       "      <td>1976</td>\n",
       "      <td>1976-07-01</td>\n",
       "      <td>San Pedro de Macorís, Dominican Republic</td>\n",
       "      <td>185</td>\n",
       "      <td>http://en.wikipedia.org/wiki/Alfonso_Soriano</td>\n",
       "      <td>dbpedia.org/resource/Alfonso_Soriano</td>\n",
       "      <td>http://commons.wikimedia.org/wiki/Special:File...</td>\n",
       "      <td>Alfonso Guilleard Soriano (born January 7, 197...</td>\n",
       "    </tr>\n",
       "  </tbody>\n",
       "</table>\n",
       "</div>"
      ],
      "text/plain": [
       "   rank             name     sport   total_pay  salary_winnings  endorsements  \\\n",
       "0    55    Aaron Rodgers  Football  22000000.0       14500000.0     7500000.0   \n",
       "1    95       Adam Scott      Golf  17700000.0        8700000.0     9000000.0   \n",
       "2    60  Adrian Gonzalez  Baseball  21500000.0       21100000.0      400000.0   \n",
       "3    48   Alex Rodriguez  Baseball  22900000.0       22600000.0      300000.0   \n",
       "4    93  Alfonso Soriano  Baseball  18050000.0       18000000.0       50000.0   \n",
       "\n",
       "               nation gender  year_of_birth birth_date  \\\n",
       "0       United States   Male           1983 1983-02-12   \n",
       "1           Australia   Male           1980 1980-07-16   \n",
       "2       United States   Male           1982 1982-08-05   \n",
       "3       United States   Male           1975 1975-07-27   \n",
       "4  Dominican Republic   Male           1976 1976-07-01   \n",
       "\n",
       "                             place_of_birth  height_cm  \\\n",
       "0          Chico, California, United States        188   \n",
       "1                       Adelaide, Australia        183   \n",
       "2      San Diego, California, United States        188   \n",
       "3                             New York City        190   \n",
       "4  San Pedro de Macorís, Dominican Republic        185   \n",
       "\n",
       "                                      wikipedia_page  \\\n",
       "0         http://en.wikipedia.org/wiki/Aaron_Rodgers   \n",
       "1  https://en.wikipedia.org/wiki/Adam_Scott_(golfer)   \n",
       "2       http://en.wikipedia.org/wiki/Adrian_Gonzalez   \n",
       "3        http://en.wikipedia.org/wiki/Alex_Rodriguez   \n",
       "4       http://en.wikipedia.org/wiki/Alfonso_Soriano   \n",
       "\n",
       "                               dbpedia_page  \\\n",
       "0        dbpedia.org/resource/Aaron_Rodgers   \n",
       "1  dbpedia.org/resource/Adam_Scott_(golfer)   \n",
       "2      dbpedia.org/resource/Adrian_Gonzalez   \n",
       "3       dbpedia.org/resource/Alex_Rodriguez   \n",
       "4      dbpedia.org/resource/Alfonso_Soriano   \n",
       "\n",
       "                                               image  \\\n",
       "0  http://commons.wikimedia.org/wiki/Special:File...   \n",
       "1  http://commons.wikimedia.org/wiki/Special:File...   \n",
       "2  http://commons.wikimedia.org/wiki/Special:File...   \n",
       "3  http://commons.wikimedia.org/wiki/Special:File...   \n",
       "4  http://commons.wikimedia.org/wiki/Special:File...   \n",
       "\n",
       "                                         description  \n",
       "0  Aaron Charles Rodgers (born December 2, 1983) ...  \n",
       "1  Adam Derek Scott (born 16 July 1980) is an Aus...  \n",
       "2  Adrian Gonzalez (born May 8, 1982), also known...  \n",
       "3  Alexander Emmanuel \" Alex \" Rodriguez (born Ju...  \n",
       "4  Alfonso Guilleard Soriano (born January 7, 197...  "
      ]
     },
     "execution_count": 75,
     "metadata": {},
     "output_type": "execute_result"
    }
   ],
   "source": [
    "df.head()"
   ]
  },
  {
   "cell_type": "code",
   "execution_count": 60,
   "metadata": {
    "collapsed": false
   },
   "outputs": [],
   "source": [
    "df.total_pay = df.total_pay.str.replace(\"$\",\"\").str.replace(\",\",\"\").astype(float)\n",
    "df.salary_winnings = df.salary_winnings.str.replace(\"$\",\"\").str.replace(\",\",\"\").astype(float)\n",
    "df.endorsements = df.endorsements.str.replace(\"$\",\"\").str.replace(\",\",\"\").astype(float)\n"
   ]
  },
  {
   "cell_type": "code",
   "execution_count": 64,
   "metadata": {
    "collapsed": false
   },
   "outputs": [],
   "source": [
    "df.birth_date = pd.to_datetime(df.birth_date)"
   ]
  },
  {
   "cell_type": "code",
   "execution_count": 80,
   "metadata": {
    "collapsed": false
   },
   "outputs": [],
   "source": [
    "def birth_year(x):\n",
    "    s=x.year\n",
    "    return s\n",
    "\n",
    "def birth_month(x):\n",
    "    s= x.month\n",
    "    return s\n",
    "\n",
    "s=[]"
   ]
  },
  {
   "cell_type": "code",
   "execution_count": 81,
   "metadata": {
    "collapsed": false
   },
   "outputs": [],
   "source": [
    "df[\"birth_year\"] = df.birth_date.apply(birth_year)"
   ]
  },
  {
   "cell_type": "code",
   "execution_count": null,
   "metadata": {
    "collapsed": true
   },
   "outputs": [],
   "source": []
  }
 ],
 "metadata": {
  "anaconda-cloud": {},
  "kernelspec": {
   "display_name": "Python [conda env:dsi]",
   "language": "python",
   "name": "conda-env-dsi-py"
  },
  "language_info": {
   "codemirror_mode": {
    "name": "ipython",
    "version": 2
   },
   "file_extension": ".py",
   "mimetype": "text/x-python",
   "name": "python",
   "nbconvert_exporter": "python",
   "pygments_lexer": "ipython2",
   "version": "2.7.12"
  }
 },
 "nbformat": 4,
 "nbformat_minor": 1
}
