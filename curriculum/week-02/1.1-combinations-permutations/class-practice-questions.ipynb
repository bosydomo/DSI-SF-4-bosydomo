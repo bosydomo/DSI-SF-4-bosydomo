{
 "cells": [
  {
   "cell_type": "markdown",
   "metadata": {},
   "source": [
    "### Q1.\n",
    "\n",
    "If you have two groups of students, 10 freshman and 11 sophmores, how many teams of 2 can be formed with one member from each class?"
   ]
  },
  {
   "cell_type": "code",
   "execution_count": null,
   "metadata": {
    "collapsed": true
   },
   "outputs": [],
   "source": []
  },
  {
   "cell_type": "markdown",
   "metadata": {},
   "source": [
    "### Q2.\n",
    "\n",
    "There are 5 qualified candidates to fill 3 positions.  How many ways can the roles be filled assuming 1 person per position?"
   ]
  },
  {
   "cell_type": "code",
   "execution_count": null,
   "metadata": {
    "collapsed": true
   },
   "outputs": [],
   "source": []
  },
  {
   "cell_type": "markdown",
   "metadata": {},
   "source": [
    "### Q3.\n",
    "\n",
    "If there are 9 players on a baseball team, how many possibilities are there for the first 3 players in the batting lineup?"
   ]
  },
  {
   "cell_type": "code",
   "execution_count": null,
   "metadata": {
    "collapsed": true
   },
   "outputs": [],
   "source": []
  },
  {
   "cell_type": "markdown",
   "metadata": {},
   "source": [
    "### Q4. \n",
    "\n",
    "Code a function to compute the factorial of a number."
   ]
  },
  {
   "cell_type": "code",
   "execution_count": null,
   "metadata": {
    "collapsed": true
   },
   "outputs": [],
   "source": []
  },
  {
   "cell_type": "markdown",
   "metadata": {},
   "source": [
    "### Q5.\n",
    "\n",
    "How many possible 5 card hands are there with a deck of 52 cards?"
   ]
  },
  {
   "cell_type": "code",
   "execution_count": null,
   "metadata": {
    "collapsed": true
   },
   "outputs": [],
   "source": []
  },
  {
   "cell_type": "markdown",
   "metadata": {},
   "source": [
    "### Q7.\n",
    "\n",
    "A restaurant has 22 employees, including:\n",
    "\n",
    "- 6 chefs\n",
    "- 5 waiters\n",
    "- 7 busboys \n",
    "\n",
    "The owner has requested a few things from you the manager:\n",
    "\n",
    "1. A private party is coming on Tuesday and wants to know how many teams of 1 chef and 2 waiters can be formed?\n",
    "2. Each busboy works just one day of the week. He wants to know how many different versions of the weekly busboy assignments there can be. \n",
    "3. He wants his favorite waiter to serve him and his wife for their anniversary on Sunday, along with 2 other waiters.  How many teams of 3 waiters can serve him?"
   ]
  },
  {
   "cell_type": "code",
   "execution_count": null,
   "metadata": {
    "collapsed": true
   },
   "outputs": [],
   "source": []
  },
  {
   "cell_type": "markdown",
   "metadata": {},
   "source": [
    "### Q8.\n",
    "\n",
    "What is the probability that you are dealt 2 cards and they turn out to both be aces from a 52-card deck?"
   ]
  },
  {
   "cell_type": "code",
   "execution_count": null,
   "metadata": {
    "collapsed": true
   },
   "outputs": [],
   "source": []
  },
  {
   "cell_type": "markdown",
   "metadata": {},
   "source": [
    "### Q9.\n",
    "\n",
    "What is the probability of getting 2 queens and 3 kings in a 5-card hand?"
   ]
  },
  {
   "cell_type": "code",
   "execution_count": null,
   "metadata": {
    "collapsed": true
   },
   "outputs": [],
   "source": []
  },
  {
   "cell_type": "markdown",
   "metadata": {},
   "source": [
    "### Q10.\n",
    "\n",
    "For 10 coin-flips, print out the probability of getting 0 heads through 10 heads.\n",
    "\n",
    "Also print out the sum of the probabilities."
   ]
  },
  {
   "cell_type": "code",
   "execution_count": null,
   "metadata": {
    "collapsed": true
   },
   "outputs": [],
   "source": []
  },
  {
   "cell_type": "markdown",
   "metadata": {},
   "source": [
    "### Q11.\n",
    "\n",
    "Suppose you have a game where you can toss a ball and it will land in one of 5 buckets.\n",
    "\n",
    "You toss 2 balls and they each land in a bucket. If the balls are indistinguishable from each other, how many different outcomes (distributions of balls in buckets) are there?"
   ]
  },
  {
   "cell_type": "code",
   "execution_count": null,
   "metadata": {
    "collapsed": true
   },
   "outputs": [],
   "source": []
  },
  {
   "cell_type": "markdown",
   "metadata": {},
   "source": [
    "### Q12.\n",
    "\n",
    "How many solutions are there to the formula:\n",
    "\n",
    "$X_1 + X_2 + X_3 + X_4 = 15$\n",
    "\n",
    "Where the order of numbers matters?"
   ]
  },
  {
   "cell_type": "code",
   "execution_count": null,
   "metadata": {
    "collapsed": true
   },
   "outputs": [],
   "source": []
  }
 ],
 "metadata": {
  "kernelspec": {
   "display_name": "Python 2",
   "language": "python",
   "name": "python2"
  },
  "language_info": {
   "codemirror_mode": {
    "name": "ipython",
    "version": 2
   },
   "file_extension": ".py",
   "mimetype": "text/x-python",
   "name": "python",
   "nbconvert_exporter": "python",
   "pygments_lexer": "ipython2",
   "version": "2.7.12"
  }
 },
 "nbformat": 4,
 "nbformat_minor": 0
}
