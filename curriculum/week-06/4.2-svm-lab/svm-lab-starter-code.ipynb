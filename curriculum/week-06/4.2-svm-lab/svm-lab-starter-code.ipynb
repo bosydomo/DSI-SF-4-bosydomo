{
 "cells": [
  {
   "cell_type": "markdown",
   "metadata": {},
   "source": [
    "<img src=\"https://ga-dash.s3.amazonaws.com/production/assets/logo-9f88ae6c9c3871690e33280fcf557f33.png\" style=\"float: left; margin: 15px;\">\n",
    "\n",
    "## Support Vector Machines Lab\n",
    "\n",
    "Week 6 | 4.2\n",
    "\n",
    "---\n",
    "\n",
    "In this lab you can explore several datasets with SVM classifiers compared to logistic regression and kNN classifiers. \n",
    "\n",
    "Your datasets folder has these four datasets to choose from for the lab:\n",
    "\n",
    "**Breast cancer**\n",
    "\n",
    "    ./DSI-SF-4/datasets/breast_cancer_wisconsin\n",
    "\n",
    "**Spambase**\n",
    "\n",
    "    ./DSI-SF-4/datasets/spam\n",
    "\n",
    "**Car evaluation**\n",
    "\n",
    "    ./DSI-SF-4/datasets/car_evaluation\n",
    "    \n",
    "**Mushroom**\n",
    "\n",
    "    ./DSI-SF-4/datasets/mushroom\n"
   ]
  },
  {
   "cell_type": "code",
   "execution_count": 1,
   "metadata": {
    "collapsed": false
   },
   "outputs": [],
   "source": [
    "import pandas as pd\n",
    "import numpy as np\n",
    "import matplotlib.pyplot as plt\n",
    "import seaborn as sns\n",
    "\n",
    "plt.style.use('fivethirtyeight')\n",
    "\n",
    "from ipywidgets import *\n",
    "from IPython.display import display\n",
    "\n",
    "from sklearn.svm import SVC\n",
    "\n",
    "%matplotlib inline\n",
    "%config InlineBackend.figure_format = 'retina'"
   ]
  },
  {
   "cell_type": "markdown",
   "metadata": {},
   "source": [
    "## 1.: Breast Cancer\n",
    "\n",
    "\n",
    "\n",
    "### Load the Data\n",
    "\n",
    "- Are there any missing values? Impute or clean if so.\n",
    "- Select a classification target and predictors."
   ]
  },
  {
   "cell_type": "code",
   "execution_count": 2,
   "metadata": {
    "collapsed": false
   },
   "outputs": [],
   "source": [
    "cancer = pd.read_csv('/Users/kiefer/github-repos/DSI-SF-4/datasets/breast_cancer_wisconsin/breast_cancer.csv')"
   ]
  },
  {
   "cell_type": "code",
   "execution_count": 3,
   "metadata": {
    "collapsed": false
   },
   "outputs": [
    {
     "data": {
      "text/plain": [
       "Sample_code_number             0\n",
       "Clump_Thickness                0\n",
       "Uniformity_of_Cell_Size        0\n",
       "Uniformity_of_Cell_Shape       0\n",
       "Marginal_Adhesion              0\n",
       "Single_Epithelial_Cell_Size    0\n",
       "Bare_Nuclei                    0\n",
       "Bland_Chromatin                0\n",
       "Normal_Nucleoli                0\n",
       "Mitoses                        0\n",
       "Class                          0\n",
       "dtype: int64"
      ]
     },
     "execution_count": 3,
     "metadata": {},
     "output_type": "execute_result"
    }
   ],
   "source": [
    "cancer.isnull().sum()"
   ]
  },
  {
   "cell_type": "code",
   "execution_count": 4,
   "metadata": {
    "collapsed": false
   },
   "outputs": [
    {
     "data": {
      "text/plain": [
       "array([ 5,  3,  6,  4,  8,  1,  2,  7, 10,  9])"
      ]
     },
     "execution_count": 4,
     "metadata": {},
     "output_type": "execute_result"
    }
   ],
   "source": [
    "cancer.Clump_Thickness.unique()"
   ]
  },
  {
   "cell_type": "code",
   "execution_count": 5,
   "metadata": {
    "collapsed": false
   },
   "outputs": [
    {
     "data": {
      "text/plain": [
       "Sample_code_number              int64\n",
       "Clump_Thickness                 int64\n",
       "Uniformity_of_Cell_Size         int64\n",
       "Uniformity_of_Cell_Shape        int64\n",
       "Marginal_Adhesion               int64\n",
       "Single_Epithelial_Cell_Size     int64\n",
       "Bare_Nuclei                    object\n",
       "Bland_Chromatin                 int64\n",
       "Normal_Nucleoli                 int64\n",
       "Mitoses                         int64\n",
       "Class                           int64\n",
       "dtype: object"
      ]
     },
     "execution_count": 5,
     "metadata": {},
     "output_type": "execute_result"
    }
   ],
   "source": [
    "cancer.dtypes"
   ]
  },
  {
   "cell_type": "code",
   "execution_count": 6,
   "metadata": {
    "collapsed": false
   },
   "outputs": [
    {
     "data": {
      "text/plain": [
       "array(['1', '10', '2', '4', '3', '9', '7', '?', '5', '8', '6'], dtype=object)"
      ]
     },
     "execution_count": 6,
     "metadata": {},
     "output_type": "execute_result"
    }
   ],
   "source": [
    "cancer.Bare_Nuclei.unique()"
   ]
  },
  {
   "cell_type": "code",
   "execution_count": 7,
   "metadata": {
    "collapsed": false
   },
   "outputs": [
    {
     "data": {
      "text/plain": [
       "1     402\n",
       "10    132\n",
       "5      30\n",
       "2      30\n",
       "3      28\n",
       "8      21\n",
       "4      19\n",
       "?      16\n",
       "9       9\n",
       "7       8\n",
       "6       4\n",
       "Name: Bare_Nuclei, dtype: int64"
      ]
     },
     "execution_count": 7,
     "metadata": {},
     "output_type": "execute_result"
    }
   ],
   "source": [
    "cancer.Bare_Nuclei.value_counts()"
   ]
  },
  {
   "cell_type": "code",
   "execution_count": 8,
   "metadata": {
    "collapsed": true
   },
   "outputs": [],
   "source": [
    "cancer = cancer[cancer.Bare_Nuclei != '?']\n",
    "cancer.Bare_Nuclei = cancer.Bare_Nuclei.map(lambda x: int(x))"
   ]
  },
  {
   "cell_type": "code",
   "execution_count": 9,
   "metadata": {
    "collapsed": false
   },
   "outputs": [],
   "source": [
    "cancer.Class = cancer.Class.map(lambda x: 1 if x == 4 else 0)"
   ]
  },
  {
   "cell_type": "code",
   "execution_count": null,
   "metadata": {
    "collapsed": true
   },
   "outputs": [],
   "source": []
  },
  {
   "cell_type": "markdown",
   "metadata": {},
   "source": [
    "## 2. Modeling\n",
    "\n",
    "For details on the SVM classifier, see here:\n",
    "\n",
    "http://scikit-learn.org/stable/modules/generated/sklearn.svm.SVC.html\n",
    "\n",
    "- What's the baseline for the accuracy?\n",
    "- Initialize and train a linear svm. What's the average accuracy score with a 5-fold cross validation?\n",
    "- Repeat using a radial basis function (rbf) classifier. Compare the scores. Which one is better?\n",
    "- Print a confusion matrix and classification report for your best model using training & testing data.\n",
    "\n",
    "Classification report:\n",
    "\n",
    "```python\n",
    "http://scikit-learn.org/stable/modules/generated/sklearn.metrics.classification_report.html\n",
    "```\n",
    "\n",
    "Confusion matrix:\n",
    "\n",
    "```python\n",
    "df_confusion = pd.crosstab(y_true, y_pred, rownames=['Actual'], colnames=['Predicted'], margins=True)\n",
    "```"
   ]
  },
  {
   "cell_type": "code",
   "execution_count": 10,
   "metadata": {
    "collapsed": false
   },
   "outputs": [],
   "source": [
    "baseline_acc = 1. - cancer.Class.mean()"
   ]
  },
  {
   "cell_type": "code",
   "execution_count": 11,
   "metadata": {
    "collapsed": false
   },
   "outputs": [],
   "source": [
    "from sklearn.svm import SVC"
   ]
  },
  {
   "cell_type": "code",
   "execution_count": 12,
   "metadata": {
    "collapsed": true
   },
   "outputs": [],
   "source": [
    "linear_svm = SVC(kernel='linear')"
   ]
  },
  {
   "cell_type": "code",
   "execution_count": 14,
   "metadata": {
    "collapsed": false
   },
   "outputs": [],
   "source": [
    "y = cancer.Class.values\n",
    "X = cancer[[col for col in cancer.columns if not col in ['Class','Sample_code_number']]]"
   ]
  },
  {
   "cell_type": "code",
   "execution_count": 15,
   "metadata": {
    "collapsed": false
   },
   "outputs": [
    {
     "data": {
      "text/plain": [
       "SVC(C=1.0, cache_size=200, class_weight=None, coef0=0.0,\n",
       "  decision_function_shape=None, degree=3, gamma='auto', kernel='linear',\n",
       "  max_iter=-1, probability=False, random_state=None, shrinking=True,\n",
       "  tol=0.001, verbose=False)"
      ]
     },
     "execution_count": 15,
     "metadata": {},
     "output_type": "execute_result"
    }
   ],
   "source": [
    "linear_svm.fit(X, y)"
   ]
  },
  {
   "cell_type": "code",
   "execution_count": 20,
   "metadata": {
    "collapsed": true
   },
   "outputs": [],
   "source": [
    "from sklearn.model_selection import cross_val_score, GridSearchCV, train_test_split"
   ]
  },
  {
   "cell_type": "code",
   "execution_count": 17,
   "metadata": {
    "collapsed": true
   },
   "outputs": [],
   "source": [
    "linear_svm_scores = cross_val_score(linear_svm, X, y, cv=5)"
   ]
  },
  {
   "cell_type": "code",
   "execution_count": 18,
   "metadata": {
    "collapsed": false
   },
   "outputs": [
    {
     "name": "stdout",
     "output_type": "stream",
     "text": [
      "[ 0.94890511  0.94890511  0.97810219  0.97080292  0.98518519]\n",
      "0.96638010273\n"
     ]
    }
   ],
   "source": [
    "print linear_svm_scores\n",
    "print np.mean(linear_svm_scores)"
   ]
  },
  {
   "cell_type": "code",
   "execution_count": 19,
   "metadata": {
    "collapsed": false
   },
   "outputs": [
    {
     "name": "stdout",
     "output_type": "stream",
     "text": [
      "[ 0.90510949  0.91240876  0.96350365  0.98540146  0.98518519]\n",
      "0.95032170857\n"
     ]
    }
   ],
   "source": [
    "rbf_svm = SVC(kernel='rbf')\n",
    "rbf_scores = cross_val_score(rbf_svm, X, y, cv=5)\n",
    "print rbf_scores\n",
    "print np.mean(rbf_scores)"
   ]
  },
  {
   "cell_type": "code",
   "execution_count": 21,
   "metadata": {
    "collapsed": true
   },
   "outputs": [],
   "source": [
    "Xtrain, Xtest, y_train, y_test = train_test_split(X, y, test_size=0.33, stratify=y)"
   ]
  },
  {
   "cell_type": "code",
   "execution_count": 28,
   "metadata": {
    "collapsed": false
   },
   "outputs": [
    {
     "data": {
      "text/plain": [
       "SVC(C=1.0, cache_size=200, class_weight=None, coef0=0.0,\n",
       "  decision_function_shape=None, degree=3, gamma='auto', kernel='linear',\n",
       "  max_iter=-1, probability=True, random_state=None, shrinking=True,\n",
       "  tol=0.001, verbose=False)"
      ]
     },
     "execution_count": 28,
     "metadata": {},
     "output_type": "execute_result"
    }
   ],
   "source": [
    "linear_svm = SVC(kernel='linear', probability=True)\n",
    "linear_svm.fit(Xtrain, y_train)"
   ]
  },
  {
   "cell_type": "code",
   "execution_count": 29,
   "metadata": {
    "collapsed": false
   },
   "outputs": [],
   "source": [
    "y_pred = linear_svm.predict(Xtest)"
   ]
  },
  {
   "cell_type": "code",
   "execution_count": 30,
   "metadata": {
    "collapsed": false
   },
   "outputs": [
    {
     "data": {
      "text/html": [
       "<div>\n",
       "<table border=\"1\" class=\"dataframe\">\n",
       "  <thead>\n",
       "    <tr style=\"text-align: right;\">\n",
       "      <th>Predicted</th>\n",
       "      <th>0</th>\n",
       "      <th>1</th>\n",
       "      <th>All</th>\n",
       "    </tr>\n",
       "    <tr>\n",
       "      <th>Actual</th>\n",
       "      <th></th>\n",
       "      <th></th>\n",
       "      <th></th>\n",
       "    </tr>\n",
       "  </thead>\n",
       "  <tbody>\n",
       "    <tr>\n",
       "      <th>0</th>\n",
       "      <td>144</td>\n",
       "      <td>3</td>\n",
       "      <td>147</td>\n",
       "    </tr>\n",
       "    <tr>\n",
       "      <th>1</th>\n",
       "      <td>6</td>\n",
       "      <td>73</td>\n",
       "      <td>79</td>\n",
       "    </tr>\n",
       "    <tr>\n",
       "      <th>All</th>\n",
       "      <td>150</td>\n",
       "      <td>76</td>\n",
       "      <td>226</td>\n",
       "    </tr>\n",
       "  </tbody>\n",
       "</table>\n",
       "</div>"
      ],
      "text/plain": [
       "Predicted    0   1  All\n",
       "Actual                 \n",
       "0          144   3  147\n",
       "1            6  73   79\n",
       "All        150  76  226"
      ]
     },
     "execution_count": 30,
     "metadata": {},
     "output_type": "execute_result"
    }
   ],
   "source": [
    "df_confusion = pd.crosstab(y_test, y_pred, rownames=['Actual'], colnames=['Predicted'], margins=True)\n",
    "df_confusion"
   ]
  },
  {
   "cell_type": "code",
   "execution_count": 33,
   "metadata": {
    "collapsed": false
   },
   "outputs": [],
   "source": [
    "Xtest_pp = linear_svm.predict_proba(Xtest)"
   ]
  },
  {
   "cell_type": "code",
   "execution_count": 39,
   "metadata": {
    "collapsed": false
   },
   "outputs": [],
   "source": [
    "def custom_predict(pred_prob, threshold_for_positive=0.5):\n",
    "    predicted = [1 if x[1] >= threshold_for_positive else 0 for x in pred_prob]\n",
    "    return np.array(predicted)"
   ]
  },
  {
   "cell_type": "code",
   "execution_count": 49,
   "metadata": {
    "collapsed": true
   },
   "outputs": [],
   "source": [
    "y_pred_lenient = custom_predict(Xtest_pp, threshold_for_positive=0.05)"
   ]
  },
  {
   "cell_type": "code",
   "execution_count": 50,
   "metadata": {
    "collapsed": false
   },
   "outputs": [
    {
     "data": {
      "text/plain": [
       "(226, 226)"
      ]
     },
     "execution_count": 50,
     "metadata": {},
     "output_type": "execute_result"
    }
   ],
   "source": [
    "len(y_pred_lenient), len(y_test)"
   ]
  },
  {
   "cell_type": "code",
   "execution_count": 51,
   "metadata": {
    "collapsed": false
   },
   "outputs": [
    {
     "data": {
      "text/html": [
       "<div>\n",
       "<table border=\"1\" class=\"dataframe\">\n",
       "  <thead>\n",
       "    <tr style=\"text-align: right;\">\n",
       "      <th>Predicted</th>\n",
       "      <th>0</th>\n",
       "      <th>1</th>\n",
       "      <th>All</th>\n",
       "    </tr>\n",
       "    <tr>\n",
       "      <th>Actual</th>\n",
       "      <th></th>\n",
       "      <th></th>\n",
       "      <th></th>\n",
       "    </tr>\n",
       "  </thead>\n",
       "  <tbody>\n",
       "    <tr>\n",
       "      <th>0</th>\n",
       "      <td>122</td>\n",
       "      <td>25</td>\n",
       "      <td>147</td>\n",
       "    </tr>\n",
       "    <tr>\n",
       "      <th>1</th>\n",
       "      <td>0</td>\n",
       "      <td>79</td>\n",
       "      <td>79</td>\n",
       "    </tr>\n",
       "    <tr>\n",
       "      <th>All</th>\n",
       "      <td>122</td>\n",
       "      <td>104</td>\n",
       "      <td>226</td>\n",
       "    </tr>\n",
       "  </tbody>\n",
       "</table>\n",
       "</div>"
      ],
      "text/plain": [
       "Predicted    0    1  All\n",
       "Actual                  \n",
       "0          122   25  147\n",
       "1            0   79   79\n",
       "All        122  104  226"
      ]
     },
     "execution_count": 51,
     "metadata": {},
     "output_type": "execute_result"
    }
   ],
   "source": [
    "df_confusion = pd.crosstab(y_test, y_pred_lenient, rownames=['Actual'], colnames=['Predicted'], margins=True)\n",
    "df_confusion"
   ]
  },
  {
   "cell_type": "code",
   "execution_count": null,
   "metadata": {
    "collapsed": true
   },
   "outputs": [],
   "source": []
  },
  {
   "cell_type": "code",
   "execution_count": null,
   "metadata": {
    "collapsed": true
   },
   "outputs": [],
   "source": []
  },
  {
   "cell_type": "markdown",
   "metadata": {},
   "source": [
    "## 2. Perform the steps above with the car or mushroom dataset\n",
    "\n",
    "Repeat each step."
   ]
  },
  {
   "cell_type": "code",
   "execution_count": null,
   "metadata": {
    "collapsed": false
   },
   "outputs": [],
   "source": []
  },
  {
   "cell_type": "markdown",
   "metadata": {},
   "source": [
    "## 3. Compare SVM, kNN and logistic regression using spam data\n",
    "\n",
    "You should:\n",
    "\n",
    "- Gridsearch optimal parameters for both (for SVM, just gridsearch C and kernel).\n",
    "- Cross-validate scores.\n",
    "- Examine confusion matrices and classification reports.\n",
    "\n",
    "Bonus: \n",
    "\n",
    "Plot \"learning curves\" for the best models of each. This is a great way see how training/testing size affects the scores. Look at the documentation for how to use this function in sklearn.\n",
    "\n",
    "http://scikit-learn.org/stable/modules/learning_curve.html#learning-curves"
   ]
  },
  {
   "cell_type": "code",
   "execution_count": 52,
   "metadata": {
    "collapsed": false
   },
   "outputs": [],
   "source": [
    "spam = pd.read_csv('/Users/kiefer/github-repos/DSI-SF-4/datasets/spam/spam_words_wide.csv')"
   ]
  },
  {
   "cell_type": "code",
   "execution_count": 53,
   "metadata": {
    "collapsed": false
   },
   "outputs": [
    {
     "data": {
      "text/plain": [
       "(5572, 1001)"
      ]
     },
     "execution_count": 53,
     "metadata": {},
     "output_type": "execute_result"
    }
   ],
   "source": [
    "spam.shape"
   ]
  },
  {
   "cell_type": "code",
   "execution_count": 54,
   "metadata": {
    "collapsed": false
   },
   "outputs": [
    {
     "data": {
      "text/html": [
       "<div>\n",
       "<table border=\"1\" class=\"dataframe\">\n",
       "  <thead>\n",
       "    <tr style=\"text-align: right;\">\n",
       "      <th></th>\n",
       "      <th>is_spam</th>\n",
       "      <th>getzed</th>\n",
       "      <th>86021</th>\n",
       "      <th>babies</th>\n",
       "      <th>sunoco</th>\n",
       "      <th>ultimately</th>\n",
       "      <th>thk</th>\n",
       "      <th>voted</th>\n",
       "      <th>spatula</th>\n",
       "      <th>fiend</th>\n",
       "      <th>...</th>\n",
       "      <th>itna</th>\n",
       "      <th>borin</th>\n",
       "      <th>thoughts</th>\n",
       "      <th>iccha</th>\n",
       "      <th>videochat</th>\n",
       "      <th>freefone</th>\n",
       "      <th>pist</th>\n",
       "      <th>reformat</th>\n",
       "      <th>strict</th>\n",
       "      <th>69698</th>\n",
       "    </tr>\n",
       "  </thead>\n",
       "  <tbody>\n",
       "    <tr>\n",
       "      <th>0</th>\n",
       "      <td>0</td>\n",
       "      <td>0</td>\n",
       "      <td>0</td>\n",
       "      <td>0</td>\n",
       "      <td>0</td>\n",
       "      <td>0</td>\n",
       "      <td>0</td>\n",
       "      <td>0</td>\n",
       "      <td>0</td>\n",
       "      <td>0</td>\n",
       "      <td>...</td>\n",
       "      <td>0</td>\n",
       "      <td>0</td>\n",
       "      <td>0</td>\n",
       "      <td>0</td>\n",
       "      <td>0</td>\n",
       "      <td>0</td>\n",
       "      <td>0</td>\n",
       "      <td>0</td>\n",
       "      <td>0</td>\n",
       "      <td>0</td>\n",
       "    </tr>\n",
       "    <tr>\n",
       "      <th>1</th>\n",
       "      <td>0</td>\n",
       "      <td>0</td>\n",
       "      <td>0</td>\n",
       "      <td>0</td>\n",
       "      <td>0</td>\n",
       "      <td>0</td>\n",
       "      <td>0</td>\n",
       "      <td>0</td>\n",
       "      <td>0</td>\n",
       "      <td>0</td>\n",
       "      <td>...</td>\n",
       "      <td>0</td>\n",
       "      <td>0</td>\n",
       "      <td>0</td>\n",
       "      <td>0</td>\n",
       "      <td>0</td>\n",
       "      <td>0</td>\n",
       "      <td>0</td>\n",
       "      <td>0</td>\n",
       "      <td>0</td>\n",
       "      <td>0</td>\n",
       "    </tr>\n",
       "    <tr>\n",
       "      <th>2</th>\n",
       "      <td>1</td>\n",
       "      <td>0</td>\n",
       "      <td>0</td>\n",
       "      <td>0</td>\n",
       "      <td>0</td>\n",
       "      <td>0</td>\n",
       "      <td>0</td>\n",
       "      <td>0</td>\n",
       "      <td>0</td>\n",
       "      <td>0</td>\n",
       "      <td>...</td>\n",
       "      <td>0</td>\n",
       "      <td>0</td>\n",
       "      <td>0</td>\n",
       "      <td>0</td>\n",
       "      <td>0</td>\n",
       "      <td>0</td>\n",
       "      <td>0</td>\n",
       "      <td>0</td>\n",
       "      <td>0</td>\n",
       "      <td>0</td>\n",
       "    </tr>\n",
       "    <tr>\n",
       "      <th>3</th>\n",
       "      <td>0</td>\n",
       "      <td>0</td>\n",
       "      <td>0</td>\n",
       "      <td>0</td>\n",
       "      <td>0</td>\n",
       "      <td>0</td>\n",
       "      <td>0</td>\n",
       "      <td>0</td>\n",
       "      <td>0</td>\n",
       "      <td>0</td>\n",
       "      <td>...</td>\n",
       "      <td>0</td>\n",
       "      <td>0</td>\n",
       "      <td>0</td>\n",
       "      <td>0</td>\n",
       "      <td>0</td>\n",
       "      <td>0</td>\n",
       "      <td>0</td>\n",
       "      <td>0</td>\n",
       "      <td>0</td>\n",
       "      <td>0</td>\n",
       "    </tr>\n",
       "    <tr>\n",
       "      <th>4</th>\n",
       "      <td>0</td>\n",
       "      <td>0</td>\n",
       "      <td>0</td>\n",
       "      <td>0</td>\n",
       "      <td>0</td>\n",
       "      <td>0</td>\n",
       "      <td>0</td>\n",
       "      <td>0</td>\n",
       "      <td>0</td>\n",
       "      <td>0</td>\n",
       "      <td>...</td>\n",
       "      <td>0</td>\n",
       "      <td>0</td>\n",
       "      <td>0</td>\n",
       "      <td>0</td>\n",
       "      <td>0</td>\n",
       "      <td>0</td>\n",
       "      <td>0</td>\n",
       "      <td>0</td>\n",
       "      <td>0</td>\n",
       "      <td>0</td>\n",
       "    </tr>\n",
       "  </tbody>\n",
       "</table>\n",
       "<p>5 rows × 1001 columns</p>\n",
       "</div>"
      ],
      "text/plain": [
       "   is_spam  getzed  86021  babies  sunoco  ultimately  thk  voted  spatula  \\\n",
       "0        0       0      0       0       0           0    0      0        0   \n",
       "1        0       0      0       0       0           0    0      0        0   \n",
       "2        1       0      0       0       0           0    0      0        0   \n",
       "3        0       0      0       0       0           0    0      0        0   \n",
       "4        0       0      0       0       0           0    0      0        0   \n",
       "\n",
       "   fiend  ...    itna  borin  thoughts  iccha  videochat  freefone  pist  \\\n",
       "0      0  ...       0      0         0      0          0         0     0   \n",
       "1      0  ...       0      0         0      0          0         0     0   \n",
       "2      0  ...       0      0         0      0          0         0     0   \n",
       "3      0  ...       0      0         0      0          0         0     0   \n",
       "4      0  ...       0      0         0      0          0         0     0   \n",
       "\n",
       "   reformat  strict  69698  \n",
       "0         0       0      0  \n",
       "1         0       0      0  \n",
       "2         0       0      0  \n",
       "3         0       0      0  \n",
       "4         0       0      0  \n",
       "\n",
       "[5 rows x 1001 columns]"
      ]
     },
     "execution_count": 54,
     "metadata": {},
     "output_type": "execute_result"
    }
   ],
   "source": [
    "spam.head()"
   ]
  },
  {
   "cell_type": "code",
   "execution_count": 62,
   "metadata": {
    "collapsed": true
   },
   "outputs": [],
   "source": [
    "y = spam.is_spam\n",
    "X = spam.iloc[:, np.random.choice(range(1, spam.shape[1]), replace=False, size=50)]"
   ]
  },
  {
   "cell_type": "code",
   "execution_count": 63,
   "metadata": {
    "collapsed": false
   },
   "outputs": [
    {
     "data": {
      "text/html": [
       "<div>\n",
       "<table border=\"1\" class=\"dataframe\">\n",
       "  <thead>\n",
       "    <tr style=\"text-align: right;\">\n",
       "      <th></th>\n",
       "      <th>greatness</th>\n",
       "      <th>blame</th>\n",
       "      <th>duo</th>\n",
       "      <th>apologetic</th>\n",
       "      <th>teresa</th>\n",
       "      <th>room</th>\n",
       "      <th>hoped</th>\n",
       "      <th>shuhui</th>\n",
       "      <th>handsomes</th>\n",
       "      <th>pulls</th>\n",
       "      <th>...</th>\n",
       "      <th>weddin</th>\n",
       "      <th>flute</th>\n",
       "      <th>84</th>\n",
       "      <th>nichols</th>\n",
       "      <th>09050090044</th>\n",
       "      <th>regular</th>\n",
       "      <th>becz</th>\n",
       "      <th>cliffs</th>\n",
       "      <th>reformat</th>\n",
       "      <th>devouring</th>\n",
       "    </tr>\n",
       "  </thead>\n",
       "  <tbody>\n",
       "    <tr>\n",
       "      <th>0</th>\n",
       "      <td>0</td>\n",
       "      <td>0</td>\n",
       "      <td>0</td>\n",
       "      <td>0</td>\n",
       "      <td>0</td>\n",
       "      <td>0</td>\n",
       "      <td>0</td>\n",
       "      <td>0</td>\n",
       "      <td>0</td>\n",
       "      <td>0</td>\n",
       "      <td>...</td>\n",
       "      <td>0</td>\n",
       "      <td>0</td>\n",
       "      <td>0</td>\n",
       "      <td>0</td>\n",
       "      <td>0</td>\n",
       "      <td>0</td>\n",
       "      <td>0</td>\n",
       "      <td>0</td>\n",
       "      <td>0</td>\n",
       "      <td>0</td>\n",
       "    </tr>\n",
       "    <tr>\n",
       "      <th>1</th>\n",
       "      <td>0</td>\n",
       "      <td>0</td>\n",
       "      <td>0</td>\n",
       "      <td>0</td>\n",
       "      <td>0</td>\n",
       "      <td>0</td>\n",
       "      <td>0</td>\n",
       "      <td>0</td>\n",
       "      <td>0</td>\n",
       "      <td>0</td>\n",
       "      <td>...</td>\n",
       "      <td>0</td>\n",
       "      <td>0</td>\n",
       "      <td>0</td>\n",
       "      <td>0</td>\n",
       "      <td>0</td>\n",
       "      <td>0</td>\n",
       "      <td>0</td>\n",
       "      <td>0</td>\n",
       "      <td>0</td>\n",
       "      <td>0</td>\n",
       "    </tr>\n",
       "    <tr>\n",
       "      <th>2</th>\n",
       "      <td>0</td>\n",
       "      <td>0</td>\n",
       "      <td>0</td>\n",
       "      <td>0</td>\n",
       "      <td>0</td>\n",
       "      <td>0</td>\n",
       "      <td>0</td>\n",
       "      <td>0</td>\n",
       "      <td>0</td>\n",
       "      <td>0</td>\n",
       "      <td>...</td>\n",
       "      <td>0</td>\n",
       "      <td>0</td>\n",
       "      <td>0</td>\n",
       "      <td>0</td>\n",
       "      <td>0</td>\n",
       "      <td>0</td>\n",
       "      <td>0</td>\n",
       "      <td>0</td>\n",
       "      <td>0</td>\n",
       "      <td>0</td>\n",
       "    </tr>\n",
       "    <tr>\n",
       "      <th>3</th>\n",
       "      <td>0</td>\n",
       "      <td>0</td>\n",
       "      <td>0</td>\n",
       "      <td>0</td>\n",
       "      <td>0</td>\n",
       "      <td>0</td>\n",
       "      <td>0</td>\n",
       "      <td>0</td>\n",
       "      <td>0</td>\n",
       "      <td>0</td>\n",
       "      <td>...</td>\n",
       "      <td>0</td>\n",
       "      <td>0</td>\n",
       "      <td>0</td>\n",
       "      <td>0</td>\n",
       "      <td>0</td>\n",
       "      <td>0</td>\n",
       "      <td>0</td>\n",
       "      <td>0</td>\n",
       "      <td>0</td>\n",
       "      <td>0</td>\n",
       "    </tr>\n",
       "    <tr>\n",
       "      <th>4</th>\n",
       "      <td>0</td>\n",
       "      <td>0</td>\n",
       "      <td>0</td>\n",
       "      <td>0</td>\n",
       "      <td>0</td>\n",
       "      <td>0</td>\n",
       "      <td>0</td>\n",
       "      <td>0</td>\n",
       "      <td>0</td>\n",
       "      <td>0</td>\n",
       "      <td>...</td>\n",
       "      <td>0</td>\n",
       "      <td>0</td>\n",
       "      <td>0</td>\n",
       "      <td>0</td>\n",
       "      <td>0</td>\n",
       "      <td>0</td>\n",
       "      <td>0</td>\n",
       "      <td>0</td>\n",
       "      <td>0</td>\n",
       "      <td>0</td>\n",
       "    </tr>\n",
       "  </tbody>\n",
       "</table>\n",
       "<p>5 rows × 50 columns</p>\n",
       "</div>"
      ],
      "text/plain": [
       "   greatness  blame  duo  apologetic  teresa  room  hoped  shuhui  handsomes  \\\n",
       "0          0      0    0           0       0     0      0       0          0   \n",
       "1          0      0    0           0       0     0      0       0          0   \n",
       "2          0      0    0           0       0     0      0       0          0   \n",
       "3          0      0    0           0       0     0      0       0          0   \n",
       "4          0      0    0           0       0     0      0       0          0   \n",
       "\n",
       "   pulls    ...      weddin  flute  84  nichols  09050090044  regular  becz  \\\n",
       "0      0    ...           0      0   0        0            0        0     0   \n",
       "1      0    ...           0      0   0        0            0        0     0   \n",
       "2      0    ...           0      0   0        0            0        0     0   \n",
       "3      0    ...           0      0   0        0            0        0     0   \n",
       "4      0    ...           0      0   0        0            0        0     0   \n",
       "\n",
       "   cliffs  reformat  devouring  \n",
       "0       0         0          0  \n",
       "1       0         0          0  \n",
       "2       0         0          0  \n",
       "3       0         0          0  \n",
       "4       0         0          0  \n",
       "\n",
       "[5 rows x 50 columns]"
      ]
     },
     "execution_count": 63,
     "metadata": {},
     "output_type": "execute_result"
    }
   ],
   "source": [
    "X.head()"
   ]
  },
  {
   "cell_type": "code",
   "execution_count": 64,
   "metadata": {
    "collapsed": false
   },
   "outputs": [
    {
     "name": "stdout",
     "output_type": "stream",
     "text": [
      "Fitting 5 folds for each of 15 candidates, totalling 75 fits\n",
      "[CV] kernel=linear, C=0.001, probability=True ........................\n",
      "[CV] ......... kernel=linear, C=0.001, probability=True, total=   1.7s\n",
      "[CV] kernel=linear, C=0.001, probability=True ........................\n"
     ]
    },
    {
     "name": "stderr",
     "output_type": "stream",
     "text": [
      "[Parallel(n_jobs=1)]: Done   1 out of   1 | elapsed:    2.0s remaining:    0.0s\n"
     ]
    },
    {
     "name": "stdout",
     "output_type": "stream",
     "text": [
      "[CV] ......... kernel=linear, C=0.001, probability=True, total=   1.8s\n",
      "[CV] kernel=linear, C=0.001, probability=True ........................\n",
      "[CV] ......... kernel=linear, C=0.001, probability=True, total=   1.7s\n",
      "[CV] kernel=linear, C=0.001, probability=True ........................\n",
      "[CV] ......... kernel=linear, C=0.001, probability=True, total=   2.3s\n",
      "[CV] kernel=linear, C=0.001, probability=True ........................\n",
      "[CV] ......... kernel=linear, C=0.001, probability=True, total=   1.8s\n",
      "[CV] kernel=rbf, C=0.001, probability=True ...........................\n",
      "[CV] ............ kernel=rbf, C=0.001, probability=True, total=   2.3s\n",
      "[CV] kernel=rbf, C=0.001, probability=True ...........................\n",
      "[CV] ............ kernel=rbf, C=0.001, probability=True, total=   2.1s\n",
      "[CV] kernel=rbf, C=0.001, probability=True ...........................\n",
      "[CV] ............ kernel=rbf, C=0.001, probability=True, total=   2.2s\n",
      "[CV] kernel=rbf, C=0.001, probability=True ...........................\n",
      "[CV] ............ kernel=rbf, C=0.001, probability=True, total=   2.3s\n",
      "[CV] kernel=rbf, C=0.001, probability=True ...........................\n",
      "[CV] ............ kernel=rbf, C=0.001, probability=True, total=   3.4s\n",
      "[CV] kernel=sigmoid, C=0.001, probability=True .......................\n",
      "[CV] ........ kernel=sigmoid, C=0.001, probability=True, total=   2.9s\n",
      "[CV] kernel=sigmoid, C=0.001, probability=True .......................\n",
      "[CV] ........ kernel=sigmoid, C=0.001, probability=True, total=   1.9s\n",
      "[CV] kernel=sigmoid, C=0.001, probability=True .......................\n",
      "[CV] ........ kernel=sigmoid, C=0.001, probability=True, total=   1.9s\n",
      "[CV] kernel=sigmoid, C=0.001, probability=True .......................\n",
      "[CV] ........ kernel=sigmoid, C=0.001, probability=True, total=   1.9s\n",
      "[CV] kernel=sigmoid, C=0.001, probability=True .......................\n",
      "[CV] ........ kernel=sigmoid, C=0.001, probability=True, total=   1.9s\n",
      "[CV] kernel=linear, C=0.01, probability=True .........................\n",
      "[CV] .......... kernel=linear, C=0.01, probability=True, total=   2.0s\n",
      "[CV] kernel=linear, C=0.01, probability=True .........................\n",
      "[CV] .......... kernel=linear, C=0.01, probability=True, total=   1.7s\n",
      "[CV] kernel=linear, C=0.01, probability=True .........................\n",
      "[CV] .......... kernel=linear, C=0.01, probability=True, total=   1.7s\n",
      "[CV] kernel=linear, C=0.01, probability=True .........................\n",
      "[CV] .......... kernel=linear, C=0.01, probability=True, total=   1.7s\n",
      "[CV] kernel=linear, C=0.01, probability=True .........................\n",
      "[CV] .......... kernel=linear, C=0.01, probability=True, total=   1.7s\n",
      "[CV] kernel=rbf, C=0.01, probability=True ............................\n",
      "[CV] ............. kernel=rbf, C=0.01, probability=True, total=   2.0s\n",
      "[CV] kernel=rbf, C=0.01, probability=True ............................\n",
      "[CV] ............. kernel=rbf, C=0.01, probability=True, total=   2.0s\n",
      "[CV] kernel=rbf, C=0.01, probability=True ............................\n",
      "[CV] ............. kernel=rbf, C=0.01, probability=True, total=   2.2s\n",
      "[CV] kernel=rbf, C=0.01, probability=True ............................\n",
      "[CV] ............. kernel=rbf, C=0.01, probability=True, total=   2.1s\n",
      "[CV] kernel=rbf, C=0.01, probability=True ............................\n",
      "[CV] ............. kernel=rbf, C=0.01, probability=True, total=   2.4s\n",
      "[CV] kernel=sigmoid, C=0.01, probability=True ........................\n",
      "[CV] ......... kernel=sigmoid, C=0.01, probability=True, total=   1.9s\n",
      "[CV] kernel=sigmoid, C=0.01, probability=True ........................\n",
      "[CV] ......... kernel=sigmoid, C=0.01, probability=True, total=   1.8s\n",
      "[CV] kernel=sigmoid, C=0.01, probability=True ........................\n",
      "[CV] ......... kernel=sigmoid, C=0.01, probability=True, total=   1.9s\n",
      "[CV] kernel=sigmoid, C=0.01, probability=True ........................\n",
      "[CV] ......... kernel=sigmoid, C=0.01, probability=True, total=   1.9s\n",
      "[CV] kernel=sigmoid, C=0.01, probability=True ........................\n",
      "[CV] ......... kernel=sigmoid, C=0.01, probability=True, total=   2.2s\n",
      "[CV] kernel=linear, C=0.1, probability=True ..........................\n",
      "[CV] ........... kernel=linear, C=0.1, probability=True, total=   1.8s\n",
      "[CV] kernel=linear, C=0.1, probability=True ..........................\n",
      "[CV] ........... kernel=linear, C=0.1, probability=True, total=   1.8s\n",
      "[CV] kernel=linear, C=0.1, probability=True ..........................\n",
      "[CV] ........... kernel=linear, C=0.1, probability=True, total=   1.8s\n",
      "[CV] kernel=linear, C=0.1, probability=True ..........................\n",
      "[CV] ........... kernel=linear, C=0.1, probability=True, total=   1.9s\n",
      "[CV] kernel=linear, C=0.1, probability=True ..........................\n",
      "[CV] ........... kernel=linear, C=0.1, probability=True, total=   1.7s\n",
      "[CV] kernel=rbf, C=0.1, probability=True .............................\n",
      "[CV] .............. kernel=rbf, C=0.1, probability=True, total=   2.0s\n",
      "[CV] kernel=rbf, C=0.1, probability=True .............................\n",
      "[CV] .............. kernel=rbf, C=0.1, probability=True, total=   2.0s\n",
      "[CV] kernel=rbf, C=0.1, probability=True .............................\n",
      "[CV] .............. kernel=rbf, C=0.1, probability=True, total=   2.0s\n",
      "[CV] kernel=rbf, C=0.1, probability=True .............................\n",
      "[CV] .............. kernel=rbf, C=0.1, probability=True, total=   2.0s\n",
      "[CV] kernel=rbf, C=0.1, probability=True .............................\n",
      "[CV] .............. kernel=rbf, C=0.1, probability=True, total=   2.1s\n",
      "[CV] kernel=sigmoid, C=0.1, probability=True .........................\n",
      "[CV] .......... kernel=sigmoid, C=0.1, probability=True, total=   2.4s\n",
      "[CV] kernel=sigmoid, C=0.1, probability=True .........................\n",
      "[CV] .......... kernel=sigmoid, C=0.1, probability=True, total=   2.4s\n",
      "[CV] kernel=sigmoid, C=0.1, probability=True .........................\n",
      "[CV] .......... kernel=sigmoid, C=0.1, probability=True, total=   2.0s\n",
      "[CV] kernel=sigmoid, C=0.1, probability=True .........................\n",
      "[CV] .......... kernel=sigmoid, C=0.1, probability=True, total=   3.2s\n",
      "[CV] kernel=sigmoid, C=0.1, probability=True .........................\n",
      "[CV] .......... kernel=sigmoid, C=0.1, probability=True, total=   2.6s\n",
      "[CV] kernel=linear, C=1.0, probability=True ..........................\n",
      "[CV] ........... kernel=linear, C=1.0, probability=True, total=   1.7s\n",
      "[CV] kernel=linear, C=1.0, probability=True ..........................\n",
      "[CV] ........... kernel=linear, C=1.0, probability=True, total=   1.9s\n",
      "[CV] kernel=linear, C=1.0, probability=True ..........................\n",
      "[CV] ........... kernel=linear, C=1.0, probability=True, total=   1.8s\n",
      "[CV] kernel=linear, C=1.0, probability=True ..........................\n",
      "[CV] ........... kernel=linear, C=1.0, probability=True, total=   1.9s\n",
      "[CV] kernel=linear, C=1.0, probability=True ..........................\n",
      "[CV] ........... kernel=linear, C=1.0, probability=True, total=   2.0s\n",
      "[CV] kernel=rbf, C=1.0, probability=True .............................\n",
      "[CV] .............. kernel=rbf, C=1.0, probability=True, total=   2.3s\n",
      "[CV] kernel=rbf, C=1.0, probability=True .............................\n",
      "[CV] .............. kernel=rbf, C=1.0, probability=True, total=   2.3s\n",
      "[CV] kernel=rbf, C=1.0, probability=True .............................\n",
      "[CV] .............. kernel=rbf, C=1.0, probability=True, total=   2.4s\n",
      "[CV] kernel=rbf, C=1.0, probability=True .............................\n",
      "[CV] .............. kernel=rbf, C=1.0, probability=True, total=   2.2s\n",
      "[CV] kernel=rbf, C=1.0, probability=True .............................\n",
      "[CV] .............. kernel=rbf, C=1.0, probability=True, total=   2.4s\n",
      "[CV] kernel=sigmoid, C=1.0, probability=True .........................\n",
      "[CV] .......... kernel=sigmoid, C=1.0, probability=True, total=   2.3s\n",
      "[CV] kernel=sigmoid, C=1.0, probability=True .........................\n",
      "[CV] .......... kernel=sigmoid, C=1.0, probability=True, total=   2.7s\n",
      "[CV] kernel=sigmoid, C=1.0, probability=True .........................\n",
      "[CV] .......... kernel=sigmoid, C=1.0, probability=True, total=   2.2s\n",
      "[CV] kernel=sigmoid, C=1.0, probability=True .........................\n",
      "[CV] .......... kernel=sigmoid, C=1.0, probability=True, total=   2.7s\n",
      "[CV] kernel=sigmoid, C=1.0, probability=True .........................\n",
      "[CV] .......... kernel=sigmoid, C=1.0, probability=True, total=   2.4s\n",
      "[CV] kernel=linear, C=10.0, probability=True .........................\n",
      "[CV] .......... kernel=linear, C=10.0, probability=True, total=   2.1s\n",
      "[CV] kernel=linear, C=10.0, probability=True .........................\n",
      "[CV] .......... kernel=linear, C=10.0, probability=True, total=   1.8s\n",
      "[CV] kernel=linear, C=10.0, probability=True .........................\n",
      "[CV] .......... kernel=linear, C=10.0, probability=True, total=   2.3s\n",
      "[CV] kernel=linear, C=10.0, probability=True .........................\n",
      "[CV] .......... kernel=linear, C=10.0, probability=True, total=   2.3s\n",
      "[CV] kernel=linear, C=10.0, probability=True .........................\n",
      "[CV] .......... kernel=linear, C=10.0, probability=True, total=   1.8s\n",
      "[CV] kernel=rbf, C=10.0, probability=True ............................\n",
      "[CV] ............. kernel=rbf, C=10.0, probability=True, total=   2.3s\n",
      "[CV] kernel=rbf, C=10.0, probability=True ............................\n",
      "[CV] ............. kernel=rbf, C=10.0, probability=True, total=   2.3s\n",
      "[CV] kernel=rbf, C=10.0, probability=True ............................\n",
      "[CV] ............. kernel=rbf, C=10.0, probability=True, total=   2.3s\n",
      "[CV] kernel=rbf, C=10.0, probability=True ............................\n",
      "[CV] ............. kernel=rbf, C=10.0, probability=True, total=   2.8s\n",
      "[CV] kernel=rbf, C=10.0, probability=True ............................\n",
      "[CV] ............. kernel=rbf, C=10.0, probability=True, total=   3.2s\n",
      "[CV] kernel=sigmoid, C=10.0, probability=True ........................\n",
      "[CV] ......... kernel=sigmoid, C=10.0, probability=True, total=   2.3s\n",
      "[CV] kernel=sigmoid, C=10.0, probability=True ........................\n",
      "[CV] ......... kernel=sigmoid, C=10.0, probability=True, total=   2.1s\n",
      "[CV] kernel=sigmoid, C=10.0, probability=True ........................\n",
      "[CV] ......... kernel=sigmoid, C=10.0, probability=True, total=   2.0s\n",
      "[CV] kernel=sigmoid, C=10.0, probability=True ........................\n",
      "[CV] ......... kernel=sigmoid, C=10.0, probability=True, total=   2.1s\n",
      "[CV] kernel=sigmoid, C=10.0, probability=True ........................\n",
      "[CV] ......... kernel=sigmoid, C=10.0, probability=True, total=   1.9s\n"
     ]
    },
    {
     "name": "stderr",
     "output_type": "stream",
     "text": [
      "[Parallel(n_jobs=1)]: Done  75 out of  75 | elapsed:  3.0min finished\n"
     ]
    },
    {
     "data": {
      "text/plain": [
       "GridSearchCV(cv=5, error_score='raise',\n",
       "       estimator=SVC(C=1.0, cache_size=200, class_weight=None, coef0=0.0,\n",
       "  decision_function_shape=None, degree=3, gamma='auto', kernel='rbf',\n",
       "  max_iter=-1, probability=False, random_state=None, shrinking=True,\n",
       "  tol=0.001, verbose=False),\n",
       "       fit_params={}, iid=True, n_jobs=1,\n",
       "       param_grid={'kernel': ['linear', 'rbf', 'sigmoid'], 'C': array([  1.00000e-03,   1.00000e-02,   1.00000e-01,   1.00000e+00,\n",
       "         1.00000e+01]), 'probability': [True]},\n",
       "       pre_dispatch='2*n_jobs', refit=True, return_train_score=True,\n",
       "       scoring=None, verbose=2)"
      ]
     },
     "execution_count": 64,
     "metadata": {},
     "output_type": "execute_result"
    }
   ],
   "source": [
    "svc_params = {\n",
    "    'C':np.logspace(-3,1,5),\n",
    "    'kernel':['linear','rbf','sigmoid'],\n",
    "    'probability':[True]\n",
    "}\n",
    "\n",
    "svc_gs = GridSearchCV(SVC(), svc_params, cv=5, verbose=2)\n",
    "svc_gs.fit(X, y)"
   ]
  },
  {
   "cell_type": "code",
   "execution_count": 65,
   "metadata": {
    "collapsed": false
   },
   "outputs": [
    {
     "data": {
      "text/plain": [
       "{'C': 1.0, 'kernel': 'linear', 'probability': True}"
      ]
     },
     "execution_count": 65,
     "metadata": {},
     "output_type": "execute_result"
    }
   ],
   "source": [
    "svc_gs.best_params_"
   ]
  },
  {
   "cell_type": "code",
   "execution_count": 66,
   "metadata": {
    "collapsed": true
   },
   "outputs": [],
   "source": [
    "best_svc = svc_gs.best_estimator_"
   ]
  },
  {
   "cell_type": "code",
   "execution_count": 67,
   "metadata": {
    "collapsed": false
   },
   "outputs": [
    {
     "data": {
      "text/plain": [
       "0.86826992103374012"
      ]
     },
     "execution_count": 67,
     "metadata": {},
     "output_type": "execute_result"
    }
   ],
   "source": [
    "svc_gs.best_score_"
   ]
  },
  {
   "cell_type": "code",
   "execution_count": 68,
   "metadata": {
    "collapsed": false
   },
   "outputs": [
    {
     "data": {
      "text/plain": [
       "0.13406317300789664"
      ]
     },
     "execution_count": 68,
     "metadata": {},
     "output_type": "execute_result"
    }
   ],
   "source": [
    "y.mean()"
   ]
  },
  {
   "cell_type": "code",
   "execution_count": 69,
   "metadata": {
    "collapsed": false
   },
   "outputs": [
    {
     "data": {
      "text/plain": [
       "0.8659368269921034"
      ]
     },
     "execution_count": 69,
     "metadata": {},
     "output_type": "execute_result"
    }
   ],
   "source": [
    "1 - y.mean()"
   ]
  },
  {
   "cell_type": "code",
   "execution_count": null,
   "metadata": {
    "collapsed": false,
    "scrolled": true
   },
   "outputs": [
    {
     "name": "stdout",
     "output_type": "stream",
     "text": [
      "Fitting 5 folds for each of 20 candidates, totalling 100 fits\n",
      "[CV] n_neighbors=1, weights=uniform ..................................\n",
      "[CV] ................... n_neighbors=1, weights=uniform, total=   0.5s\n",
      "[CV] n_neighbors=1, weights=uniform ..................................\n"
     ]
    },
    {
     "name": "stderr",
     "output_type": "stream",
     "text": [
      "[Parallel(n_jobs=1)]: Done   1 out of   1 | elapsed:    2.0s remaining:    0.0s\n"
     ]
    },
    {
     "name": "stdout",
     "output_type": "stream",
     "text": [
      "[CV] ................... n_neighbors=1, weights=uniform, total=   0.4s\n",
      "[CV] n_neighbors=1, weights=uniform ..................................\n",
      "[CV] ................... n_neighbors=1, weights=uniform, total=   0.4s\n",
      "[CV] n_neighbors=1, weights=uniform ..................................\n",
      "[CV] ................... n_neighbors=1, weights=uniform, total=   0.4s\n",
      "[CV] n_neighbors=1, weights=uniform ..................................\n",
      "[CV] ................... n_neighbors=1, weights=uniform, total=   0.4s\n",
      "[CV] n_neighbors=1, weights=distance .................................\n",
      "[CV] .................. n_neighbors=1, weights=distance, total=   0.4s\n",
      "[CV] n_neighbors=1, weights=distance .................................\n",
      "[CV] .................. n_neighbors=1, weights=distance, total=   0.4s\n",
      "[CV] n_neighbors=1, weights=distance .................................\n",
      "[CV] .................. n_neighbors=1, weights=distance, total=   0.5s\n",
      "[CV] n_neighbors=1, weights=distance .................................\n",
      "[CV] .................. n_neighbors=1, weights=distance, total=   0.4s\n",
      "[CV] n_neighbors=1, weights=distance .................................\n",
      "[CV] .................. n_neighbors=1, weights=distance, total=   0.5s\n",
      "[CV] n_neighbors=11, weights=uniform .................................\n",
      "[CV] .................. n_neighbors=11, weights=uniform, total=   0.7s\n",
      "[CV] n_neighbors=11, weights=uniform .................................\n",
      "[CV] .................. n_neighbors=11, weights=uniform, total=   0.4s\n",
      "[CV] n_neighbors=11, weights=uniform .................................\n",
      "[CV] .................. n_neighbors=11, weights=uniform, total=   0.4s\n",
      "[CV] n_neighbors=11, weights=uniform .................................\n",
      "[CV] .................. n_neighbors=11, weights=uniform, total=   0.4s\n",
      "[CV] n_neighbors=11, weights=uniform .................................\n",
      "[CV] .................. n_neighbors=11, weights=uniform, total=   0.4s\n",
      "[CV] n_neighbors=11, weights=distance ................................\n",
      "[CV] ................. n_neighbors=11, weights=distance, total=   0.4s\n",
      "[CV] n_neighbors=11, weights=distance ................................\n",
      "[CV] ................. n_neighbors=11, weights=distance, total=   0.4s\n",
      "[CV] n_neighbors=11, weights=distance ................................\n",
      "[CV] ................. n_neighbors=11, weights=distance, total=   0.4s\n",
      "[CV] n_neighbors=11, weights=distance ................................\n",
      "[CV] ................. n_neighbors=11, weights=distance, total=   0.5s\n",
      "[CV] n_neighbors=11, weights=distance ................................\n",
      "[CV] ................. n_neighbors=11, weights=distance, total=   0.4s\n",
      "[CV] n_neighbors=21, weights=uniform .................................\n",
      "[CV] .................. n_neighbors=21, weights=uniform, total=   0.5s\n",
      "[CV] n_neighbors=21, weights=uniform .................................\n",
      "[CV] .................. n_neighbors=21, weights=uniform, total=   0.6s\n",
      "[CV] n_neighbors=21, weights=uniform .................................\n",
      "[CV] .................. n_neighbors=21, weights=uniform, total=   0.4s\n",
      "[CV] n_neighbors=21, weights=uniform .................................\n",
      "[CV] .................. n_neighbors=21, weights=uniform, total=   0.4s\n",
      "[CV] n_neighbors=21, weights=uniform .................................\n",
      "[CV] .................. n_neighbors=21, weights=uniform, total=   0.4s\n",
      "[CV] n_neighbors=21, weights=distance ................................\n",
      "[CV] ................. n_neighbors=21, weights=distance, total=   0.5s\n",
      "[CV] n_neighbors=21, weights=distance ................................\n"
     ]
    }
   ],
   "source": [
    "knn_params = {\n",
    "    'n_neighbors':range(1,100,10),\n",
    "    'weights':['uniform','distance']\n",
    "}\n",
    "\n",
    "from sklearn.neighbors import KNeighborsClassifier\n",
    "\n",
    "knn_gs = GridSearchCV(KNeighborsClassifier(), knn_params, cv=5, verbose=2)\n",
    "knn_gs.fit(X, y)"
   ]
  },
  {
   "cell_type": "code",
   "execution_count": null,
   "metadata": {
    "collapsed": true
   },
   "outputs": [],
   "source": []
  }
 ],
 "metadata": {
  "anaconda-cloud": {},
  "kernelspec": {
   "display_name": "Python [default]",
   "language": "python",
   "name": "python2"
  },
  "language_info": {
   "codemirror_mode": {
    "name": "ipython",
    "version": 2
   },
   "file_extension": ".py",
   "mimetype": "text/x-python",
   "name": "python",
   "nbconvert_exporter": "python",
   "pygments_lexer": "ipython2",
   "version": "2.7.12"
  }
 },
 "nbformat": 4,
 "nbformat_minor": 0
}
