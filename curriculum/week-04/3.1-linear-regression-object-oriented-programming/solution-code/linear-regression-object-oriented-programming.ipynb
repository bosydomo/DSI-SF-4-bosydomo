{
 "cells": [
  {
   "cell_type": "markdown",
   "metadata": {},
   "source": [
    "<img src=\"https://ga-dash.s3.amazonaws.com/production/assets/logo-9f88ae6c9c3871690e33280fcf557f33.png\" style=\"float: left; margin: 15px;\">\n",
    "\n",
    "## Linear Regression and Object Oriented Programming\n",
    "\n",
    "Week 3 | 3.1\n",
    "\n",
    "---"
   ]
  },
  {
   "cell_type": "markdown",
   "metadata": {},
   "source": [
    "### Deriving the least squares solution to linear regression\n",
    "\n",
    "With target vector $y$ and prediction matrix $X$, we can formulate a regression as:\n",
    "\n",
    "### $$ y = \\beta X + \\epsilon $$\n",
    "\n",
    "Where $\\beta$ is our vector of coefficients and $\\epsilon$ is our vector of errors, or residuals.\n",
    "\n",
    "We can equivalently formulate this as a calculation of the residuals:\n",
    "\n",
    "### $$ \\epsilon = \\beta X - y $$\n",
    "\n",
    "Our goal is to minimize the sum of squared residuals. The sum of squared residuals is equivalent to the dot product of the vector of residuals:\n",
    "\n",
    "### $$ \\sum_{i=1}^n \\epsilon_i^2 = \n",
    "\\left[\\begin{array}{cc}\n",
    "\\epsilon_1 \\cdots \\epsilon_n\n",
    "\\end{array}\\right] \n",
    "\\left[\\begin{array}{cc}\n",
    "\\epsilon_1 \\\\ \\cdots \\\\ \\epsilon_n\n",
    "\\end{array}\\right] = \\epsilon' \\epsilon\n",
    "$$\n",
    "\n",
    "Therefore we can write the sum of squared residuals as:\n",
    "\n",
    "### $$ \\epsilon' \\epsilon = (\\beta X - y)' (\\beta X - y) $$\n",
    "\n",
    "Which becomes:\n",
    "\n",
    "### $$ \\epsilon' \\epsilon = y'y - y'X\\beta - \\beta' X' y + \\beta' X' X \\beta $$\n",
    "\n",
    "Now take the derivative with respect to $\\beta$:\n",
    "\n",
    "### $$ \\frac{\\partial \\epsilon' \\epsilon}{\\partial \\beta} = \n",
    "-2X'y + 2X'X\\beta$$\n",
    "\n",
    "We want to minimize the sum of squared errors, and so we set the derivative to zero and solve for the beta coefficient vector:\n",
    "\n",
    "### $$ 0 = -2X'y + 2X'X\\beta \\\\\n",
    "X'X\\beta = X'y \\\\\n",
    "\\beta = (X'X)^{-1}X'y$$"
   ]
  },
  {
   "cell_type": "code",
   "execution_count": 1,
   "metadata": {
    "collapsed": true
   },
   "outputs": [],
   "source": [
    "import pandas as pd\n",
    "import numpy as np\n",
    "import matplotlib\n",
    "import matplotlib.pyplot as plt\n",
    "import seaborn as sns\n",
    "\n",
    "sns.set_style('darkgrid')\n",
    "%config InlineBackend.figure_format = 'retina'\n",
    "%matplotlib inline\n",
    "\n",
    "house = '/Users/kiefer/github-repos/DSI-SF-2/datasets/housing_data/housing-data.csv'\n",
    "house = pd.read_csv(house)"
   ]
  },
  {
   "cell_type": "code",
   "execution_count": 23,
   "metadata": {
    "collapsed": false
   },
   "outputs": [
    {
     "data": {
      "text/plain": [
       "array([[1, 2],\n",
       "       [2, 5]])"
      ]
     },
     "execution_count": 23,
     "metadata": {},
     "output_type": "execute_result"
    }
   ],
   "source": [
    "tmp = np.array([[1,2],[2,5]])\n",
    "tmp"
   ]
  },
  {
   "cell_type": "code",
   "execution_count": 24,
   "metadata": {
    "collapsed": false
   },
   "outputs": [
    {
     "data": {
      "text/plain": [
       "array([[ 5., -2.],\n",
       "       [-2.,  1.]])"
      ]
     },
     "execution_count": 24,
     "metadata": {},
     "output_type": "execute_result"
    }
   ],
   "source": [
    "np.linalg.inv(tmp)"
   ]
  },
  {
   "cell_type": "code",
   "execution_count": null,
   "metadata": {
    "collapsed": true
   },
   "outputs": [],
   "source": []
  },
  {
   "cell_type": "markdown",
   "metadata": {},
   "source": [
    "---\n",
    "\n",
    "## Classes and Objects\n",
    "\n",
    "In python, everything is an \"object\" of a specific type. This is the basis of what is known as object oriented programming.\n",
    "\n",
    "A class is a type of object. You can think of a class definition as a sort of \"blueprint\" that specifies the construction of a new object when instantiated.\n",
    "\n",
    "Knowing how to define and use classes is esential to programming python at an intermediate or advanced level. I will cover the basics here, which will help you understand how thinks like LinearRegression in sklearn work.\n",
    "\n"
   ]
  },
  {
   "cell_type": "code",
   "execution_count": null,
   "metadata": {
    "collapsed": true
   },
   "outputs": [],
   "source": []
  },
  {
   "cell_type": "markdown",
   "metadata": {},
   "source": [
    "---\n",
    "\n",
    "### Coding a simple version of `LinearRegression`\n",
    "\n",
    "By now you are familiar with the `LinearRegression` class in sklearn. We will walk through the re-creation of this class (a simplified version).\n",
    "\n",
    "\n",
    "### 1. The class definition\n",
    "\n",
    "Below is the beginning of our class blueprint:"
   ]
  },
  {
   "cell_type": "code",
   "execution_count": 2,
   "metadata": {
    "collapsed": true
   },
   "outputs": [],
   "source": [
    "class SimpleLinearRegression(object):\n",
    "    \n",
    "    def __init__(self):\n",
    "        self.coef_ = None\n",
    "        self.intercept_ = None"
   ]
  },
  {
   "cell_type": "markdown",
   "metadata": {},
   "source": [
    "What are the components of this?\n",
    "\n",
    "**`class`**\n",
    "\n",
    "- The `class` is like `def`, but instead of defining a function it defines a class.\n",
    "\n",
    "**`object`**\n",
    "\n",
    "- `object` in the parentheses of the class definition indicate that this class \"inherits\" from the `object` class. The object class is a very general, very fundamental class in python. Inheritance means that whatever properties and function are part of the `object` class are passed down to our `SimpleLinearRegression` class.\n",
    "\n",
    "**`def __init__(self)`**\n",
    "\n",
    "- The `def __init__(self):` is our class's initialization function. This function is called when you instantiate the class by typing `SimpleLinearRegression()`\n",
    "\n",
    "**`self`**\n",
    "\n",
    "- `self` is the (confusing) first argument to class definitions. It is a variable that refers to the **current instantiation of the class**. What does this mean? When you instantiate a class and assign it to a variable with `slr = SimpleLinearRegression()`, the `self` argument is now a reference to the current instantiation of the class `slr`. Now, when you use a function that is part of the class, it knows to use that specific object's function. This lets you have multiple instantiations of a class with the same function name.\n",
    "\n",
    "**class attributes**\n",
    "\n",
    "- `self.coef_` and `self.intercept_`, likewise, are \"attributes\" (variables) that are connected to the instantiation of the class. When self becomes `slr`, for example, the `self` becomes `slr` and `self.coef_` becomes `slr.coef`"
   ]
  },
  {
   "cell_type": "markdown",
   "metadata": {},
   "source": [
    "---\n",
    "\n",
    "### 2. Adding a class function\n",
    "\n",
    "Now, just like with `__init__`, we can add functions to the class.\n",
    "\n",
    "Let's add a `calculate_betas()` method that will calculate the coefficients for a linear regression."
   ]
  },
  {
   "cell_type": "code",
   "execution_count": 3,
   "metadata": {
    "collapsed": true
   },
   "outputs": [],
   "source": [
    "class SimpleLinearRegression(object):\n",
    "    \n",
    "    def __init__(self):\n",
    "        self.coef_ = None\n",
    "        self.intercept_ = None\n",
    "        \n",
    "    def fit(self, X, y):\n",
    "        # betas formula\n",
    "        # betas = (X'X)^-1 X'Y\n",
    "        \n",
    "        XtX = np.dot(X.T, X)\n",
    "        XtX_inv = np.linalg.inv(XtX)\n",
    "        XtX_inv_Xt = np.dot(XtX_inv, X.T)\n",
    "        self.coef_ = np.dot(XtX_inv_Xt, y)"
   ]
  },
  {
   "cell_type": "markdown",
   "metadata": {},
   "source": [
    "Notice that we assigned `self.coef_` inside of the `calculate_betas()` function.\n",
    "\n",
    "This will set the class attribute `self.coef_`, and this attribute can be accessed by _any other function in the class without passing it as an argument!_\n",
    "\n",
    "It can also be accessed by you after instantiating the class.\n",
    "\n",
    "---\n",
    "\n",
    "### 3. Assigning attributes during instantiation\n",
    "\n",
    "There is an issue here - we may pass an `X` matrix in without an intercept. \n",
    "\n",
    "Add a keyword argument to the `__init__` function which will specify whether the `X` matrix should have an intercept added or not."
   ]
  },
  {
   "cell_type": "code",
   "execution_count": 4,
   "metadata": {
    "collapsed": true
   },
   "outputs": [],
   "source": [
    "class SimpleLinearRegression(object):\n",
    "    \n",
    "    def __init__(self, fit_intercept=True):\n",
    "        self.coef_ = None\n",
    "        self.intercept_ = None\n",
    "        self.fit_intercept = fit_intercept\n",
    "        \n",
    "    def fit(self, X, y):\n",
    "        # betas formula\n",
    "        # betas = (X'X)^-1 X'Y\n",
    "        \n",
    "        XtX = np.dot(X.T, X)\n",
    "        XtX_inv = np.linalg.inv(XtX)\n",
    "        XtX_inv_Xt = np.dot(XtX_inv, X.T)\n",
    "        self.coef_ = np.dot(XtX_inv_Xt, y)\n",
    "        "
   ]
  },
  {
   "cell_type": "markdown",
   "metadata": {},
   "source": [
    "Now, if we instantiate the class, it will assign `fit_intercept` to the class attribute `fit_intercept`, like so:"
   ]
  },
  {
   "cell_type": "code",
   "execution_count": 5,
   "metadata": {
    "collapsed": false
   },
   "outputs": [
    {
     "data": {
      "text/plain": [
       "True"
      ]
     },
     "execution_count": 5,
     "metadata": {},
     "output_type": "execute_result"
    }
   ],
   "source": [
    "slr = SimpleLinearRegression(fit_intercept=True)\n",
    "slr.fit_intercept"
   ]
  },
  {
   "cell_type": "code",
   "execution_count": 6,
   "metadata": {
    "collapsed": false
   },
   "outputs": [
    {
     "data": {
      "text/plain": [
       "False"
      ]
     },
     "execution_count": 6,
     "metadata": {},
     "output_type": "execute_result"
    }
   ],
   "source": [
    "slr = SimpleLinearRegression(fit_intercept=False)\n",
    "slr.fit_intercept"
   ]
  },
  {
   "cell_type": "markdown",
   "metadata": {},
   "source": [
    "---\n",
    "\n",
    "### 4. Add a function to add an intercept to the `X` matrix if necessary\n",
    "\n",
    "This function will be called from inside the `fit` function."
   ]
  },
  {
   "cell_type": "code",
   "execution_count": 7,
   "metadata": {
    "collapsed": true
   },
   "outputs": [],
   "source": [
    "class SimpleLinearRegression(object):\n",
    "    \n",
    "    def __init__(self, fit_intercept=True):\n",
    "        self.coef_ = None\n",
    "        self.intercept_ = None\n",
    "        self.fit_intercept = fit_intercept\n",
    "        \n",
    "    def add_intercept(self, X):\n",
    "        intercept = np.ones((X.shape[0], 1))\n",
    "        X = np.concatenate([intercept, X], axis=1)\n",
    "        return X\n",
    "        \n",
    "    def fit(self, X, y):\n",
    "        \n",
    "        if self.fit_intercept:\n",
    "            X = self.add_intercept(X)\n",
    "        \n",
    "        # betas formula\n",
    "        # betas = (X'X)^-1 X'Y\n",
    "        \n",
    "        XtX = np.dot(X.T, X)\n",
    "        XtX_inv = np.linalg.inv(XtX)\n",
    "        XtX_inv_Xt = np.dot(XtX_inv, X.T)\n",
    "        betas = np.dot(XtX_inv_Xt, y)\n",
    "        \n",
    "        self.coef_ = betas[1:]\n",
    "        self.intercept_ = betas[0]"
   ]
  },
  {
   "cell_type": "markdown",
   "metadata": {},
   "source": [
    "---\n",
    "\n",
    "### 5. Try out the class...\n",
    "\n",
    "Let's instantiate the class and try out the coefficient fitting function on the housing data."
   ]
  },
  {
   "cell_type": "code",
   "execution_count": 8,
   "metadata": {
    "collapsed": true
   },
   "outputs": [],
   "source": [
    "y = house.price.values\n",
    "X = house[['sqft','bdrms','age']].values"
   ]
  },
  {
   "cell_type": "code",
   "execution_count": 9,
   "metadata": {
    "collapsed": false
   },
   "outputs": [
    {
     "name": "stdout",
     "output_type": "stream",
     "text": [
      "True\n",
      "None\n",
      "None\n"
     ]
    }
   ],
   "source": [
    "slr = SimpleLinearRegression(fit_intercept=True)\n",
    "print slr.fit_intercept\n",
    "print slr.coef_\n",
    "print slr.intercept_"
   ]
  },
  {
   "cell_type": "code",
   "execution_count": 10,
   "metadata": {
    "collapsed": true
   },
   "outputs": [],
   "source": [
    "slr.fit(X, y)"
   ]
  },
  {
   "cell_type": "code",
   "execution_count": 11,
   "metadata": {
    "collapsed": false
   },
   "outputs": [
    {
     "name": "stdout",
     "output_type": "stream",
     "text": [
      "[  139.33484671 -8621.47045953   -81.21787764]\n",
      "92451.6278416\n"
     ]
    }
   ],
   "source": [
    "print slr.coef_\n",
    "print slr.intercept_"
   ]
  },
  {
   "cell_type": "markdown",
   "metadata": {},
   "source": [
    "Like in the sklearn `LinearRegression` class, we now have access to the assigned `coef_` and `intercept_` attributes after fitting the model."
   ]
  },
  {
   "cell_type": "markdown",
   "metadata": {},
   "source": [
    "---\n",
    "\n",
    "### 6. Add the `predict` function.\n",
    "\n",
    "Let's add some more of the class methods that are in the real `LinearRegression` class.\n",
    "\n",
    "First off add the `predict` function. It will take a design matrix `X` and return predictions for those rows."
   ]
  },
  {
   "cell_type": "code",
   "execution_count": 12,
   "metadata": {
    "collapsed": true
   },
   "outputs": [],
   "source": [
    "class SimpleLinearRegression(object):\n",
    "    \n",
    "    def __init__(self, fit_intercept=True):\n",
    "        self.coef_ = None\n",
    "        self.intercept_ = None\n",
    "        self.fit_intercept = fit_intercept\n",
    "        \n",
    "    def add_intercept(self, X):\n",
    "        intercept = np.ones((X.shape[0], 1))\n",
    "        X = np.concatenate([intercept, X], axis=1)\n",
    "        return X\n",
    "        \n",
    "    def fit(self, X, y):\n",
    "        \n",
    "        if self.fit_intercept:\n",
    "            X = self.add_intercept(X)\n",
    "        \n",
    "        # betas formula\n",
    "        # betas = (X'X)^-1 X'Y\n",
    "        \n",
    "        XtX = np.dot(X.T, X)\n",
    "        XtX_inv = np.linalg.inv(XtX)\n",
    "        XtX_inv_Xt = np.dot(XtX_inv, X.T)\n",
    "        betas = np.dot(XtX_inv_Xt, y)\n",
    "        \n",
    "        self.coef_ = betas[1:]\n",
    "        self.intercept_ = betas[0]\n",
    "        \n",
    "    def predict(self, X):\n",
    "        if self.fit_intercept:\n",
    "            X = self.add_intercept(X)\n",
    "            \n",
    "        return np.dot(X, np.concatenate([[self.intercept_], self.coef_]))"
   ]
  },
  {
   "cell_type": "code",
   "execution_count": 13,
   "metadata": {
    "collapsed": true
   },
   "outputs": [],
   "source": [
    "slr = SimpleLinearRegression(fit_intercept=True)\n",
    "slr.fit(X,y)\n",
    "y_hat = slr.predict(X)"
   ]
  },
  {
   "cell_type": "code",
   "execution_count": 14,
   "metadata": {
    "collapsed": false
   },
   "outputs": [
    {
     "name": "stdout",
     "output_type": "stream",
     "text": [
      "(47,) (47,)\n"
     ]
    }
   ],
   "source": [
    "print y.shape, y_hat.shape"
   ]
  },
  {
   "cell_type": "markdown",
   "metadata": {},
   "source": [
    "---\n",
    "\n",
    "### 7. Add a `score` method.\n",
    "\n",
    "This will calculate the $R^2$ of your model on a provided `X` and `y`.\n",
    "\n",
    "You'll probably need to write a helper function to calculate the sum of squared errors, since this will be run for both the baseline model and the regression model in order to calculate the $R^2$."
   ]
  },
  {
   "cell_type": "code",
   "execution_count": 15,
   "metadata": {
    "collapsed": true
   },
   "outputs": [],
   "source": [
    "class SimpleLinearRegression(object):\n",
    "    \n",
    "    def __init__(self, fit_intercept=True):\n",
    "        self.coef_ = None\n",
    "        self.intercept_ = None\n",
    "        self.fit_intercept = fit_intercept\n",
    "        \n",
    "    def add_intercept(self, X):\n",
    "        intercept = np.ones((X.shape[0], 1))\n",
    "        X = np.concatenate([intercept, X], axis=1)\n",
    "        return X\n",
    "        \n",
    "    def fit(self, X, y):\n",
    "        \n",
    "        if self.fit_intercept:\n",
    "            X = self.add_intercept(X)\n",
    "        \n",
    "        # betas formula\n",
    "        # betas = (X'X)^-1 X'Y\n",
    "        \n",
    "        XtX = np.dot(X.T, X)\n",
    "        XtX_inv = np.linalg.inv(XtX)\n",
    "        XtX_inv_Xt = np.dot(XtX_inv, X.T)\n",
    "        betas = np.dot(XtX_inv_Xt, y)\n",
    "        \n",
    "        self.coef_ = betas[1:]\n",
    "        self.intercept_ = betas[0]\n",
    "        \n",
    "    def predict(self, X):\n",
    "        if self.fit_intercept:\n",
    "            X = self.add_intercept(X)\n",
    "            \n",
    "        return np.dot(X, np.concatenate([[self.intercept_], self.coef_]))\n",
    "    \n",
    "    def _calculate_sse(self, y_true, y_hat):\n",
    "        return np.sum((y_true - y_hat)**2)\n",
    "        \n",
    "    def _calculate_r2(self, sse_model, sse_baseline):\n",
    "        return 1. - float(sse_model)/sse_baseline\n",
    "    \n",
    "    def score(self, X, y):\n",
    "            \n",
    "        baseline_sse = self._calculate_sse(y, np.tile(np.mean(y), len(y)))\n",
    "        \n",
    "        y_hat = self.predict(X)\n",
    "        model_sse = self._calculate_sse(y, y_hat)\n",
    "        \n",
    "        return self._calculate_r2(model_sse, baseline_sse)\n",
    "          "
   ]
  },
  {
   "cell_type": "code",
   "execution_count": 16,
   "metadata": {
    "collapsed": false
   },
   "outputs": [
    {
     "name": "stdout",
     "output_type": "stream",
     "text": [
      "0.733163999069\n"
     ]
    }
   ],
   "source": [
    "slr = SimpleLinearRegression(fit_intercept=True)\n",
    "slr.fit(X,y)\n",
    "r2 = slr.score(X, y)\n",
    "print r2"
   ]
  },
  {
   "cell_type": "markdown",
   "metadata": {},
   "source": [
    "Check against sklearn's implementation:"
   ]
  },
  {
   "cell_type": "code",
   "execution_count": 17,
   "metadata": {
    "collapsed": true
   },
   "outputs": [],
   "source": [
    "from sklearn.linear_model import LinearRegression"
   ]
  },
  {
   "cell_type": "code",
   "execution_count": 18,
   "metadata": {
    "collapsed": false
   },
   "outputs": [
    {
     "name": "stderr",
     "output_type": "stream",
     "text": [
      "//anaconda/lib/python2.7/site-packages/scipy/linalg/basic.py:884: RuntimeWarning: internal gelsd driver lwork query error, required iwork dimension not returned. This is likely the result of LAPACK bug 0038, fixed in LAPACK 3.2.2 (released July 21, 2010). Falling back to 'gelss' driver.\n",
      "  warnings.warn(mesg, RuntimeWarning)\n"
     ]
    },
    {
     "data": {
      "text/plain": [
       "0.73316399906900243"
      ]
     },
     "execution_count": 18,
     "metadata": {},
     "output_type": "execute_result"
    }
   ],
   "source": [
    "lr = LinearRegression()\n",
    "lr.fit(X,y)\n",
    "lr.score(X,y)"
   ]
  },
  {
   "cell_type": "markdown",
   "metadata": {},
   "source": [
    "---\n",
    "\n",
    "### 8. Inspecting a class\n",
    "\n",
    "When we want to know more about a class object, we can use the \"inspect\" module. Specifically the `inspect.getmembers()` function takes an instantiated class as an argument and returns an information dictionary.\n",
    "\n",
    "This can be helpful to know what attributes and methods are avaiable and basically, the blueprint of a class object in memory.  Depending on the way the class was implemented, you can usually find useful information hiding inside of `slr.__class__.__dict__` -- which can be easier to look at.  The \"right way\" is to use the \"inspect\" module."
   ]
  },
  {
   "cell_type": "code",
   "execution_count": 19,
   "metadata": {
    "collapsed": true
   },
   "outputs": [],
   "source": [
    "import inspect"
   ]
  },
  {
   "cell_type": "code",
   "execution_count": 20,
   "metadata": {
    "collapsed": false
   },
   "outputs": [
    {
     "data": {
      "text/plain": [
       "[('__class__', __main__.SimpleLinearRegression),\n",
       " ('__delattr__',\n",
       "  <method-wrapper '__delattr__' of SimpleLinearRegression object at 0x1178da050>),\n",
       " ('__dict__',\n",
       "  {'coef_': array([  139.33484671, -8621.47045953,   -81.21787764]),\n",
       "   'fit_intercept': True,\n",
       "   'intercept_': 92451.627841645211}),\n",
       " ('__doc__', None),\n",
       " ('__format__', <function __format__>),\n",
       " ('__getattribute__',\n",
       "  <method-wrapper '__getattribute__' of SimpleLinearRegression object at 0x1178da050>),\n",
       " ('__hash__',\n",
       "  <method-wrapper '__hash__' of SimpleLinearRegression object at 0x1178da050>),\n",
       " ('__init__',\n",
       "  <bound method SimpleLinearRegression.__init__ of <__main__.SimpleLinearRegression object at 0x1178da050>>),\n",
       " ('__module__', '__main__'),\n",
       " ('__new__', <function __new__>),\n",
       " ('__reduce__', <function __reduce__>),\n",
       " ('__reduce_ex__', <function __reduce_ex__>),\n",
       " ('__repr__',\n",
       "  <method-wrapper '__repr__' of SimpleLinearRegression object at 0x1178da050>),\n",
       " ('__setattr__',\n",
       "  <method-wrapper '__setattr__' of SimpleLinearRegression object at 0x1178da050>),\n",
       " ('__sizeof__', <function __sizeof__>),\n",
       " ('__str__',\n",
       "  <method-wrapper '__str__' of SimpleLinearRegression object at 0x1178da050>),\n",
       " ('__subclasshook__', <function __subclasshook__>),\n",
       " ('__weakref__', None),\n",
       " ('_calculate_r2',\n",
       "  <bound method SimpleLinearRegression._calculate_r2 of <__main__.SimpleLinearRegression object at 0x1178da050>>),\n",
       " ('_calculate_sse',\n",
       "  <bound method SimpleLinearRegression._calculate_sse of <__main__.SimpleLinearRegression object at 0x1178da050>>),\n",
       " ('add_intercept',\n",
       "  <bound method SimpleLinearRegression.add_intercept of <__main__.SimpleLinearRegression object at 0x1178da050>>),\n",
       " ('coef_', array([  139.33484671, -8621.47045953,   -81.21787764])),\n",
       " ('fit',\n",
       "  <bound method SimpleLinearRegression.fit of <__main__.SimpleLinearRegression object at 0x1178da050>>),\n",
       " ('fit_intercept', True),\n",
       " ('intercept_', 92451.627841645211),\n",
       " ('predict',\n",
       "  <bound method SimpleLinearRegression.predict of <__main__.SimpleLinearRegression object at 0x1178da050>>),\n",
       " ('score',\n",
       "  <bound method SimpleLinearRegression.score of <__main__.SimpleLinearRegression object at 0x1178da050>>)]"
      ]
     },
     "execution_count": 20,
     "metadata": {},
     "output_type": "execute_result"
    }
   ],
   "source": [
    "inspect.getmembers(slr)"
   ]
  },
  {
   "cell_type": "markdown",
   "metadata": {},
   "source": [
    "---\n",
    "\n",
    "### Special Class Methods\n",
    "\n",
    "|Method| Description|\n",
    "|--|--|\n",
    "|\\_\\_init\\_\\_ ( self [,args...] )| Constructor (with any optional arguments) Sample Call : obj = className(args)\n",
    "|\\_\\_del\\_\\_( self ) | Destructor, deletes an object Sample Call : del obj\n",
    "|\\_\\_repr\\_\\_( self ) | Evaluatable string representation Sample Call : repr(obj)\n",
    "|\\_\\_str\\_\\_( self ) | Printable string representation Sample Call : str(obj)\n",
    "|\\_\\_cmp\\_\\_ ( self, x ) | Object comparison Sample Call : cmp(obj, x)\n",
    "\n",
    "The `__repr__` function reports back something descriptive about what the class represents.  You can basically do whatever you want with it but the purpose of it is to convey something descirptive about your class.\n",
    "\n",
    "The `__del__` method is the bookend function of `__init__`. You can use it to run code once your class is done executing.  \n",
    "\n",
    "Generally it works well but in practice there are a few things watch out for.  Read more about [safely using Python destructors](http://eli.thegreenplace.net/2009/06/12/safely-using-destructors-in-python)"
   ]
  },
  {
   "cell_type": "code",
   "execution_count": null,
   "metadata": {
    "collapsed": true
   },
   "outputs": [],
   "source": []
  }
 ],
 "metadata": {
  "kernelspec": {
   "display_name": "Python 2",
   "language": "python",
   "name": "python2"
  },
  "language_info": {
   "codemirror_mode": {
    "name": "ipython",
    "version": 2
   },
   "file_extension": ".py",
   "mimetype": "text/x-python",
   "name": "python",
   "nbconvert_exporter": "python",
   "pygments_lexer": "ipython2",
   "version": "2.7.12"
  }
 },
 "nbformat": 4,
 "nbformat_minor": 0
}
