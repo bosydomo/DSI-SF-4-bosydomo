{
 "cells": [
  {
   "cell_type": "markdown",
   "metadata": {},
   "source": [
    "## Python Programming Challenge"
   ]
  },
  {
   "cell_type": "markdown",
   "metadata": {},
   "source": [
    "### Description:\n",
    "\n",
    "Create a function that finds the largest palindromic number made from the product of any amount of at least 2 numeric arguments."
   ]
  },
  {
   "cell_type": "markdown",
   "metadata": {},
   "source": [
    "### Example:\n",
    "\n",
    "numericPalindrome(937,113) == 81518\n",
    "\n",
    "As 937 * 113 = 105881 and the largest palindromic number that can be arranged from this result is: 81518."
   ]
  },
  {
   "cell_type": "markdown",
   "metadata": {},
   "source": [
    "### Further example:\n",
    "\n",
    "numericPalindrome(57,62,23)==82128\n",
    "\n",
    "Because you try all possible combinations $(57*62,57*23,62*23,57*62*23)$ and find that the product 81282 allow to create the largest palindrome (then again: notice that you are must not necessarily use all the digits of a product, as it was by chance in this case)."
   ]
  },
  {
   "cell_type": "markdown",
   "metadata": {},
   "source": [
    "### Note: single digits numbers are still considered (edge) palindromes, so for:\n",
    "\n",
    "numeric_palindrome(15, 125, 8) == 8\n",
    "\n",
    "You try all possible combinations $(15*125,15*8,125*8,15*125*8)$ and find that 1875 generates the largest palindrome number, namely 8."
   ]
  },
  {
   "cell_type": "markdown",
   "metadata": {},
   "source": [
    "### Notes and tips\n",
    "\n",
    "This kata is quite demanding, as you will need to manage all possible combinations to get products, then use all or some of the digits of each product to get the largest palindrome: as you can easily guess, the computing time can easily grow exponentially, so you will need to work on optimization to be able to make it in the alloted time.\n",
    "\n",
    "Dealing with 1s and 0s when passed as parameters in a smart way could help. A lot.\n"
   ]
  },
  {
   "cell_type": "code",
   "execution_count": 1,
   "metadata": {
    "collapsed": false
   },
   "outputs": [],
   "source": [
    "from functools import reduce\n",
    "from operator import mul\n",
    "from collections import Counter\n",
    "\n",
    "def numeric_palindrome(*args):\n",
    "    #your code here\n",
    "    return 81518\n",
    "    "
   ]
  },
  {
   "cell_type": "code",
   "execution_count": 2,
   "metadata": {
    "collapsed": false
   },
   "outputs": [
    {
     "ename": "AssertionError",
     "evalue": "",
     "output_type": "error",
     "traceback": [
      "\u001b[0;31m---------------------------------------------------------------------------\u001b[0m",
      "\u001b[0;31mAssertionError\u001b[0m                            Traceback (most recent call last)",
      "\u001b[0;32m<ipython-input-2-b35b21703f11>\u001b[0m in \u001b[0;36m<module>\u001b[0;34m()\u001b[0m\n\u001b[1;32m      1\u001b[0m \u001b[0;32massert\u001b[0m \u001b[0mnumeric_palindrome\u001b[0m\u001b[0;34m(\u001b[0m\u001b[0;36m937\u001b[0m\u001b[0;34m,\u001b[0m\u001b[0;36m113\u001b[0m\u001b[0;34m)\u001b[0m \u001b[0;34m==\u001b[0m \u001b[0;36m81518\u001b[0m\u001b[0;34m\u001b[0m\u001b[0m\n\u001b[0;32m----> 2\u001b[0;31m \u001b[0;32massert\u001b[0m \u001b[0mnumeric_palindrome\u001b[0m\u001b[0;34m(\u001b[0m\u001b[0;36m657\u001b[0m\u001b[0;34m,\u001b[0m\u001b[0;36m892\u001b[0m\u001b[0;34m)\u001b[0m \u001b[0;34m==\u001b[0m \u001b[0;36m484\u001b[0m\u001b[0;34m\u001b[0m\u001b[0m\n\u001b[0m\u001b[1;32m      3\u001b[0m \u001b[0;32massert\u001b[0m \u001b[0mnumeric_palindrome\u001b[0m\u001b[0;34m(\u001b[0m\u001b[0;36m48\u001b[0m\u001b[0;34m,\u001b[0m\u001b[0;36m9\u001b[0m\u001b[0;34m,\u001b[0m\u001b[0;36m3\u001b[0m\u001b[0;34m,\u001b[0m\u001b[0;36m67\u001b[0m\u001b[0;34m)\u001b[0m \u001b[0;34m==\u001b[0m \u001b[0;36m868\u001b[0m\u001b[0;34m\u001b[0m\u001b[0m\n",
      "\u001b[0;31mAssertionError\u001b[0m: "
     ]
    }
   ],
   "source": [
    "assert numeric_palindrome(937,113) == 81518\n",
    "assert numeric_palindrome(657,892) == 484\n",
    "assert numeric_palindrome(48,9,3,67) == 868"
   ]
  },
  {
   "cell_type": "code",
   "execution_count": 38,
   "metadata": {
    "collapsed": false
   },
   "outputs": [
    {
     "name": "stdout",
     "output_type": "stream",
     "text": [
      "{(62, 23): 1426, (57, 62, 23): 81282, (57, 62): 3534, (57, 23): 1311}\n"
     ]
    }
   ],
   "source": [
    "from itertools import combinations\n",
    "\n",
    "df = [57,62,23]\n",
    "\n",
    "def is_pall(inp):\n",
    "    backwards = inp[::-1]\n",
    "    if backwards == inp:\n",
    "        return True\n",
    "\n",
    "def find_all_combinations(list1):\n",
    "    mul_dict = {}\n",
    "    comb_leng_max = len(list1)\n",
    "    for i in range(comb_leng_max):\n",
    "        i = i+2\n",
    "        de = list(itertools.combinations(list1, i))\n",
    "        \n",
    "        for j in de:\n",
    "            call_list = list(j)\n",
    "            b = reduce(mul, j)\n",
    "            mul_dict[j] = b\n",
    "            \n",
    "    print mul_dict\n",
    "            \n",
    "    \n",
    "    \n",
    "                \n",
    "find_all_combinations(df)\n",
    "            \n",
    "\n"
   ]
  },
  {
   "cell_type": "code",
   "execution_count": 21,
   "metadata": {
    "collapsed": false
   },
   "outputs": [
    {
     "data": {
      "text/plain": [
       "[(1, 2),\n",
       " (1, 3),\n",
       " (1, 4),\n",
       " (1, 5),\n",
       " (2, 3),\n",
       " (2, 4),\n",
       " (2, 5),\n",
       " (3, 4),\n",
       " (3, 5),\n",
       " (4, 5)]"
      ]
     },
     "execution_count": 21,
     "metadata": {},
     "output_type": "execute_result"
    }
   ],
   "source": []
  },
  {
   "cell_type": "code",
   "execution_count": null,
   "metadata": {
    "collapsed": true
   },
   "outputs": [],
   "source": []
  }
 ],
 "metadata": {
  "anaconda-cloud": {},
  "kernelspec": {
   "display_name": "Python [conda env:dsi]",
   "language": "python",
   "name": "conda-env-dsi-py"
  },
  "language_info": {
   "codemirror_mode": {
    "name": "ipython",
    "version": 2
   },
   "file_extension": ".py",
   "mimetype": "text/x-python",
   "name": "python",
   "nbconvert_exporter": "python",
   "pygments_lexer": "ipython2",
   "version": "2.7.12"
  }
 },
 "nbformat": 4,
 "nbformat_minor": 0
}
