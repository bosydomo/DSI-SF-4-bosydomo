{
 "cells": [
  {
   "cell_type": "code",
   "execution_count": 215,
   "metadata": {
    "collapsed": false
   },
   "outputs": [],
   "source": [
    "class name_caller(object):\n",
    "    import numpy as np\n",
    "    \n",
    "    def __init__(self,name_list,replace=False):\n",
    "        self.name_list = name_list\n",
    "        self.load_students()\n",
    "        self.replace=replace\n",
    "      \n",
    "    def load_students(self):\n",
    "        self.name_index = range(len(self.name_list))\n",
    "        np.random.shuffle(self.name_index)\n",
    "    \n",
    "    def call_student(self):\n",
    "        if len(self.name_index) == 0 or self.replace:\n",
    "            self.load_students()\n",
    "            \n",
    "        print self.name_list[self.name_index.pop()]\n",
    "            \n",
    "            \n",
    "\n",
    "students = name_caller(['Austin', 'Andrew S', 'Katerina', 'Amlan', 'Jyotsna', 'Rashim', 'Davis', 'Reem', 'Luke', 'Ty', 'Wen', \n",
    "                'Christopher', 'Andrew Y', 'Spencer', 'Jim', 'Aneel', 'Medhi', 'Ben', 'Harrison', 'Vinnie', 'Laura']\n",
    "                ,replace=False)"
   ]
  },
  {
   "cell_type": "code",
   "execution_count": 221,
   "metadata": {
    "collapsed": false
   },
   "outputs": [
    {
     "name": "stdout",
     "output_type": "stream",
     "text": [
      "Katerina\n"
     ]
    }
   ],
   "source": [
    "students.call_student()"
   ]
  },
  {
   "cell_type": "code",
   "execution_count": 226,
   "metadata": {
    "collapsed": false
   },
   "outputs": [
    {
     "name": "stdout",
     "output_type": "stream",
     "text": [
      "g:2\n",
      "m:2\n",
      "r:2\n"
     ]
    }
   ],
   "source": [
    "# 1. Find duplicates in a string with a function:\n",
    "# ----------------------------------------------------\n",
    "# dups(\"programming\")\n",
    "# g : 2\n",
    "# r : 2\n",
    "# m : 2\n",
    "\n",
    "def dups(user_string):\n",
    "    from collections import Counter\n",
    "    \n",
    "    wc = Counter(user_string)\n",
    "    \n",
    "    for k,v in wc.items():\n",
    "        if v/2 >= 1:\n",
    "            print '%s:%s' %(k,v)\n",
    "        else:\n",
    "            pass\n",
    "\n",
    "dups(\"programming\")"
   ]
  },
  {
   "cell_type": "code",
   "execution_count": 230,
   "metadata": {
    "collapsed": false
   },
   "outputs": [
    {
     "name": "stdout",
     "output_type": "stream",
     "text": [
      "This word has 2 vowels and 2 consonants\n"
     ]
    }
   ],
   "source": [
    "# 2. count vowels and consonants in a string:\n",
    "# ----------------------------------------------------\n",
    "# countTypes('java')\n",
    "# this has 2 vowels and 2 consonants\n",
    "\n",
    "\n",
    "def counterTypes(user_string):\n",
    "    from string import ascii_lowercase\n",
    "    vowels = 'aeiou'\n",
    "    \n",
    "    vowel_count = 0\n",
    "    consonant_count = 0\n",
    "    \n",
    "    for l in user_string.lower():\n",
    "        if l in vowels:\n",
    "            vowel_count += 1\n",
    "        elif l in ascii_lowercase:\n",
    "            consonant_count += 1\n",
    "            \n",
    "    return 'This word has %s vowels and %s consonants' %(vowel_count,consonant_count)\n",
    "\n",
    "print counterTypes('java')"
   ]
  },
  {
   "cell_type": "code",
   "execution_count": 231,
   "metadata": {
    "collapsed": false
   },
   "outputs": [
    {
     "name": "stdout",
     "output_type": "stream",
     "text": [
      "a : 2\n",
      "j : 1\n",
      "v : 1\n",
      "The maximum is a @ 2 chars\n"
     ]
    }
   ],
   "source": [
    "# 3. count number of occurances in a string\n",
    "# ----------------------------------------------------\n",
    "# occurances('java'), also return and note the maximum\n",
    "# a : 2\n",
    "# v : 1\n",
    "# j : 1\n",
    "# the maximum is a @ 2 chars\n",
    "\n",
    "\n",
    "def occurances(user_string):\n",
    "    from collections import Counter\n",
    "    \n",
    "    lc = Counter(user_string.lower())\n",
    "    \n",
    "    max_count = ('',0)\n",
    "    \n",
    "    for k,v in lc.items():\n",
    "        print k,':',v\n",
    "        \n",
    "        if v > max_count[1]:\n",
    "            max_count = (k,v)\n",
    "            \n",
    "    print 'The maximum is %s @ %s chars' %(max_count[0],max_count[1])\n",
    "    \n",
    "occurances('java')"
   ]
  },
  {
   "cell_type": "code",
   "execution_count": 232,
   "metadata": {
    "collapsed": false
   },
   "outputs": [
    {
     "name": "stdout",
     "output_type": "stream",
     "text": [
      "[True, True, False]\n"
     ]
    }
   ],
   "source": [
    "# 6. Check to see if a word is a palidrome\n",
    "# ----------------------------------------------------\n",
    "# phrases = ['radar','madam','java']\n",
    "# ---- > True, True, False\n",
    "\n",
    "\n",
    "def pal_check(user_list):\n",
    "    return [X==X[::-1] for X in user_list]\n",
    "\n",
    "print pal_check(['radar','madam','java'])"
   ]
  }
 ],
 "metadata": {
  "anaconda-cloud": {},
  "kernelspec": {
   "display_name": "Python [dsi]",
   "language": "python",
   "name": "Python [dsi]"
  },
  "language_info": {
   "codemirror_mode": {
    "name": "ipython",
    "version": 2
   },
   "file_extension": ".py",
   "mimetype": "text/x-python",
   "name": "python",
   "nbconvert_exporter": "python",
   "pygments_lexer": "ipython2",
   "version": "2.7.12"
  }
 },
 "nbformat": 4,
 "nbformat_minor": 0
}
