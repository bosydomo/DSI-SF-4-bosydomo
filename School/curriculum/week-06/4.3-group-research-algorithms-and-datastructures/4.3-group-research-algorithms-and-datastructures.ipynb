{
 "cells": [
  {
   "cell_type": "markdown",
   "metadata": {},
   "source": [
    "<img src=\"https://ga-dash.s3.amazonaws.com/production/assets/logo-9f88ae6c9c3871690e33280fcf557f33.png\" style=\"float: left; margin: 10px\">\n",
    "\n",
    "# Group Research:  Algorithms and Data Structures\n",
    "Week 6 | Group Activity 4.3\n",
    "\n",
    "Today, we are going to form 4 groups, research a given set of topics, then present our given topics.  The universal goals for topics:\n",
    "\n",
    "- 10-15 minute presentation\n",
    "- Explain concept at a high level\n",
    "- Explain relevency to any machine learning methods (if / when possible)\n",
    "- Demonstrate basic usage of concept\n",
    "- Min 2-3 visual examples of core concept(s)\n"
   ]
  },
  {
   "cell_type": "markdown",
   "metadata": {},
   "source": [
    "## Group 1:  Asymptotic Analysis, Big O, Big O in Python\n",
    "\n",
    "This presentation is all about the core fundamental concepts around time and space efficiency of code.  \n",
    "\n",
    ">Please explain the basics, with an emphasis on Big O, in addition to \"Big O in Python\" explaining efficiency of common Python operations related to this concept."
   ]
  },
  {
   "cell_type": "markdown",
   "metadata": {},
   "source": [
    "## Group 2:  Data Structures, Graph Search, and Shortest Paths \n",
    "\n",
    "One of the most important computer science concepts is related to how to structure data efficiently.  All code utilizes some sort of data structure in order to facilitate some purpose.  We're not just talking about `list`, `tuple`, `set`, `dict` when we need to design and implement a solution.  Many of the tools we use every day in class, make heavy use of complex data structures but we normally don't need to think through these complexities we call methods on our dataframes like `.groupby`, or `.sort`, or fit our models in sklearn.\n",
    "\n",
    ">*When possible, relate any of these ideas in terms of \"Big O\".*\n",
    "\n"
   ]
  },
  {
   "cell_type": "markdown",
   "metadata": {},
   "source": [
    "## Group 3:  Divide and Conquer, Sorting and Searching\n",
    "\n",
    "Divide and Conquer (D&C) is an approach to spliting a problem into smaller subsets, allowing it to be solved in simpler terms.  It's important to know what this concept is about, including the tradeoffs in performance.  The parallels with searching and sorting should also be drawn on with the concept of D&C.\n",
    "\n",
    ">*When might you use these types of algorithms?  Have we used them already?*\n",
    "\n",
    ">*When possible, relate any of these ideas in terms of \"Big O\".*"
   ]
  },
  {
   "cell_type": "markdown",
   "metadata": {},
   "source": [
    "## Group 4:  Greedy Algorithms, Minimum Spanning Trees, Optimistic Programming\n",
    "\n",
    "To be greedy, is to be short sighted when we're talking about greedy algorithms.  Sometimes these are great in the right case but which ones?  Which types are there?\n",
    "\n",
    "> Additionally, give us an overview of optimistic programming style and sell us on the benefits of increasing our code quality as a result.  This is a little harder to research but a great place to start is this forum:  http://www.cplusplus.com/forum/lounge/126895/"
   ]
  }
 ],
 "metadata": {
  "anaconda-cloud": {},
  "kernelspec": {
   "display_name": "Python [conda env:dsi]",
   "language": "python",
   "name": "conda-env-dsi-py"
  },
  "language_info": {
   "codemirror_mode": {
    "name": "ipython",
    "version": 2
   },
   "file_extension": ".py",
   "mimetype": "text/x-python",
   "name": "python",
   "nbconvert_exporter": "python",
   "pygments_lexer": "ipython2",
   "version": "2.7.12"
  }
 },
 "nbformat": 4,
 "nbformat_minor": 0
}
