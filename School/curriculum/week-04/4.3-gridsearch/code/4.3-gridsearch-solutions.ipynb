{
 "cells": [
  {
   "cell_type": "markdown",
   "metadata": {},
   "source": [
    "```---\n",
    "title: Gridsearch\n",
    "duration: \"1:25+\"\n",
    "creator:\n",
    "    name: David Yerrington\n",
    "    city: SF\n",
    "---```\n",
    "\n",
    "<img src=\"https://ga-dash.s3.amazonaws.com/production/assets/logo-9f88ae6c9c3871690e33280fcf557f33.png\" style=\"float: left; margin: 15px;\">\n",
    "# GridSearch\n",
    "Week 3 | Lesson 4.3\n",
    "***\n",
    "\n",
    "\n",
    "![](https://snag.gy/aYcCt2.jpg)\n"
   ]
  },
  {
   "cell_type": "markdown",
   "metadata": {},
   "source": [
    "## Discussion (5 mins)\n",
    "\n",
    "So far we have learned about linear regression and regularization.  _Given what you know about linear regression and how it's implemented in sklearn:_\n",
    "<br><br>\n",
    "## How would you approach tuning your model so far?\n",
    "<br><br>"
   ]
  },
  {
   "cell_type": "markdown",
   "metadata": {},
   "source": [
    "## Recap:  EDA, Analysis Strategy\n",
    "\n",
    "When doing exploratory analysis and starting to think about model selection, we have a few good starting points.\n",
    "\n",
    "- **Look at your data through subsetting and summary statistics**\n",
    "- Looking at coeficient matrices\n",
    "- Selecting features (variables) to use in our models\n",
    "- Considering parameters that might work, in a broad sense\n",
    "- Validation strategy\n",
    "\n",
    "A correlation matrix is used to investigate the **dependence between multiple variables at the same time**. The result is a table containing the correlation coefficients between each variable and the others. This is ideal for feature selection when deciding which features to use in a predictive model."
   ]
  },
  {
   "cell_type": "code",
   "execution_count": null,
   "metadata": {
    "collapsed": true
   },
   "outputs": [],
   "source": []
  },
  {
   "cell_type": "markdown",
   "metadata": {},
   "source": [
    "## Anyone use Gridsearch before?\n",
    "\n",
    "How / what / why?"
   ]
  },
  {
   "cell_type": "markdown",
   "metadata": {},
   "source": [
    "## Intro to Gridsearch (10 mins)\n",
    "\n",
    "What is \"gridsearch\"? **Gridsearch** is the process of searching for the optimal set of tuning parameters for a model. **Gridsearch** is a scikit-learn method.  We use **Gridsearch** for searching across values of parameters, in combination with models, also using cross-validation to evaluate the effect to find the **best model**. It's called gridsearch because the idea is that there is a \"grid\" of parameters that are iteratively searched."
   ]
  },
  {
   "cell_type": "markdown",
   "metadata": {},
   "source": [
    "## An Example\n",
    "\n",
    "So far we haven't really done much with tuning linear regression, other than regularization.  The prime example we will look at will be regularization, but let's first look at the mechanics of our model to establish some basic assumptions.\n",
    "\n",
    "### Linear Regression Parameters\n",
    "| Parameter | Potential Values |\n",
    "| --- | ---|\n",
    "| **fit_intercept** | bool: True/False |\n",
    "| **normalize** | bool:  True/False |\n",
    "\n",
    "> The normalize parameter:  If **True**, the regressors X will be normalized before  regression (they are talking about doing _standardization_ actually).\n"
   ]
  },
  {
   "cell_type": "code",
   "execution_count": null,
   "metadata": {
    "collapsed": true
   },
   "outputs": [],
   "source": [
    "LinearRegression(?)"
   ]
  },
  {
   "cell_type": "markdown",
   "metadata": {},
   "source": [
    "This is as if we where to run, and score the following code, using all combinations of the specified parameters:\n",
    "\n",
    "```python\n",
    "\n",
    "# Case 1\n",
    "lm = LinearRegression(fit_itercept=True, normalize=False)\n",
    "model = lm.fit(X, y)\n",
    "score = model.score(X,y)\n",
    "\n",
    "# Case 2\n",
    "lm = LinearRegression(fit_itercept=False, normalize=False)\n",
    "model = lm.fit(X, y)\n",
    "score = model.score(X,y)\n",
    "\n",
    "# Case 3\n",
    "lm = LinearRegression(fit_itercept=True, normalize=True)\n",
    "model = lm.fit(X, y)\n",
    "score = model.score(X,y)\n",
    "\n",
    "# Case 4\n",
    "lm = LinearRegression(fit_itercept=False, normalize=False)\n",
    "model = lm.fit(X, y)\n",
    "score = model.score(X,y)\n",
    "\n",
    "```"
   ]
  },
  {
   "cell_type": "markdown",
   "metadata": {},
   "source": [
    "## (1 min) - How might you reproduce these cases in Python?\n",
    "\n",
    "The cases are:\n",
    "\n",
    "| Case | fit_intercept | normalize |\n",
    "| ---- | ------------- |----------:|\n",
    "|  1   | True          | False     |\n",
    "|  2   | False         | False     |\n",
    "|  3   | True          | True      |\n",
    "|  4   | False         | True      |"
   ]
  },
  {
   "cell_type": "markdown",
   "metadata": {},
   "source": []
  },
  {
   "cell_type": "markdown",
   "metadata": {},
   "source": [
    "## A More Sophisticated Example\n",
    "\n",
    "We haven't yet learned the intuition behind K-Nearest Neighbors, it's going to be introduced next week. So try to curb your curiousity for a moment about how this model works, and let's just talk about workflow and the programming mechanics for this example.\n",
    "\n",
    "Since **Gridsearch** is a method with a broad range of utility beyond regression problems, it's great for testing a combination of parameters on models that offer a broader range of **hyperparamters**.\n",
    "\n",
    "> Lingo guide:  **hyperparameter** is used interchangably with **parameter**, which is used with a given model. We are referring to the parameters we pass to our models to control their behavior."
   ]
  },
  {
   "cell_type": "markdown",
   "metadata": {},
   "source": [
    "## How many possible parameter combinations are there given the example below?\n",
    "\n",
    "| Parameter | Potential Values | Unique Values |\n",
    "| --- | ---| ---: |\n",
    "| **n_neighbors** | int range 1-150 | 150 |\n",
    "| **weights** | strs:  \"uniform\", \"distance\" or user defined function | 3 |\n",
    "| **algorithm** | strs: \"ball_tree\", \"kd_tree\", \"brute\", \"auto\" | 4 |\n",
    "| **leaf_size** | int range 0-150 | 151 |\n",
    "| **metric** | str: \"minkowski\" or DistanceObject type | 2 |\n",
    "| **p** | int: 1=manhattan_distance, 2= euclidean_distance | 2 |\n",
    "|| <br>_150 \\* 3 \\* 4 \\* 151 \\* 2 \\* 2 = n combinations_ <br><br>| _1,087,200_ |\n",
    "\n"
   ]
  },
  {
   "cell_type": "markdown",
   "metadata": {},
   "source": [
    "## Let's test this"
   ]
  },
  {
   "cell_type": "code",
   "execution_count": 28,
   "metadata": {
    "collapsed": false,
    "scrolled": false
   },
   "outputs": [
    {
     "data": {
      "text/html": [
       "<div>\n",
       "<table border=\"1\" class=\"dataframe\">\n",
       "  <thead>\n",
       "    <tr style=\"text-align: right;\">\n",
       "      <th></th>\n",
       "      <th>algorithm</th>\n",
       "      <th>leaf_size</th>\n",
       "      <th>metric</th>\n",
       "      <th>n_neighbors</th>\n",
       "      <th>p</th>\n",
       "      <th>weights</th>\n",
       "    </tr>\n",
       "  </thead>\n",
       "  <tbody>\n",
       "    <tr>\n",
       "      <th>0</th>\n",
       "      <td>ball_tree</td>\n",
       "      <td>0</td>\n",
       "      <td>minkowski</td>\n",
       "      <td>1</td>\n",
       "      <td>1</td>\n",
       "      <td>uniform</td>\n",
       "    </tr>\n",
       "    <tr>\n",
       "      <th>1</th>\n",
       "      <td>ball_tree</td>\n",
       "      <td>1</td>\n",
       "      <td>minkowski</td>\n",
       "      <td>1</td>\n",
       "      <td>1</td>\n",
       "      <td>uniform</td>\n",
       "    </tr>\n",
       "    <tr>\n",
       "      <th>2</th>\n",
       "      <td>ball_tree</td>\n",
       "      <td>2</td>\n",
       "      <td>minkowski</td>\n",
       "      <td>1</td>\n",
       "      <td>1</td>\n",
       "      <td>uniform</td>\n",
       "    </tr>\n",
       "    <tr>\n",
       "      <th>3</th>\n",
       "      <td>ball_tree</td>\n",
       "      <td>3</td>\n",
       "      <td>minkowski</td>\n",
       "      <td>1</td>\n",
       "      <td>1</td>\n",
       "      <td>uniform</td>\n",
       "    </tr>\n",
       "    <tr>\n",
       "      <th>4</th>\n",
       "      <td>ball_tree</td>\n",
       "      <td>4</td>\n",
       "      <td>minkowski</td>\n",
       "      <td>1</td>\n",
       "      <td>1</td>\n",
       "      <td>uniform</td>\n",
       "    </tr>\n",
       "  </tbody>\n",
       "</table>\n",
       "</div>"
      ],
      "text/plain": [
       "   algorithm  leaf_size     metric  n_neighbors  p  weights\n",
       "0  ball_tree          0  minkowski            1  1  uniform\n",
       "1  ball_tree          1  minkowski            1  1  uniform\n",
       "2  ball_tree          2  minkowski            1  1  uniform\n",
       "3  ball_tree          3  minkowski            1  1  uniform\n",
       "4  ball_tree          4  minkowski            1  1  uniform"
      ]
     },
     "execution_count": 28,
     "metadata": {},
     "output_type": "execute_result"
    }
   ],
   "source": [
    "from itertools import product\n",
    "import pandas as pd\n",
    "\n",
    "# Some basic parameters\n",
    "params = {\n",
    "    \"n_neighbors\": [range(1, 30, 2), range(31, 70, 5)],\n",
    "    \"weights\": [\"uniform\", \"distance\", \"udf\"],\n",
    "    \"algorithm\": [\"ball_tree\", \"kd_tree\", \"brute\", \"auto\"],\n",
    "    \"leaf_size\": range(0, 151),\n",
    "    \"metric\": [\"minkowski\", \"DistObj\"],\n",
    "    \"p\": [1, 2]\n",
    "}\n",
    "\n",
    "# Initialize our permutations holder\n",
    "class permute():\n",
    "    \n",
    "    permutations = []\n",
    "    params = {}\n",
    "    \n",
    "    def __init__(self, params):\n",
    "        self.set_params(params)\n",
    "    \n",
    "    def set_params(self, params = {}):\n",
    "        \"\"\"\n",
    "        Sets source paramters in which to create permutations from.\n",
    "        \n",
    "        The params to this function are params which is dictionary...\n",
    "        \"\"\"\n",
    "        self.params = params\n",
    "    \n",
    "    def set_permutations(self, params):\n",
    "        \"\"\"\n",
    "        Actually creates permutations.\n",
    "        \"\"\"\n",
    "        self.permutations =  [dict(zip(self.params, v)) for v in product(*self.params.values())]\n",
    "        \n",
    "    def get_permutation_params(self):\n",
    "        \"\"\"\n",
    "        Handles \n",
    "        \"\"\"\n",
    "        self.set_permutations(self.params)\n",
    "        return self.permutations\n",
    "\n",
    "# Initialize permutation maker class\n",
    "mutator       =  permute(params)\n",
    "permutations  =  mutator.get_permutation_params()\n",
    "\n",
    "# Put permutations in class\n",
    "df = pd.DataFrame(permutations)\n",
    "df.head()"
   ]
  },
  {
   "cell_type": "code",
   "execution_count": 59,
   "metadata": {
    "collapsed": false
   },
   "outputs": [],
   "source": [
    "# Let's look at a broader view of these paramters\n",
    "# df.groupby([\"n_neighbors\",'weights', \"algorithm\", 'metric', ]).count()"
   ]
  },
  {
   "cell_type": "code",
   "execution_count": 29,
   "metadata": {
    "collapsed": false
   },
   "outputs": [
    {
     "data": {
      "text/plain": [
       "(217440, 6)"
      ]
     },
     "execution_count": 29,
     "metadata": {},
     "output_type": "execute_result"
    }
   ],
   "source": [
    "df.shape"
   ]
  },
  {
   "cell_type": "markdown",
   "metadata": {},
   "source": [
    "\n",
    "\n",
    "### What Would GridSearch Do (WWGSD)?\n",
    "_With these parameters.._\n",
    "\n",
    "```python\n",
    "from sklearn import neighbors\n",
    "\n",
    "# Search - 1\n",
    "neighbors.KNeighborsClassifier(\n",
    "    n_neighbors   =  1, \n",
    "    weights       =  \"uniform\", \n",
    "    algorithm     =  \"ball_tree\", \n",
    "    leaf_size     =  30, \n",
    "    etc...\n",
    ")\n",
    "# Search - 2\n",
    "neighbors.KNeighborsClassifier(\n",
    "    n_neighbors   =  2, \n",
    "    weights       =  \"uniform\", \n",
    "    algorithm     =  \"ball_tree\", \n",
    "    leaf_size     =  30, \n",
    "    etc...\n",
    ")\n",
    "# Search - 3\n",
    "neighbors.KNeighborsClassifier(\n",
    "    n_neighbors   =  3, \n",
    "    weights       =  \"uniform\", \n",
    "    algorithm     =  \"ball_tree\", \n",
    "    leaf_size     =  30, \n",
    "    etc...\n",
    ")\n",
    "\n",
    "...\n",
    "... ** chunk chunk chunk -- [searching intensifies] -- hours later **\n",
    "...\n",
    "\n",
    "# Searching combinations of 300,000+\n",
    "neighbors.KNeighborsClassifier(\n",
    "    n_neighbors   =  150, \n",
    "    weights       =  \"distance\", \n",
    "    algorithm     =  \"auto\", \n",
    "    leaf_size     =  150, \n",
    "    etc...\n",
    ")\n",
    "\n",
    "```"
   ]
  },
  {
   "cell_type": "markdown",
   "metadata": {},
   "source": [
    "## (2 mins) How many models will be built and tested on a KNN model with the following parameters? \n",
    "\n",
    "- **n_neighbors**:  1-25\n",
    "- **algorithm**: \"ball_tree\", \"kd_tree\", \"brute\", \"auto\""
   ]
  },
  {
   "cell_type": "markdown",
   "metadata": {},
   "source": [
    "## Models Have Parameters\n",
    "\n",
    "Every model we will be learning have a predefined set of parameters.  If it has parameters, we can test a variety of parameters using gridsearch, to see the performance of various sets of parameters to get a sense of how they work in relation to our dataset and model.\n"
   ]
  },
  {
   "cell_type": "markdown",
   "metadata": {},
   "source": [
    "<br><br><br>\n",
    "## Do you remember which parameter CV was used for?\n",
    "<Br><Br><br><br>"
   ]
  },
  {
   "cell_type": "markdown",
   "metadata": {},
   "source": [
    "## Implementing GridsearchCV\n",
    "\n",
    "By default the `cv` parameter is `3`.  You can set this as high as you want!  Keep in mind how it works and why it's used.  If this is a mystery, please review our material on K-Folds validation."
   ]
  },
  {
   "cell_type": "code",
   "execution_count": 63,
   "metadata": {
    "collapsed": false
   },
   "outputs": [],
   "source": [
    "# Load gridsearch, libraries, test data\n",
    "from sklearn import grid_search, datasets\n",
    "from sklearn.linear_model import LinearRegression\n",
    "import pandas as pd, patsy\n",
    "\n",
    "columns =  \"age sex bmi map tc ldl hdl tch ltg glu\".split()\n",
    "\n",
    "data    =  datasets.load_diabetes()\n",
    "df      =  pd.DataFrame(data.data, columns=columns)\n",
    "df['target'] = data.target\n",
    "\n",
    "# Setup patsy design matrix\n",
    "y, X    =  patsy.dmatrices(\"target ~ age + sex + bmi + map + tc + ldl + glu\", data=df, return_type=\"dataframe\")"
   ]
  },
  {
   "cell_type": "markdown",
   "metadata": {},
   "source": [
    "### Setup GridSearchCV Parameters"
   ]
  },
  {
   "cell_type": "code",
   "execution_count": 65,
   "metadata": {
    "collapsed": false
   },
   "outputs": [],
   "source": [
    "# Setup our GridSearch Parmaters\n",
    "search_parameters = {\n",
    "    'fit_intercept':  [True, False], \n",
    "    'normalize':      [False, True]\n",
    "}\n",
    "\n",
    "# Intialize a blank model object\n",
    "lm = LinearRegression()\n",
    "\n",
    "# Initialize gridsearch\n",
    "estimator = grid_search.GridSearchCV(lm, search_parameters, cv=5)\n",
    "\n",
    "# Fit some data!\n",
    "results = estimator.fit(X, y)"
   ]
  },
  {
   "cell_type": "markdown",
   "metadata": {},
   "source": [
    "### Review Results\n",
    "\n",
    "There are a number of interesting result properties to explore.\n",
    "\n",
    "| Property | Use |\n",
    "| --- | ---|\n",
    "| **`results.param_grid`** | Displays parameters used |\n",
    "| **`results.best_score_`** | Best score achieved |\n",
    "| **`results.best_estimator_`** | Reference to model with best score.  Is usable / callable. |\n",
    "| **`results.best_params_`** | The parameters that have been found to perform with the best score. |\n",
    "| **`results.grid_scores_`** | Display score attributes with cooresponding parameters | "
   ]
  },
  {
   "cell_type": "code",
   "execution_count": 66,
   "metadata": {
    "collapsed": false
   },
   "outputs": [
    {
     "name": "stdout",
     "output_type": "stream",
     "text": [
      "Best Score:\n",
      "0.370689510527\n",
      "\n",
      "Best Params:\n",
      "{'normalize': False, 'fit_intercept': False}\n"
     ]
    }
   ],
   "source": [
    "print \"Best Score:\"\n",
    "print results.best_score_\n",
    "\n",
    "print\n",
    "\n",
    "print \"Best Params:\"\n",
    "print results.best_params_"
   ]
  },
  {
   "cell_type": "markdown",
   "metadata": {},
   "source": [
    "### Find All Tested Params with Scores\n",
    "_In the case of linear regression, the R2 isn't displayed, which is annoying.  You should at least know how where to look for the future use cases when you use other models_.\n",
    "\n",
    "It's not applicable now, but this is a great place to get data to plot your parameter values and their impact on your score as they change.  We will explore this possibility in the future."
   ]
  },
  {
   "cell_type": "code",
   "execution_count": 67,
   "metadata": {
    "collapsed": false,
    "scrolled": true
   },
   "outputs": [
    {
     "data": {
      "text/plain": [
       "[mean: 0.37069, std: 0.07662, params: {'normalize': False, 'fit_intercept': True},\n",
       " mean: 0.37069, std: 0.07662, params: {'normalize': True, 'fit_intercept': True},\n",
       " mean: 0.37069, std: 0.07662, params: {'normalize': False, 'fit_intercept': False},\n",
       " mean: 0.37069, std: 0.07662, params: {'normalize': True, 'fit_intercept': False}]"
      ]
     },
     "execution_count": 67,
     "metadata": {},
     "output_type": "execute_result"
    }
   ],
   "source": [
    "results.grid_scores_"
   ]
  },
  {
   "cell_type": "markdown",
   "metadata": {},
   "source": [
    "<br><br><br>\n",
    "\n",
    "## (5 mins) How do you think we can use gridsearch to avoid overfitting (or underfitting for that matter)?\n",
    "<br><br><br>"
   ]
  },
  {
   "cell_type": "markdown",
   "metadata": {},
   "source": [
    "# (20 mins)  Independent Practice\n",
    "\n",
    "Setup a basic gridsearch with all potential parameters for **fit_intercept**, and **normalize** parameters for linear regression using the boston housing dataset.\n",
    "\n",
    "1. Select a set of predictors\n",
    "1. Use the provided target as your response\n",
    "1. Setup and perform a basic gridsearch on a blank linear model object\n",
    "1. Print our your results\n",
    "\n",
    "> _The actual results won't be that interesting but the important thing is that you understand the implementation._"
   ]
  },
  {
   "cell_type": "code",
   "execution_count": 33,
   "metadata": {
    "collapsed": false
   },
   "outputs": [
    {
     "name": "stdout",
     "output_type": "stream",
     "text": [
      "Best Params: {'normalize': False, 'fit_intercept': False}\n",
      "Best Score: 0.21474286979\n",
      "Cross val scores: [ 0.52066294  0.51174729  0.27909132  0.08508567 -1.0655179 ]\n"
     ]
    },
    {
     "data": {
      "text/plain": [
       "[mean: 0.05665, std: 0.62308, params: {'normalize': False, 'fit_intercept': True},\n",
       " mean: 0.05665, std: 0.62308, params: {'normalize': True, 'fit_intercept': True},\n",
       " mean: 0.21474, std: 0.31466, params: {'normalize': False, 'fit_intercept': False},\n",
       " mean: 0.21474, std: 0.31466, params: {'normalize': True, 'fit_intercept': False}]"
      ]
     },
     "execution_count": 33,
     "metadata": {},
     "output_type": "execute_result"
    }
   ],
   "source": [
    "from sklearn.linear_model import LinearRegression\n",
    "from sklearn.grid_search import GridSearchCV\n",
    "from sklearn.model_selection import cross_val_score\n",
    "\n",
    "import pandas as pd\n",
    "import sklearn.datasets as datasets\n",
    "import patsy\n",
    "\n",
    "data = datasets.load_boston()\n",
    "\n",
    "df = pd.DataFrame(data.data, columns=data.feature_names)\n",
    "df['target'] = data.target\n",
    "df.columns = [col.replace(\".\", \"_\").replace(\"-\", \"_\") for col in df.columns]\n",
    "\n",
    "y, X = patsy.dmatrices(\"target ~ CHAS + NOX + RM - 1\", data=df, return_type=\"dataframe\")\n",
    "\n",
    "search_parameters = {\n",
    "    'fit_intercept':  [True, False], \n",
    "    'normalize':      [False, True]\n",
    "}\n",
    "\n",
    "# Intialize a blank model object\n",
    "lm = LinearRegression()\n",
    "\n",
    "# Initialize gridsearch\n",
    "estimator = GridSearchCV(lm, search_parameters, cv=5)\n",
    "\n",
    "# Fit some data!\n",
    "results = estimator.fit(X, y)\n",
    "\n",
    "print \"Best Params:\", results.best_params_\n",
    "print \"Best Score:\", results.best_score_\n",
    "\n",
    "print \"Cross val scores:\", cross_val_score(estimator, X, y, cv=5)\n",
    "\n",
    "results.grid_scores_\n",
    "\n"
   ]
  },
  {
   "cell_type": "markdown",
   "metadata": {},
   "source": [
    "<br><Br>\n",
    "\n",
    "# (5 mins)  What are some disadvantages to GridSearch that you can think of?\n",
    "\n",
    "<br><Br>"
   ]
  },
  {
   "cell_type": "code",
   "execution_count": null,
   "metadata": {
    "collapsed": true
   },
   "outputs": [],
   "source": []
  },
  {
   "cell_type": "markdown",
   "metadata": {},
   "source": [
    "# Summary Check-in\n",
    "\n",
    "- What is the most difficult thing to understand about GridSearch?\n",
    "- How many parameters can be searched?\n",
    "- How do we know if our best score is good or not?\n",
    "- Which models can we use with Gridsearch?\n",
    "\n",
    "---"
   ]
  },
  {
   "cell_type": "markdown",
   "metadata": {},
   "source": [
    "## (60 mins) Independent/Group Practice\n",
    "\n",
    "Feel free to partner up or work within your group.  Use gridsearch to setup a basic pipeline on to search for `alpha` parameters for Lasso regularized regression.\n",
    "\n",
    "1.  Load up the winedataset used from our regularization lab yesterday.\n",
    "1.  Import Lasso, patsy\n",
    "1.  Use patsy to setup a design matrix\n",
    "1.  Setup a range of alphas to test _(hint: numpy generator)_\n",
    "1.  Setup gridsearch parameters with your range of alphas\n",
    "1.  Initialize and gridsearch\n",
    "1.  Review / print performance metrics and decide on an optimal parameter for alpha\n",
    "\n",
    "Remember:  _Alphas for the Lasso tend to effect regularization linearly rather than by orders of magnitude like in the ridge. A linear series of alphas is sufficient. Don't worry about the warning for Lasso at alpha 0._"
   ]
  },
  {
   "cell_type": "code",
   "execution_count": 143,
   "metadata": {
    "collapsed": true
   },
   "outputs": [],
   "source": [
    "def create_formula(features, predictor):\n",
    "    \n",
    "    return predictor + \" ~ \" + \" + \".join(features)\n"
   ]
  },
  {
   "cell_type": "code",
   "execution_count": 73,
   "metadata": {
    "collapsed": false
   },
   "outputs": [],
   "source": [
    "from sklearn.linear_model import Lasso\n",
    "from sklearn.grid_search import GridSearchCV\n",
    "import numpy as  np\n",
    "import patsy\n",
    "\n",
    "# Load dataset\n",
    "df    =  pd.read_csv(\"../../../../datasets/wine_quality/winequality_merged.csv\")\n",
    "\n",
    "# Clean column headers\n",
    "df.columns = [col.replace(\" \", \"_\").lower() for col in df.columns]\n",
    "\n",
    "# Setup patsy design matrix\n",
    "formula = \"quality ~ fixed_acidity + volatile_acidity + citric_acid + residual_sugar + chlorides + free_sulfur_dioxide + total_sulfur_dioxide + density + ph + sulphates + alcohol - 1\"\n",
    "y, X  =  patsy.dmatrices(formula, data=df, return_type=\"dataframe\")\n",
    "\n",
    "# Setup search parameters\n",
    "search_parameters = {\n",
    "    \"alpha\": np.arange(0, 0.25, 0.0025)\n",
    "}\n",
    "\n",
    "lasso = Lasso()\n",
    "\n",
    "estimator = GridSearchCV(lasso, search_parameters)\n",
    "results = estimator.fit(X, y)\n",
    "# create_formula(df.columns, \"quality\")"
   ]
  },
  {
   "cell_type": "markdown",
   "metadata": {},
   "source": [
    "> _Don't feel like you need to tackle these in any particular order!  The coef / plotting challenge can be a little tricky._"
   ]
  },
  {
   "cell_type": "markdown",
   "metadata": {},
   "source": [
    "## Bonus Challenge #1\n",
    "Figure out how to plot the impact of your score given the range of parameters used."
   ]
  },
  {
   "cell_type": "code",
   "execution_count": 38,
   "metadata": {
    "collapsed": false
   },
   "outputs": [
    {
     "data": {
      "text/plain": [
       "<matplotlib.axes._subplots.AxesSubplot at 0x126d0e890>"
      ]
     },
     "execution_count": 38,
     "metadata": {},
     "output_type": "execute_result"
    },
    {
     "data": {
      "image/png": "[encoded data removed]",
      "text/plain": [
       "<matplotlib.figure.Figure at 0x114a1fcd0>"
      ]
     },
     "metadata": {},
     "output_type": "display_data"
    }
   ],
   "source": [
    "import seaborn as sns\n",
    "\n",
    "%matplotlib inline\n",
    "\n",
    "score_df = pd.DataFrame(results.grid_scores_)\n",
    "score_df['parameters'] = score_df['parameters'].map(lambda score: score['alpha'])\n",
    "score_df['mean_score'] = score_df['cv_validation_scores'].map(lambda scores: np.mean(scores))\n",
    "score_df.plot(kind=\"scatter\", x=\"parameters\", y=\"mean_validation_score\", title=\"Alphas / Mean Scores\")"
   ]
  },
  {
   "cell_type": "markdown",
   "metadata": {},
   "source": [
    "## Bonus Challenge #2\n",
    "\n",
    "Investigate the effect of coefficients given the range of alphas used, in addition to scores.  You might try to plot a few of these within a range of parameters used.  How can you evaluate this?  There is more than one way.\n"
   ]
  },
  {
   "cell_type": "code",
   "execution_count": 195,
   "metadata": {
    "collapsed": false
   },
   "outputs": [
    {
     "data": {
      "text/plain": [
       "[mean: 0.02363, std: 0.31318, params: {'alpha': 0.0},\n",
       " mean: 0.19023, std: 0.08098, params: {'alpha': 0.0025000000000000001},\n",
       " mean: 0.20081, std: 0.06215, params: {'alpha': 0.0050000000000000001},\n",
       " mean: 0.21976, std: 0.03114, params: {'alpha': 0.0074999999999999997},\n",
       " mean: 0.23241, std: 0.00871, params: {'alpha': 0.01},\n",
       " mean: 0.23666, std: 0.00667, params: {'alpha': 0.012500000000000001},\n",
       " mean: 0.23397, std: 0.00681, params: {'alpha': 0.014999999999999999},\n",
       " mean: 0.22289, std: 0.00954, params: {'alpha': 0.017500000000000002},\n",
       " mean: 0.21007, std: 0.02212, params: {'alpha': 0.02},\n",
       " mean: 0.20737, std: 0.02105, params: {'alpha': 0.022499999999999999},\n",
       " mean: 0.20429, std: 0.01992, params: {'alpha': 0.025000000000000001},\n",
       " mean: 0.20084, std: 0.01875, params: {'alpha': 0.0275},\n",
       " mean: 0.19702, std: 0.01753, params: {'alpha': 0.029999999999999999},\n",
       " mean: 0.19283, std: 0.01628, params: {'alpha': 0.032500000000000001},\n",
       " mean: 0.19055, std: 0.01529, params: {'alpha': 0.035000000000000003},\n",
       " mean: 0.18995, std: 0.01593, params: {'alpha': 0.037499999999999999},\n",
       " mean: 0.18940, std: 0.01649, params: {'alpha': 0.040000000000000001},\n",
       " mean: 0.18881, std: 0.01704, params: {'alpha': 0.042500000000000003},\n",
       " mean: 0.18821, std: 0.01760, params: {'alpha': 0.044999999999999998},\n",
       " mean: 0.18757, std: 0.01817, params: {'alpha': 0.047500000000000001},\n",
       " mean: 0.18691, std: 0.01874, params: {'alpha': 0.050000000000000003},\n",
       " mean: 0.18622, std: 0.01931, params: {'alpha': 0.052499999999999998},\n",
       " mean: 0.18550, std: 0.01989, params: {'alpha': 0.055},\n",
       " mean: 0.18476, std: 0.02048, params: {'alpha': 0.057500000000000002},\n",
       " mean: 0.18398, std: 0.02107, params: {'alpha': 0.059999999999999998},\n",
       " mean: 0.18318, std: 0.02167, params: {'alpha': 0.0625},\n",
       " mean: 0.18235, std: 0.02227, params: {'alpha': 0.065000000000000002},\n",
       " mean: 0.18149, std: 0.02288, params: {'alpha': 0.067500000000000004},\n",
       " mean: 0.18059, std: 0.02351, params: {'alpha': 0.070000000000000007},\n",
       " mean: 0.17967, std: 0.02413, params: {'alpha': 0.072499999999999995},\n",
       " mean: 0.17873, std: 0.02476, params: {'alpha': 0.074999999999999997},\n",
       " mean: 0.17776, std: 0.02539, params: {'alpha': 0.077499999999999999},\n",
       " mean: 0.17676, std: 0.02603, params: {'alpha': 0.080000000000000002},\n",
       " mean: 0.17573, std: 0.02668, params: {'alpha': 0.082500000000000004},\n",
       " mean: 0.17478, std: 0.02744, params: {'alpha': 0.085000000000000006},\n",
       " mean: 0.17393, std: 0.02833, params: {'alpha': 0.087500000000000008},\n",
       " mean: 0.17306, std: 0.02923, params: {'alpha': 0.089999999999999997},\n",
       " mean: 0.17215, std: 0.03013, params: {'alpha': 0.092499999999999999},\n",
       " mean: 0.17122, std: 0.03103, params: {'alpha': 0.095000000000000001},\n",
       " mean: 0.17027, std: 0.03195, params: {'alpha': 0.097500000000000003},\n",
       " mean: 0.16929, std: 0.03286, params: {'alpha': 0.10000000000000001},\n",
       " mean: 0.16828, std: 0.03379, params: {'alpha': 0.10250000000000001},\n",
       " mean: 0.16725, std: 0.03472, params: {'alpha': 0.105},\n",
       " mean: 0.16619, std: 0.03566, params: {'alpha': 0.1075},\n",
       " mean: 0.16510, std: 0.03660, params: {'alpha': 0.11},\n",
       " mean: 0.16399, std: 0.03756, params: {'alpha': 0.1125},\n",
       " mean: 0.16286, std: 0.03852, params: {'alpha': 0.115},\n",
       " mean: 0.16170, std: 0.03949, params: {'alpha': 0.11750000000000001},\n",
       " mean: 0.16051, std: 0.04046, params: {'alpha': 0.12},\n",
       " mean: 0.15930, std: 0.04144, params: {'alpha': 0.1225},\n",
       " mean: 0.15806, std: 0.04243, params: {'alpha': 0.125},\n",
       " mean: 0.15679, std: 0.04343, params: {'alpha': 0.1275},\n",
       " mean: 0.15550, std: 0.04443, params: {'alpha': 0.13},\n",
       " mean: 0.15419, std: 0.04544, params: {'alpha': 0.13250000000000001},\n",
       " mean: 0.15285, std: 0.04646, params: {'alpha': 0.13500000000000001},\n",
       " mean: 0.15147, std: 0.04749, params: {'alpha': 0.13750000000000001},\n",
       " mean: 0.15008, std: 0.04852, params: {'alpha': 0.14000000000000001},\n",
       " mean: 0.14866, std: 0.04956, params: {'alpha': 0.14250000000000002},\n",
       " mean: 0.14722, std: 0.05061, params: {'alpha': 0.14499999999999999},\n",
       " mean: 0.14575, std: 0.05167, params: {'alpha': 0.14749999999999999},\n",
       " mean: 0.14425, std: 0.05273, params: {'alpha': 0.14999999999999999},\n",
       " mean: 0.14273, std: 0.05380, params: {'alpha': 0.1525},\n",
       " mean: 0.14118, std: 0.05488, params: {'alpha': 0.155},\n",
       " mean: 0.13960, std: 0.05597, params: {'alpha': 0.1575},\n",
       " mean: 0.13801, std: 0.05706, params: {'alpha': 0.16},\n",
       " mean: 0.13638, std: 0.05817, params: {'alpha': 0.16250000000000001},\n",
       " mean: 0.13473, std: 0.05928, params: {'alpha': 0.16500000000000001},\n",
       " mean: 0.13305, std: 0.06040, params: {'alpha': 0.16750000000000001},\n",
       " mean: 0.13135, std: 0.06153, params: {'alpha': 0.17000000000000001},\n",
       " mean: 0.12962, std: 0.06266, params: {'alpha': 0.17250000000000001},\n",
       " mean: 0.12786, std: 0.06381, params: {'alpha': 0.17500000000000002},\n",
       " mean: 0.12608, std: 0.06496, params: {'alpha': 0.17749999999999999},\n",
       " mean: 0.12428, std: 0.06612, params: {'alpha': 0.17999999999999999},\n",
       " mean: 0.12245, std: 0.06729, params: {'alpha': 0.1825},\n",
       " mean: 0.12059, std: 0.06846, params: {'alpha': 0.185},\n",
       " mean: 0.11870, std: 0.06965, params: {'alpha': 0.1875},\n",
       " mean: 0.11679, std: 0.07084, params: {'alpha': 0.19},\n",
       " mean: 0.11485, std: 0.07206, params: {'alpha': 0.1925},\n",
       " mean: 0.11289, std: 0.07327, params: {'alpha': 0.19500000000000001},\n",
       " mean: 0.11097, std: 0.07437, params: {'alpha': 0.19750000000000001},\n",
       " mean: 0.10913, std: 0.07534, params: {'alpha': 0.20000000000000001},\n",
       " mean: 0.10728, std: 0.07632, params: {'alpha': 0.20250000000000001},\n",
       " mean: 0.10540, std: 0.07730, params: {'alpha': 0.20500000000000002},\n",
       " mean: 0.10354, std: 0.07831, params: {'alpha': 0.20750000000000002},\n",
       " mean: 0.10165, std: 0.07933, params: {'alpha': 0.20999999999999999},\n",
       " mean: 0.09975, std: 0.08035, params: {'alpha': 0.21249999999999999},\n",
       " mean: 0.09783, std: 0.08137, params: {'alpha': 0.215},\n",
       " mean: 0.09589, std: 0.08240, params: {'alpha': 0.2175},\n",
       " mean: 0.09393, std: 0.08343, params: {'alpha': 0.22},\n",
       " mean: 0.09194, std: 0.08447, params: {'alpha': 0.2225},\n",
       " mean: 0.08994, std: 0.08552, params: {'alpha': 0.22500000000000001},\n",
       " mean: 0.08791, std: 0.08656, params: {'alpha': 0.22750000000000001},\n",
       " mean: 0.08586, std: 0.08761, params: {'alpha': 0.23000000000000001},\n",
       " mean: 0.08379, std: 0.08867, params: {'alpha': 0.23250000000000001},\n",
       " mean: 0.08169, std: 0.08972, params: {'alpha': 0.23500000000000001},\n",
       " mean: 0.07958, std: 0.09079, params: {'alpha': 0.23750000000000002},\n",
       " mean: 0.07744, std: 0.09187, params: {'alpha': 0.23999999999999999},\n",
       " mean: 0.07528, std: 0.09294, params: {'alpha': 0.24249999999999999},\n",
       " mean: 0.07311, std: 0.09402, params: {'alpha': 0.245},\n",
       " mean: 0.07091, std: 0.09511, params: {'alpha': 0.2475}]"
      ]
     },
     "execution_count": 195,
     "metadata": {},
     "output_type": "execute_result"
    }
   ],
   "source": [
    "# see code snippet for "
   ]
  },
  {
   "cell_type": "code",
   "execution_count": 91,
   "metadata": {
    "collapsed": false
   },
   "outputs": [
    {
     "name": "stderr",
     "output_type": "stream",
     "text": [
      "/Users/davidyerrington/anaconda/envs/dsi/lib/python2.7/site-packages/ipykernel/__main__.py:11: UserWarning: With alpha=0, this algorithm does not converge well. You are advised to use the LinearRegression estimator\n"
     ]
    }
   ],
   "source": [
    "# effect of coefficient over paramter alpha\n",
    "coefs = []\n",
    "\n",
    "for score in results.grid_scores_:\n",
    "    \n",
    "    # Reference parameters from score dictionary subset\n",
    "    parameters = score.__dict__['parameters']\n",
    "    \n",
    "    # Initialize Lasso model with alpha parameter\n",
    "    lasso = Lasso(alpha=parameters['alpha'])\n",
    "    model = lasso.fit(X, y)\n",
    "    \n",
    "    # Append coeficients to new object for later review\n",
    "    alpha_coefs = {key: value for key, value in zip(X.columns, model.coef_.tolist())}\n",
    "    alpha_coefs.update({\"alpha\": parameters['alpha']}) # include alpha in list\n",
    "    \n",
    "    coefs.append(alpha_coefs)"
   ]
  },
  {
   "cell_type": "code",
   "execution_count": 94,
   "metadata": {
    "collapsed": false
   },
   "outputs": [
    {
     "name": "stdout",
     "output_type": "stream",
     "text": [
      "Best Alpha was:  {'alpha': 0.012500000000000001}\n"
     ]
    },
    {
     "data": {
      "text/html": [
       "<div>\n",
       "<table border=\"1\" class=\"dataframe\">\n",
       "  <thead>\n",
       "    <tr style=\"text-align: right;\">\n",
       "      <th></th>\n",
       "      <th>alcohol</th>\n",
       "      <th>alpha</th>\n",
       "      <th>chlorides</th>\n",
       "      <th>citric_acid</th>\n",
       "      <th>density</th>\n",
       "      <th>fixed_acidity</th>\n",
       "      <th>free_sulfur_dioxide</th>\n",
       "      <th>ph</th>\n",
       "      <th>residual_sugar</th>\n",
       "      <th>sulphates</th>\n",
       "      <th>total_sulfur_dioxide</th>\n",
       "      <th>volatile_acidity</th>\n",
       "    </tr>\n",
       "    <tr>\n",
       "      <th>alpha</th>\n",
       "      <th></th>\n",
       "      <th></th>\n",
       "      <th></th>\n",
       "      <th></th>\n",
       "      <th></th>\n",
       "      <th></th>\n",
       "      <th></th>\n",
       "      <th></th>\n",
       "      <th></th>\n",
       "      <th></th>\n",
       "      <th></th>\n",
       "      <th></th>\n",
       "    </tr>\n",
       "  </thead>\n",
       "  <tbody>\n",
       "    <tr>\n",
       "      <th>0.0000</th>\n",
       "      <td>0.267030</td>\n",
       "      <td>0.0000</td>\n",
       "      <td>-0.483714</td>\n",
       "      <td>-0.109657</td>\n",
       "      <td>-54.966942</td>\n",
       "      <td>0.067684</td>\n",
       "      <td>0.005970</td>\n",
       "      <td>0.439296</td>\n",
       "      <td>0.043559</td>\n",
       "      <td>0.768252</td>\n",
       "      <td>-0.002481</td>\n",
       "      <td>-1.327892</td>\n",
       "    </tr>\n",
       "    <tr>\n",
       "      <th>0.0025</th>\n",
       "      <td>0.335373</td>\n",
       "      <td>0.0025</td>\n",
       "      <td>-0.000000</td>\n",
       "      <td>-0.000000</td>\n",
       "      <td>-0.000000</td>\n",
       "      <td>0.000000</td>\n",
       "      <td>0.006157</td>\n",
       "      <td>0.054462</td>\n",
       "      <td>0.021700</td>\n",
       "      <td>0.466157</td>\n",
       "      <td>-0.002248</td>\n",
       "      <td>-1.297708</td>\n",
       "    </tr>\n",
       "    <tr>\n",
       "      <th>0.0050</th>\n",
       "      <td>0.334653</td>\n",
       "      <td>0.0050</td>\n",
       "      <td>-0.000000</td>\n",
       "      <td>-0.000000</td>\n",
       "      <td>-0.000000</td>\n",
       "      <td>-0.000000</td>\n",
       "      <td>0.006359</td>\n",
       "      <td>0.000000</td>\n",
       "      <td>0.020747</td>\n",
       "      <td>0.331090</td>\n",
       "      <td>-0.002224</td>\n",
       "      <td>-1.158481</td>\n",
       "    </tr>\n",
       "    <tr>\n",
       "      <th>0.0075</th>\n",
       "      <td>0.333513</td>\n",
       "      <td>0.0075</td>\n",
       "      <td>-0.000000</td>\n",
       "      <td>0.000000</td>\n",
       "      <td>-0.000000</td>\n",
       "      <td>0.000000</td>\n",
       "      <td>0.006515</td>\n",
       "      <td>0.000000</td>\n",
       "      <td>0.020129</td>\n",
       "      <td>0.189757</td>\n",
       "      <td>-0.002187</td>\n",
       "      <td>-1.029918</td>\n",
       "    </tr>\n",
       "    <tr>\n",
       "      <th>0.0100</th>\n",
       "      <td>0.332374</td>\n",
       "      <td>0.0100</td>\n",
       "      <td>-0.000000</td>\n",
       "      <td>0.000000</td>\n",
       "      <td>-0.000000</td>\n",
       "      <td>0.000000</td>\n",
       "      <td>0.006671</td>\n",
       "      <td>0.000000</td>\n",
       "      <td>0.019511</td>\n",
       "      <td>0.048424</td>\n",
       "      <td>-0.002150</td>\n",
       "      <td>-0.901355</td>\n",
       "    </tr>\n",
       "    <tr>\n",
       "      <th>0.0125</th>\n",
       "      <td>0.332237</td>\n",
       "      <td>0.0125</td>\n",
       "      <td>-0.000000</td>\n",
       "      <td>0.000000</td>\n",
       "      <td>-0.000000</td>\n",
       "      <td>0.000000</td>\n",
       "      <td>0.006791</td>\n",
       "      <td>0.000000</td>\n",
       "      <td>0.019171</td>\n",
       "      <td>0.000000</td>\n",
       "      <td>-0.002055</td>\n",
       "      <td>-0.783153</td>\n",
       "    </tr>\n",
       "    <tr>\n",
       "      <th>0.0150</th>\n",
       "      <td>0.332622</td>\n",
       "      <td>0.0150</td>\n",
       "      <td>-0.000000</td>\n",
       "      <td>0.000000</td>\n",
       "      <td>-0.000000</td>\n",
       "      <td>0.000000</td>\n",
       "      <td>0.006892</td>\n",
       "      <td>0.000000</td>\n",
       "      <td>0.018976</td>\n",
       "      <td>0.000000</td>\n",
       "      <td>-0.001931</td>\n",
       "      <td>-0.670366</td>\n",
       "    </tr>\n",
       "    <tr>\n",
       "      <th>0.0175</th>\n",
       "      <td>0.333008</td>\n",
       "      <td>0.0175</td>\n",
       "      <td>-0.000000</td>\n",
       "      <td>0.000000</td>\n",
       "      <td>-0.000000</td>\n",
       "      <td>0.000000</td>\n",
       "      <td>0.006994</td>\n",
       "      <td>0.000000</td>\n",
       "      <td>0.018782</td>\n",
       "      <td>0.000000</td>\n",
       "      <td>-0.001806</td>\n",
       "      <td>-0.557579</td>\n",
       "    </tr>\n",
       "    <tr>\n",
       "      <th>0.0200</th>\n",
       "      <td>0.333394</td>\n",
       "      <td>0.0200</td>\n",
       "      <td>-0.000000</td>\n",
       "      <td>0.000000</td>\n",
       "      <td>-0.000000</td>\n",
       "      <td>0.000000</td>\n",
       "      <td>0.007095</td>\n",
       "      <td>0.000000</td>\n",
       "      <td>0.018587</td>\n",
       "      <td>0.000000</td>\n",
       "      <td>-0.001682</td>\n",
       "      <td>-0.444792</td>\n",
       "    </tr>\n",
       "    <tr>\n",
       "      <th>0.0225</th>\n",
       "      <td>0.333781</td>\n",
       "      <td>0.0225</td>\n",
       "      <td>-0.000000</td>\n",
       "      <td>0.000000</td>\n",
       "      <td>-0.000000</td>\n",
       "      <td>-0.000000</td>\n",
       "      <td>0.007195</td>\n",
       "      <td>0.000000</td>\n",
       "      <td>0.018394</td>\n",
       "      <td>0.000000</td>\n",
       "      <td>-0.001558</td>\n",
       "      <td>-0.332023</td>\n",
       "    </tr>\n",
       "  </tbody>\n",
       "</table>\n",
       "</div>"
      ],
      "text/plain": [
       "         alcohol   alpha  chlorides  citric_acid    density  fixed_acidity  \\\n",
       "alpha                                                                        \n",
       "0.0000  0.267030  0.0000  -0.483714    -0.109657 -54.966942       0.067684   \n",
       "0.0025  0.335373  0.0025  -0.000000    -0.000000  -0.000000       0.000000   \n",
       "0.0050  0.334653  0.0050  -0.000000    -0.000000  -0.000000      -0.000000   \n",
       "0.0075  0.333513  0.0075  -0.000000     0.000000  -0.000000       0.000000   \n",
       "0.0100  0.332374  0.0100  -0.000000     0.000000  -0.000000       0.000000   \n",
       "0.0125  0.332237  0.0125  -0.000000     0.000000  -0.000000       0.000000   \n",
       "0.0150  0.332622  0.0150  -0.000000     0.000000  -0.000000       0.000000   \n",
       "0.0175  0.333008  0.0175  -0.000000     0.000000  -0.000000       0.000000   \n",
       "0.0200  0.333394  0.0200  -0.000000     0.000000  -0.000000       0.000000   \n",
       "0.0225  0.333781  0.0225  -0.000000     0.000000  -0.000000      -0.000000   \n",
       "\n",
       "        free_sulfur_dioxide        ph  residual_sugar  sulphates  \\\n",
       "alpha                                                              \n",
       "0.0000             0.005970  0.439296        0.043559   0.768252   \n",
       "0.0025             0.006157  0.054462        0.021700   0.466157   \n",
       "0.0050             0.006359  0.000000        0.020747   0.331090   \n",
       "0.0075             0.006515  0.000000        0.020129   0.189757   \n",
       "0.0100             0.006671  0.000000        0.019511   0.048424   \n",
       "0.0125             0.006791  0.000000        0.019171   0.000000   \n",
       "0.0150             0.006892  0.000000        0.018976   0.000000   \n",
       "0.0175             0.006994  0.000000        0.018782   0.000000   \n",
       "0.0200             0.007095  0.000000        0.018587   0.000000   \n",
       "0.0225             0.007195  0.000000        0.018394   0.000000   \n",
       "\n",
       "        total_sulfur_dioxide  volatile_acidity  \n",
       "alpha                                           \n",
       "0.0000             -0.002481         -1.327892  \n",
       "0.0025             -0.002248         -1.297708  \n",
       "0.0050             -0.002224         -1.158481  \n",
       "0.0075             -0.002187         -1.029918  \n",
       "0.0100             -0.002150         -0.901355  \n",
       "0.0125             -0.002055         -0.783153  \n",
       "0.0150             -0.001931         -0.670366  \n",
       "0.0175             -0.001806         -0.557579  \n",
       "0.0200             -0.001682         -0.444792  \n",
       "0.0225             -0.001558         -0.332023  "
      ]
     },
     "execution_count": 94,
     "metadata": {},
     "output_type": "execute_result"
    }
   ],
   "source": [
    "print \"Best Alpha was: \", results.best_params_\n",
    "\n",
    "# Coefs change over paramter alpha\n",
    "coef_df = pd.DataFrame(coefs)\n",
    "coef_df.index = coef_df.alpha\n",
    "coef_df.head(10)"
   ]
  },
  {
   "cell_type": "code",
   "execution_count": 105,
   "metadata": {
    "collapsed": false
   },
   "outputs": [
    {
     "data": {
      "text/plain": [
       "<matplotlib.axes._subplots.AxesSubplot at 0x14163f1d0>"
      ]
     },
     "execution_count": 105,
     "metadata": {},
     "output_type": "execute_result"
    },
    {
     "data": {
      "image/png": "[encoded data removed]",
      "text/plain": [
       "<matplotlib.figure.Figure at 0x141541cd0>"
      ]
     },
     "metadata": {},
     "output_type": "display_data"
    }
   ],
   "source": [
    "# Plotting omitting 0-valued coeficients\n",
    "coef_df[['alcohol', 'residual_sugar', 'free_sulfur_dioxide', 'sulphates', 'total_sulfur_dioxide', 'volatile_acidity']].plot(title=\"Gridsearch Effect on Param Alpha\", figsize=(10, 8))"
   ]
  },
  {
   "cell_type": "markdown",
   "metadata": {},
   "source": [
    "## Bonus Challenge #3\n",
    "\n",
    "Attempt the same exercize using ridge and/or elasticnet, adjusting parameters for appropriate range/scale.  Also, attempt scaling."
   ]
  },
  {
   "cell_type": "code",
   "execution_count": null,
   "metadata": {
    "collapsed": true
   },
   "outputs": [],
   "source": []
  }
 ],
 "metadata": {
  "anaconda-cloud": {},
  "kernelspec": {
   "display_name": "Python [conda env:dsi]",
   "language": "python",
   "name": "conda-env-dsi-py"
  },
  "language_info": {
   "codemirror_mode": {
    "name": "ipython",
    "version": 2
   },
   "file_extension": ".py",
   "mimetype": "text/x-python",
   "name": "python",
   "nbconvert_exporter": "python",
   "pygments_lexer": "ipython2",
   "version": "2.7.12"
  }
 },
 "nbformat": 4,
 "nbformat_minor": 0
}
