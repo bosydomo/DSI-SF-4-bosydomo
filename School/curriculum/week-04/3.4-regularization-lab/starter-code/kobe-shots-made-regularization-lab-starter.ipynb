{
 "cells": [
  {
   "cell_type": "markdown",
   "metadata": {},
   "source": [
    "# Predicting shots made per game by Kobe Bryant\n",
    "\n",
    "In this lab you'll be using regularization techniques Ridge, Lasso, and Elastic Net to try and predict well how many shots Kobe Bryant made per game in his career.\n",
    "\n",
    "---\n",
    "\n",
    "### 1. Load packages and data"
   ]
  },
  {
   "cell_type": "code",
   "execution_count": 1,
   "metadata": {
    "collapsed": false
   },
   "outputs": [],
   "source": [
    "import numpy as np\n",
    "import pandas as pd\n",
    "import patsy\n",
    "import sklearn\n",
    "\n",
    "from sklearn.linear_model import Ridge, Lasso, ElasticNet, LinearRegression, RidgeCV, LassoCV, ElasticNetCV\n",
    "from sklearn.cross_validation import cross_val_score\n",
    "\n",
    "import matplotlib\n",
    "import matplotlib.pyplot as plt\n",
    "import seaborn as sns\n",
    "plt.style.use('fivethirtyeight')\n",
    "\n",
    "%config InlineBackend.figure_format = 'retina'\n",
    "%matplotlib inline"
   ]
  },
  {
   "cell_type": "code",
   "execution_count": 2,
   "metadata": {
    "collapsed": false
   },
   "outputs": [],
   "source": [
    "kobe = pd.read_csv('/Users/tyronewilliams/Desktop/DSI-SF-4/datasets/kobe_bryant/kobe_superwide_games.csv')"
   ]
  },
  {
   "cell_type": "code",
   "execution_count": 3,
   "metadata": {
    "collapsed": false
   },
   "outputs": [
    {
     "data": {
      "text/html": [
       "<div>\n",
       "<table border=\"1\" class=\"dataframe\">\n",
       "  <thead>\n",
       "    <tr style=\"text-align: right;\">\n",
       "      <th></th>\n",
       "      <th>SHOTS_MADE</th>\n",
       "      <th>AWAY_GAME</th>\n",
       "      <th>SEASON_OPPONENT:atl:1996-97</th>\n",
       "      <th>SEASON_OPPONENT:atl:1997-98</th>\n",
       "      <th>SEASON_OPPONENT:atl:1999-00</th>\n",
       "      <th>SEASON_OPPONENT:atl:2000-01</th>\n",
       "      <th>SEASON_OPPONENT:atl:2001-02</th>\n",
       "      <th>SEASON_OPPONENT:atl:2002-03</th>\n",
       "      <th>SEASON_OPPONENT:atl:2003-04</th>\n",
       "      <th>SEASON_OPPONENT:atl:2004-05</th>\n",
       "      <th>...</th>\n",
       "      <th>ACTION_TYPE:tip_layup_shot</th>\n",
       "      <th>ACTION_TYPE:tip_shot</th>\n",
       "      <th>ACTION_TYPE:turnaround_bank_shot</th>\n",
       "      <th>ACTION_TYPE:turnaround_fadeaway_bank_jump_shot</th>\n",
       "      <th>ACTION_TYPE:turnaround_fadeaway_shot</th>\n",
       "      <th>ACTION_TYPE:turnaround_finger_roll_shot</th>\n",
       "      <th>ACTION_TYPE:turnaround_hook_shot</th>\n",
       "      <th>ACTION_TYPE:turnaround_jump_shot</th>\n",
       "      <th>SEASON_GAME_NUMBER</th>\n",
       "      <th>CAREER_GAME_NUMBER</th>\n",
       "    </tr>\n",
       "  </thead>\n",
       "  <tbody>\n",
       "    <tr>\n",
       "      <th>0</th>\n",
       "      <td>0.0</td>\n",
       "      <td>0</td>\n",
       "      <td>0.0</td>\n",
       "      <td>0.0</td>\n",
       "      <td>0.0</td>\n",
       "      <td>0.0</td>\n",
       "      <td>0.0</td>\n",
       "      <td>0.0</td>\n",
       "      <td>0.0</td>\n",
       "      <td>0.0</td>\n",
       "      <td>...</td>\n",
       "      <td>0.0</td>\n",
       "      <td>0.0</td>\n",
       "      <td>0.0</td>\n",
       "      <td>0.0</td>\n",
       "      <td>0.0</td>\n",
       "      <td>0.0</td>\n",
       "      <td>0.0</td>\n",
       "      <td>0.0</td>\n",
       "      <td>1</td>\n",
       "      <td>1</td>\n",
       "    </tr>\n",
       "    <tr>\n",
       "      <th>1</th>\n",
       "      <td>0.0</td>\n",
       "      <td>1</td>\n",
       "      <td>0.0</td>\n",
       "      <td>0.0</td>\n",
       "      <td>0.0</td>\n",
       "      <td>0.0</td>\n",
       "      <td>0.0</td>\n",
       "      <td>0.0</td>\n",
       "      <td>0.0</td>\n",
       "      <td>0.0</td>\n",
       "      <td>...</td>\n",
       "      <td>0.0</td>\n",
       "      <td>0.0</td>\n",
       "      <td>0.0</td>\n",
       "      <td>0.0</td>\n",
       "      <td>0.0</td>\n",
       "      <td>0.0</td>\n",
       "      <td>0.0</td>\n",
       "      <td>0.0</td>\n",
       "      <td>2</td>\n",
       "      <td>2</td>\n",
       "    </tr>\n",
       "    <tr>\n",
       "      <th>2</th>\n",
       "      <td>2.0</td>\n",
       "      <td>1</td>\n",
       "      <td>0.0</td>\n",
       "      <td>0.0</td>\n",
       "      <td>0.0</td>\n",
       "      <td>0.0</td>\n",
       "      <td>0.0</td>\n",
       "      <td>0.0</td>\n",
       "      <td>0.0</td>\n",
       "      <td>0.0</td>\n",
       "      <td>...</td>\n",
       "      <td>0.0</td>\n",
       "      <td>0.0</td>\n",
       "      <td>0.0</td>\n",
       "      <td>0.0</td>\n",
       "      <td>0.0</td>\n",
       "      <td>0.0</td>\n",
       "      <td>0.0</td>\n",
       "      <td>0.0</td>\n",
       "      <td>3</td>\n",
       "      <td>3</td>\n",
       "    </tr>\n",
       "    <tr>\n",
       "      <th>3</th>\n",
       "      <td>2.0</td>\n",
       "      <td>1</td>\n",
       "      <td>0.0</td>\n",
       "      <td>0.0</td>\n",
       "      <td>0.0</td>\n",
       "      <td>0.0</td>\n",
       "      <td>0.0</td>\n",
       "      <td>0.0</td>\n",
       "      <td>0.0</td>\n",
       "      <td>0.0</td>\n",
       "      <td>...</td>\n",
       "      <td>0.0</td>\n",
       "      <td>0.0</td>\n",
       "      <td>0.0</td>\n",
       "      <td>0.0</td>\n",
       "      <td>0.0</td>\n",
       "      <td>0.0</td>\n",
       "      <td>0.0</td>\n",
       "      <td>0.0</td>\n",
       "      <td>4</td>\n",
       "      <td>4</td>\n",
       "    </tr>\n",
       "    <tr>\n",
       "      <th>4</th>\n",
       "      <td>0.0</td>\n",
       "      <td>0</td>\n",
       "      <td>1.0</td>\n",
       "      <td>0.0</td>\n",
       "      <td>0.0</td>\n",
       "      <td>0.0</td>\n",
       "      <td>0.0</td>\n",
       "      <td>0.0</td>\n",
       "      <td>0.0</td>\n",
       "      <td>0.0</td>\n",
       "      <td>...</td>\n",
       "      <td>0.0</td>\n",
       "      <td>0.0</td>\n",
       "      <td>0.0</td>\n",
       "      <td>0.0</td>\n",
       "      <td>0.0</td>\n",
       "      <td>0.0</td>\n",
       "      <td>0.0</td>\n",
       "      <td>0.0</td>\n",
       "      <td>5</td>\n",
       "      <td>5</td>\n",
       "    </tr>\n",
       "  </tbody>\n",
       "</table>\n",
       "<p>5 rows × 645 columns</p>\n",
       "</div>"
      ],
      "text/plain": [
       "   SHOTS_MADE  AWAY_GAME  SEASON_OPPONENT:atl:1996-97  \\\n",
       "0         0.0          0                          0.0   \n",
       "1         0.0          1                          0.0   \n",
       "2         2.0          1                          0.0   \n",
       "3         2.0          1                          0.0   \n",
       "4         0.0          0                          1.0   \n",
       "\n",
       "   SEASON_OPPONENT:atl:1997-98  SEASON_OPPONENT:atl:1999-00  \\\n",
       "0                          0.0                          0.0   \n",
       "1                          0.0                          0.0   \n",
       "2                          0.0                          0.0   \n",
       "3                          0.0                          0.0   \n",
       "4                          0.0                          0.0   \n",
       "\n",
       "   SEASON_OPPONENT:atl:2000-01  SEASON_OPPONENT:atl:2001-02  \\\n",
       "0                          0.0                          0.0   \n",
       "1                          0.0                          0.0   \n",
       "2                          0.0                          0.0   \n",
       "3                          0.0                          0.0   \n",
       "4                          0.0                          0.0   \n",
       "\n",
       "   SEASON_OPPONENT:atl:2002-03  SEASON_OPPONENT:atl:2003-04  \\\n",
       "0                          0.0                          0.0   \n",
       "1                          0.0                          0.0   \n",
       "2                          0.0                          0.0   \n",
       "3                          0.0                          0.0   \n",
       "4                          0.0                          0.0   \n",
       "\n",
       "   SEASON_OPPONENT:atl:2004-05         ...          \\\n",
       "0                          0.0         ...           \n",
       "1                          0.0         ...           \n",
       "2                          0.0         ...           \n",
       "3                          0.0         ...           \n",
       "4                          0.0         ...           \n",
       "\n",
       "   ACTION_TYPE:tip_layup_shot  ACTION_TYPE:tip_shot  \\\n",
       "0                         0.0                   0.0   \n",
       "1                         0.0                   0.0   \n",
       "2                         0.0                   0.0   \n",
       "3                         0.0                   0.0   \n",
       "4                         0.0                   0.0   \n",
       "\n",
       "   ACTION_TYPE:turnaround_bank_shot  \\\n",
       "0                               0.0   \n",
       "1                               0.0   \n",
       "2                               0.0   \n",
       "3                               0.0   \n",
       "4                               0.0   \n",
       "\n",
       "   ACTION_TYPE:turnaround_fadeaway_bank_jump_shot  \\\n",
       "0                                             0.0   \n",
       "1                                             0.0   \n",
       "2                                             0.0   \n",
       "3                                             0.0   \n",
       "4                                             0.0   \n",
       "\n",
       "   ACTION_TYPE:turnaround_fadeaway_shot  \\\n",
       "0                                   0.0   \n",
       "1                                   0.0   \n",
       "2                                   0.0   \n",
       "3                                   0.0   \n",
       "4                                   0.0   \n",
       "\n",
       "   ACTION_TYPE:turnaround_finger_roll_shot  ACTION_TYPE:turnaround_hook_shot  \\\n",
       "0                                      0.0                               0.0   \n",
       "1                                      0.0                               0.0   \n",
       "2                                      0.0                               0.0   \n",
       "3                                      0.0                               0.0   \n",
       "4                                      0.0                               0.0   \n",
       "\n",
       "   ACTION_TYPE:turnaround_jump_shot  SEASON_GAME_NUMBER  CAREER_GAME_NUMBER  \n",
       "0                               0.0                   1                   1  \n",
       "1                               0.0                   2                   2  \n",
       "2                               0.0                   3                   3  \n",
       "3                               0.0                   4                   4  \n",
       "4                               0.0                   5                   5  \n",
       "\n",
       "[5 rows x 645 columns]"
      ]
     },
     "execution_count": 3,
     "metadata": {},
     "output_type": "execute_result"
    }
   ],
   "source": [
    "kobe.head()"
   ]
  },
  {
   "cell_type": "markdown",
   "metadata": {},
   "source": [
    "---\n",
    "\n",
    "### 2. Examine the data\n",
    "\n",
    "- How many columns are there?\n",
    "- Infer what the observations (rows) and columns represent.\n",
    "- Why is this data that regularization might be particularly useful for?"
   ]
  },
  {
   "cell_type": "code",
   "execution_count": 4,
   "metadata": {
    "collapsed": false
   },
   "outputs": [
    {
     "data": {
      "text/plain": [
       "(1558, 645)"
      ]
     },
     "execution_count": 4,
     "metadata": {},
     "output_type": "execute_result"
    }
   ],
   "source": [
    "kobe.shape"
   ]
  },
  {
   "cell_type": "markdown",
   "metadata": {},
   "source": [
    "---\n",
    "\n",
    "### Make predictor and target variables. Normalize the predictors.\n",
    "\n",
    "Why is normalization necessary for regularized regressions?\n",
    "\n",
    "There is a class in sklearn.preprocessing called `StandardScaler`. Look it up and figure out how to use it to normalize your predictor matrix. "
   ]
  },
  {
   "cell_type": "code",
   "execution_count": 5,
   "metadata": {
    "collapsed": false
   },
   "outputs": [],
   "source": [
    "\n",
    "from sklearn import preprocessing\n",
    "import numpy as np"
   ]
  },
  {
   "cell_type": "code",
   "execution_count": 6,
   "metadata": {
    "collapsed": false
   },
   "outputs": [],
   "source": [
    "ss = preprocessing.StandardScaler()\n",
    "\n"
   ]
  },
  {
   "cell_type": "code",
   "execution_count": null,
   "metadata": {
    "collapsed": false
   },
   "outputs": [],
   "source": []
  },
  {
   "cell_type": "code",
   "execution_count": 7,
   "metadata": {
    "collapsed": false
   },
   "outputs": [
    {
     "data": {
      "text/html": [
       "<div>\n",
       "<table border=\"1\" class=\"dataframe\">\n",
       "  <thead>\n",
       "    <tr style=\"text-align: right;\">\n",
       "      <th></th>\n",
       "      <th>AWAY_GAME</th>\n",
       "      <th>SEASON_OPPONENT:atl:1996-97</th>\n",
       "      <th>SEASON_OPPONENT:atl:1997-98</th>\n",
       "      <th>SEASON_OPPONENT:atl:1999-00</th>\n",
       "      <th>SEASON_OPPONENT:atl:2000-01</th>\n",
       "      <th>SEASON_OPPONENT:atl:2001-02</th>\n",
       "      <th>SEASON_OPPONENT:atl:2002-03</th>\n",
       "      <th>SEASON_OPPONENT:atl:2003-04</th>\n",
       "      <th>SEASON_OPPONENT:atl:2004-05</th>\n",
       "      <th>SEASON_OPPONENT:atl:2005-06</th>\n",
       "      <th>...</th>\n",
       "      <th>ACTION_TYPE:step_back_jump_shot</th>\n",
       "      <th>ACTION_TYPE:tip_layup_shot</th>\n",
       "      <th>ACTION_TYPE:tip_shot</th>\n",
       "      <th>ACTION_TYPE:turnaround_bank_shot</th>\n",
       "      <th>ACTION_TYPE:turnaround_fadeaway_bank_jump_shot</th>\n",
       "      <th>ACTION_TYPE:turnaround_fadeaway_shot</th>\n",
       "      <th>ACTION_TYPE:turnaround_finger_roll_shot</th>\n",
       "      <th>ACTION_TYPE:turnaround_hook_shot</th>\n",
       "      <th>ACTION_TYPE:turnaround_jump_shot</th>\n",
       "      <th>SEASON_GAME_NUMBER</th>\n",
       "    </tr>\n",
       "  </thead>\n",
       "  <tbody>\n",
       "    <tr>\n",
       "      <th>0</th>\n",
       "      <td>-1.001285</td>\n",
       "      <td>-0.035852</td>\n",
       "      <td>-0.035852</td>\n",
       "      <td>-0.025343</td>\n",
       "      <td>-0.025343</td>\n",
       "      <td>-0.035852</td>\n",
       "      <td>-0.035852</td>\n",
       "      <td>-0.025343</td>\n",
       "      <td>-0.025343</td>\n",
       "      <td>-0.035852</td>\n",
       "      <td>...</td>\n",
       "      <td>-0.23895</td>\n",
       "      <td>-0.035852</td>\n",
       "      <td>-0.281806</td>\n",
       "      <td>-0.183922</td>\n",
       "      <td>-0.025343</td>\n",
       "      <td>-0.342591</td>\n",
       "      <td>-0.035746</td>\n",
       "      <td>-0.088428</td>\n",
       "      <td>-0.643218</td>\n",
       "      <td>-1.610867</td>\n",
       "    </tr>\n",
       "    <tr>\n",
       "      <th>1</th>\n",
       "      <td>0.998717</td>\n",
       "      <td>-0.035852</td>\n",
       "      <td>-0.035852</td>\n",
       "      <td>-0.025343</td>\n",
       "      <td>-0.025343</td>\n",
       "      <td>-0.035852</td>\n",
       "      <td>-0.035852</td>\n",
       "      <td>-0.025343</td>\n",
       "      <td>-0.025343</td>\n",
       "      <td>-0.035852</td>\n",
       "      <td>...</td>\n",
       "      <td>-0.23895</td>\n",
       "      <td>-0.035852</td>\n",
       "      <td>-0.281806</td>\n",
       "      <td>-0.183922</td>\n",
       "      <td>-0.025343</td>\n",
       "      <td>-0.342591</td>\n",
       "      <td>-0.035746</td>\n",
       "      <td>-0.088428</td>\n",
       "      <td>-0.643218</td>\n",
       "      <td>-1.572464</td>\n",
       "    </tr>\n",
       "    <tr>\n",
       "      <th>2</th>\n",
       "      <td>0.998717</td>\n",
       "      <td>-0.035852</td>\n",
       "      <td>-0.035852</td>\n",
       "      <td>-0.025343</td>\n",
       "      <td>-0.025343</td>\n",
       "      <td>-0.035852</td>\n",
       "      <td>-0.035852</td>\n",
       "      <td>-0.025343</td>\n",
       "      <td>-0.025343</td>\n",
       "      <td>-0.035852</td>\n",
       "      <td>...</td>\n",
       "      <td>-0.23895</td>\n",
       "      <td>-0.035852</td>\n",
       "      <td>-0.281806</td>\n",
       "      <td>-0.183922</td>\n",
       "      <td>-0.025343</td>\n",
       "      <td>-0.342591</td>\n",
       "      <td>-0.035746</td>\n",
       "      <td>-0.088428</td>\n",
       "      <td>-0.643218</td>\n",
       "      <td>-1.534062</td>\n",
       "    </tr>\n",
       "    <tr>\n",
       "      <th>3</th>\n",
       "      <td>0.998717</td>\n",
       "      <td>-0.035852</td>\n",
       "      <td>-0.035852</td>\n",
       "      <td>-0.025343</td>\n",
       "      <td>-0.025343</td>\n",
       "      <td>-0.035852</td>\n",
       "      <td>-0.035852</td>\n",
       "      <td>-0.025343</td>\n",
       "      <td>-0.025343</td>\n",
       "      <td>-0.035852</td>\n",
       "      <td>...</td>\n",
       "      <td>-0.23895</td>\n",
       "      <td>-0.035852</td>\n",
       "      <td>-0.281806</td>\n",
       "      <td>-0.183922</td>\n",
       "      <td>-0.025343</td>\n",
       "      <td>-0.342591</td>\n",
       "      <td>-0.035746</td>\n",
       "      <td>-0.088428</td>\n",
       "      <td>-0.643218</td>\n",
       "      <td>-1.495659</td>\n",
       "    </tr>\n",
       "    <tr>\n",
       "      <th>4</th>\n",
       "      <td>-1.001285</td>\n",
       "      <td>27.892651</td>\n",
       "      <td>-0.035852</td>\n",
       "      <td>-0.025343</td>\n",
       "      <td>-0.025343</td>\n",
       "      <td>-0.035852</td>\n",
       "      <td>-0.035852</td>\n",
       "      <td>-0.025343</td>\n",
       "      <td>-0.025343</td>\n",
       "      <td>-0.035852</td>\n",
       "      <td>...</td>\n",
       "      <td>-0.23895</td>\n",
       "      <td>-0.035852</td>\n",
       "      <td>-0.281806</td>\n",
       "      <td>-0.183922</td>\n",
       "      <td>-0.025343</td>\n",
       "      <td>-0.342591</td>\n",
       "      <td>-0.035746</td>\n",
       "      <td>-0.088428</td>\n",
       "      <td>-0.643218</td>\n",
       "      <td>-1.457256</td>\n",
       "    </tr>\n",
       "  </tbody>\n",
       "</table>\n",
       "<p>5 rows × 643 columns</p>\n",
       "</div>"
      ],
      "text/plain": [
       "   AWAY_GAME  SEASON_OPPONENT:atl:1996-97  SEASON_OPPONENT:atl:1997-98  \\\n",
       "0  -1.001285                    -0.035852                    -0.035852   \n",
       "1   0.998717                    -0.035852                    -0.035852   \n",
       "2   0.998717                    -0.035852                    -0.035852   \n",
       "3   0.998717                    -0.035852                    -0.035852   \n",
       "4  -1.001285                    27.892651                    -0.035852   \n",
       "\n",
       "   SEASON_OPPONENT:atl:1999-00  SEASON_OPPONENT:atl:2000-01  \\\n",
       "0                    -0.025343                    -0.025343   \n",
       "1                    -0.025343                    -0.025343   \n",
       "2                    -0.025343                    -0.025343   \n",
       "3                    -0.025343                    -0.025343   \n",
       "4                    -0.025343                    -0.025343   \n",
       "\n",
       "   SEASON_OPPONENT:atl:2001-02  SEASON_OPPONENT:atl:2002-03  \\\n",
       "0                    -0.035852                    -0.035852   \n",
       "1                    -0.035852                    -0.035852   \n",
       "2                    -0.035852                    -0.035852   \n",
       "3                    -0.035852                    -0.035852   \n",
       "4                    -0.035852                    -0.035852   \n",
       "\n",
       "   SEASON_OPPONENT:atl:2003-04  SEASON_OPPONENT:atl:2004-05  \\\n",
       "0                    -0.025343                    -0.025343   \n",
       "1                    -0.025343                    -0.025343   \n",
       "2                    -0.025343                    -0.025343   \n",
       "3                    -0.025343                    -0.025343   \n",
       "4                    -0.025343                    -0.025343   \n",
       "\n",
       "   SEASON_OPPONENT:atl:2005-06         ...          \\\n",
       "0                    -0.035852         ...           \n",
       "1                    -0.035852         ...           \n",
       "2                    -0.035852         ...           \n",
       "3                    -0.035852         ...           \n",
       "4                    -0.035852         ...           \n",
       "\n",
       "   ACTION_TYPE:step_back_jump_shot  ACTION_TYPE:tip_layup_shot  \\\n",
       "0                         -0.23895                   -0.035852   \n",
       "1                         -0.23895                   -0.035852   \n",
       "2                         -0.23895                   -0.035852   \n",
       "3                         -0.23895                   -0.035852   \n",
       "4                         -0.23895                   -0.035852   \n",
       "\n",
       "   ACTION_TYPE:tip_shot  ACTION_TYPE:turnaround_bank_shot  \\\n",
       "0             -0.281806                         -0.183922   \n",
       "1             -0.281806                         -0.183922   \n",
       "2             -0.281806                         -0.183922   \n",
       "3             -0.281806                         -0.183922   \n",
       "4             -0.281806                         -0.183922   \n",
       "\n",
       "   ACTION_TYPE:turnaround_fadeaway_bank_jump_shot  \\\n",
       "0                                       -0.025343   \n",
       "1                                       -0.025343   \n",
       "2                                       -0.025343   \n",
       "3                                       -0.025343   \n",
       "4                                       -0.025343   \n",
       "\n",
       "   ACTION_TYPE:turnaround_fadeaway_shot  \\\n",
       "0                             -0.342591   \n",
       "1                             -0.342591   \n",
       "2                             -0.342591   \n",
       "3                             -0.342591   \n",
       "4                             -0.342591   \n",
       "\n",
       "   ACTION_TYPE:turnaround_finger_roll_shot  ACTION_TYPE:turnaround_hook_shot  \\\n",
       "0                                -0.035746                         -0.088428   \n",
       "1                                -0.035746                         -0.088428   \n",
       "2                                -0.035746                         -0.088428   \n",
       "3                                -0.035746                         -0.088428   \n",
       "4                                -0.035746                         -0.088428   \n",
       "\n",
       "   ACTION_TYPE:turnaround_jump_shot  SEASON_GAME_NUMBER  \n",
       "0                         -0.643218           -1.610867  \n",
       "1                         -0.643218           -1.572464  \n",
       "2                         -0.643218           -1.534062  \n",
       "3                         -0.643218           -1.495659  \n",
       "4                         -0.643218           -1.457256  \n",
       "\n",
       "[5 rows x 643 columns]"
      ]
     },
     "execution_count": 7,
     "metadata": {},
     "output_type": "execute_result"
    }
   ],
   "source": [
    "from matplotlib import pyplot as plt\n",
    "import seaborn as sns\n",
    "\n",
    "from sklearn import datasets, linear_model\n",
    "from sklearn.metrics import mean_squared_error\n",
    "\n",
    "y = kobe[\"SHOTS_MADE\"]\n",
    "x = kobe.ix[:,1:-1]\n",
    "cols = x.columns\n",
    "x_scaled = preprocessing.StandardScaler().fit_transform(x)\n",
    "x_scaled = pd.DataFrame(x_scaled, columns=cols)\n",
    "x_scaled.head()"
   ]
  },
  {
   "cell_type": "markdown",
   "metadata": {},
   "source": [
    "---\n",
    "\n",
    "### Build a linear regression predicting `SHOTS_MADE` from the rest of the columns.\n",
    "\n",
    "Cross-validate the $R^2$ of a linear regression model with 10 cross-validation folds.\n",
    "\n",
    "How does it perform?"
   ]
  },
  {
   "cell_type": "code",
   "execution_count": 8,
   "metadata": {
    "collapsed": false
   },
   "outputs": [],
   "source": [
    "from sklearn.cross_validation import cross_val_score, cross_val_predict\n",
    "from sklearn import metrics\n",
    "import numpy as np\n",
    "import pandas as pd\n",
    "from scipy import stats\n",
    "import seaborn as sns\n",
    "\n",
    "from sklearn import datasets, linear_model\n",
    "lm = linear_model.LinearRegression()\n"
   ]
  },
  {
   "cell_type": "code",
   "execution_count": 9,
   "metadata": {
    "collapsed": false
   },
   "outputs": [],
   "source": [
    "model = lm.fit(x_scaled, y)"
   ]
  },
  {
   "cell_type": "code",
   "execution_count": 10,
   "metadata": {
    "collapsed": false
   },
   "outputs": [
    {
     "name": "stdout",
     "output_type": "stream",
     "text": [
      "Cross-validated scores: [ -2.28821279e+29  -1.36186370e+28  -6.83295783e+27  -7.79693321e+27\n",
      "  -1.50821095e+28  -5.61194667e+27  -1.83964580e+27  -2.05737746e+27\n",
      "  -1.17133609e+28  -4.11514927e+28]\n"
     ]
    }
   ],
   "source": [
    "# Perform 10-fold cross validation\n",
    "scores = cross_val_score(model, x_scaled, y, cv=10)\n",
    "print \"Cross-validated scores:\", scores"
   ]
  },
  {
   "cell_type": "code",
   "execution_count": 11,
   "metadata": {
    "collapsed": false
   },
   "outputs": [
    {
     "name": "stdout",
     "output_type": "stream",
     "text": [
      "Cross-Predicted Accuracy: -1.90276971147e+28\n"
     ]
    },
    {
     "data": {
      "image/png": "[encoded data removed]",
      "text/plain": [
       "<matplotlib.figure.Figure at 0x1046a6cd0>"
      ]
     },
     "metadata": {
      "image/png": {
       "height": 366,
       "width": 575
      }
     },
     "output_type": "display_data"
    }
   ],
   "source": [
    "# Make cross validated predictions\n",
    "predictions = cross_val_predict(model, x_scaled, y, cv=10)\n",
    "plt.scatter(y, predictions)\n",
    "\n",
    "accuracy = metrics.r2_score(y, predictions)\n",
    "\n",
    "print \"Cross-Predicted Accuracy:\", accuracy"
   ]
  },
  {
   "cell_type": "markdown",
   "metadata": {},
   "source": [
    "---\n",
    "\n",
    "### Find an optimal value for Ridge regression alpha using RidgeCV\n",
    "\n",
    "[Go to the documentation and read how RidgeCV works.](http://scikit-learn.org/stable/modules/generated/sklearn.linear_model.RidgeCV.html)\n",
    "\n",
    "Hint: once the RidgeCV is fit, the attribute `.alpha_` contains the best alpha parameter it found through cross-validation.\n",
    "\n",
    "Recall that Ridge performs best searching alphas through logarithmic space (`np.logspace`).\n"
   ]
  },
  {
   "cell_type": "code",
   "execution_count": 12,
   "metadata": {
    "collapsed": false
   },
   "outputs": [],
   "source": [
    "import patsy\n",
    "import sys\n"
   ]
  },
  {
   "cell_type": "code",
   "execution_count": 13,
   "metadata": {
    "collapsed": true
   },
   "outputs": [],
   "source": [
    "target = \"SHOTS_MADE\""
   ]
  },
  {
   "cell_type": "code",
   "execution_count": 14,
   "metadata": {
    "collapsed": false
   },
   "outputs": [],
   "source": [
    "formula_simple = target + ' ~ ' + ' + '.join(cols) + ' -1'\n",
    "formula_complex = target + '~(' +  \"+\".join(cols) + \")**2 -1\"\n"
   ]
  },
  {
   "cell_type": "code",
   "execution_count": null,
   "metadata": {
    "collapsed": false
   },
   "outputs": [],
   "source": [
    "# Create the X and Y pairs for both!\n",
    "sys.setrecursionlimit(10000)\n",
    "#Y, X = patsy.dmatrices(formula_simple, data=kobe)\n",
    "Yoverfit, Xoverfit = patsy.dmatrices(formula_complex, data=kobe)\n",
    "\n"
   ]
  },
  {
   "cell_type": "markdown",
   "metadata": {},
   "source": [
    "---\n",
    "\n",
    "### Cross-validate the Ridge $R^2$ with the optimal alpha.\n",
    "\n",
    "Is it better than the Linear regression? If so, why would this be?"
   ]
  },
  {
   "cell_type": "code",
   "execution_count": null,
   "metadata": {
    "collapsed": false
   },
   "outputs": [],
   "source": [
    "Yoverfit"
   ]
  },
  {
   "cell_type": "markdown",
   "metadata": {},
   "source": [
    "---\n",
    "\n",
    "### Find an optimal value for Lasso regression alpha using LassoCV\n",
    "\n",
    "[Go to the documentation and read how LassoCV works.](http://scikit-learn.org/stable/modules/generated/sklearn.linear_model.LassoCV.html) It is very similar to RidgeCV.\n",
    "\n",
    "Hint: again, once the LassoCV is fit, the attribute `.alpha_` contains the best alpha parameter it found through cross-validation.\n",
    "\n",
    "Recall that Lasso, unlike Ridge, performs best searching alphas through linear space (`np.linspace`). However, you can actually let the LassoCV decide itself what alphas to use by instead setting the keyword argument `n_alphas=` to however many alphas you want it to search over."
   ]
  },
  {
   "cell_type": "code",
   "execution_count": null,
   "metadata": {
    "collapsed": false
   },
   "outputs": [],
   "source": []
  },
  {
   "cell_type": "markdown",
   "metadata": {},
   "source": [
    "---\n",
    "\n",
    "### Cross-validate the Lasso $R^2$ with the optimal alpha.\n",
    "\n",
    "Is it better than the Linear regression? Is it better than Ridge? For each, why would this be?\n",
    "\n",
    "Depending on which $R^2$ is better between the Ridge and Lasso, what can you infer about the primary issue in the data?"
   ]
  },
  {
   "cell_type": "code",
   "execution_count": null,
   "metadata": {
    "collapsed": true
   },
   "outputs": [],
   "source": []
  },
  {
   "cell_type": "markdown",
   "metadata": {},
   "source": [
    "---\n",
    "\n",
    "### Look at the coefficients for variables in the Lasso.\n",
    "\n",
    "1. Show the coefficient for variables, ordered from largest to smallest coefficient by absolute value.\n",
    "2. What percent of the variables in the original dataset are \"zeroed-out\" by the lasso?\n",
    "3. What are the most important predictors for how many shots kobe made in a game?\n",
    "\n",
    "Note: if you only fit the Lasso within cross_val_score, you will have to refit it outside of that\n",
    "function to pull out the coefficients."
   ]
  },
  {
   "cell_type": "code",
   "execution_count": null,
   "metadata": {
    "collapsed": false
   },
   "outputs": [],
   "source": []
  },
  {
   "cell_type": "markdown",
   "metadata": {},
   "source": [
    "---\n",
    "\n",
    "### Find an optimal value for Elastic Net regression alpha using ElasticNetCV\n",
    "\n",
    "[Go to the documentation and read how LassoCV works.](http://scikit-learn.org/stable/modules/generated/sklearn.linear_model.ElasticNetCV.html).\n",
    "\n",
    "Note here that you will be optimizing both the alpha parameter and the l1_ratio:\n",
    "\n",
    "    alpha: strength of regularization\n",
    "    l1_ratio: amount of ridge vs. lasso (0 = all ridge, 1 = all lasso)\n",
    "    \n",
    "Do not include 0 in the search for l1_ratio: it will not allow it and break!\n",
    "\n",
    "You can use n_alphas for the alpha parameters instead of setting your own values: highly recommended!\n",
    "\n",
    "Also - be careful setting too many l1_ratios over cross-validation folds in your search. It can take a very long time if you choose too many combinations and for the most part there are diminishing returns in this data."
   ]
  },
  {
   "cell_type": "code",
   "execution_count": null,
   "metadata": {
    "collapsed": false
   },
   "outputs": [],
   "source": []
  },
  {
   "cell_type": "markdown",
   "metadata": {},
   "source": [
    "---\n",
    "\n",
    "### Cross-validate the ElasticNet $R^2$ with the optimal alpha and l1_ratio.\n",
    "\n",
    "How does it compare to the other regularized regressions?"
   ]
  },
  {
   "cell_type": "code",
   "execution_count": null,
   "metadata": {
    "collapsed": true
   },
   "outputs": [],
   "source": []
  },
  {
   "cell_type": "markdown",
   "metadata": {},
   "source": [
    "---\n",
    "\n",
    "### Plot the residuals for the ridge, lasso, and elastic net on histograms\n",
    "\n",
    "This is another way to look at the performance of your model.\n",
    "\n",
    "The tighter the distribution of residuals around zero, the better your model has performed!"
   ]
  },
  {
   "cell_type": "code",
   "execution_count": null,
   "metadata": {
    "collapsed": true
   },
   "outputs": [],
   "source": []
  }
 ],
 "metadata": {
  "anaconda-cloud": {},
  "kernelspec": {
   "display_name": "Python [conda env:dsi]",
   "language": "python",
   "name": "conda-env-dsi-py"
  },
  "language_info": {
   "codemirror_mode": {
    "name": "ipython",
    "version": 2
   },
   "file_extension": ".py",
   "mimetype": "text/x-python",
   "name": "python",
   "nbconvert_exporter": "python",
   "pygments_lexer": "ipython2",
   "version": "2.7.12"
  }
 },
 "nbformat": 4,
 "nbformat_minor": 0
}
